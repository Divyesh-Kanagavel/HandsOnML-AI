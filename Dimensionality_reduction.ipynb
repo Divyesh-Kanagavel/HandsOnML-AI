{
 "cells": [
  {
   "cell_type": "markdown",
   "metadata": {},
   "source": [
    "There are many ways of feature selection : \\\n",
    "a. Using regularization to zero out a few weights [especially L1 regression] and cut down on a few features of low relevance. \\\n",
    "b. Sequential Backward Selection : Iteratively remove feature of lowest relevance till you have the required number of features / the performance of model does not go down by much. \\\n",
    "c. SFM : Use Random Forest to rank features in the order of their importance in the objective and select the ones with the maximum contribution. \\\n",
    "\n",
    "There is another method of feature selection - feature extraction. Summarizing the information contained in the original feature space by transforming them into other important features. \\\n",
    "Methods : \\\n",
    "PCA : Principal Component Analysis. \\\n",
    "LDA : Linear Discriminant Analysis. \\\n",
    "KPCA : Kernal Principal Component Analysis. \\\n"
   ]
  },
  {
   "cell_type": "markdown",
   "metadata": {},
   "source": [
    "PCA : linear transformation technique - used primarily for feature extraction and dimensionality reduction. other applications include exploratory data analyses, de-noising of signals. \\\n",
    "It helps find patterns in data based on correlation between features. \\\n",
    "PCA aims to find directions of maximum variance high-dimensional data and projects it onto a new subspace with equal or fewer dimensions than the original one."
   ]
  },
  {
   "cell_type": "markdown",
   "metadata": {},
   "source": [
    "If we use PCA for dimensionality reduction, we construct a kXn dimensional matrix which forms a map from n dimensional original data to k-dimensional projection which has the k features extracted from the d-dimensional data. [k < d]. The first projected feature will have highest variance, and then the other features will be of high variance as well and one more property is that the features are orthogonal to each other in the d-dimensional spce being completeley independent. \\\n",
    "\n",
    "PCA directions are highly sensitive to feature scaling and hence, the features have to normalized before PCA."
   ]
  },
  {
   "cell_type": "markdown",
   "metadata": {},
   "source": [
    "PCA algorithm : \\\n",
    "1. Standardize the dataset. \\\n",
    "2. construct the covariance matrix. \\\n",
    "3. Decompose the covariance matrix into eigen vector and eigen values. \\\n",
    "4. Sort the eigen values and choose eigen vector corresponding to the eigen values. \\\n",
    "5. Select the top k eigen values and their eigen vectors. \\\n",
    "6. Construct the projection matrix W from the top k eigen vectors. \\\n",
    "7. Transform the d-dimensional input dataset X using the projection matrix X to get the k-dimensional feature space.  "
   ]
  },
  {
   "cell_type": "code",
   "execution_count": 1,
   "metadata": {},
   "outputs": [
    {
     "data": {
      "text/html": [
       "<div>\n",
       "<style scoped>\n",
       "    .dataframe tbody tr th:only-of-type {\n",
       "        vertical-align: middle;\n",
       "    }\n",
       "\n",
       "    .dataframe tbody tr th {\n",
       "        vertical-align: top;\n",
       "    }\n",
       "\n",
       "    .dataframe thead th {\n",
       "        text-align: right;\n",
       "    }\n",
       "</style>\n",
       "<table border=\"1\" class=\"dataframe\">\n",
       "  <thead>\n",
       "    <tr style=\"text-align: right;\">\n",
       "      <th></th>\n",
       "      <th>0</th>\n",
       "      <th>1</th>\n",
       "      <th>2</th>\n",
       "      <th>3</th>\n",
       "      <th>4</th>\n",
       "      <th>5</th>\n",
       "      <th>6</th>\n",
       "      <th>7</th>\n",
       "      <th>8</th>\n",
       "      <th>9</th>\n",
       "      <th>10</th>\n",
       "      <th>11</th>\n",
       "      <th>12</th>\n",
       "      <th>13</th>\n",
       "    </tr>\n",
       "  </thead>\n",
       "  <tbody>\n",
       "    <tr>\n",
       "      <th>0</th>\n",
       "      <td>1</td>\n",
       "      <td>14.23</td>\n",
       "      <td>1.71</td>\n",
       "      <td>2.43</td>\n",
       "      <td>15.6</td>\n",
       "      <td>127</td>\n",
       "      <td>2.80</td>\n",
       "      <td>3.06</td>\n",
       "      <td>0.28</td>\n",
       "      <td>2.29</td>\n",
       "      <td>5.64</td>\n",
       "      <td>1.04</td>\n",
       "      <td>3.92</td>\n",
       "      <td>1065</td>\n",
       "    </tr>\n",
       "    <tr>\n",
       "      <th>1</th>\n",
       "      <td>1</td>\n",
       "      <td>13.20</td>\n",
       "      <td>1.78</td>\n",
       "      <td>2.14</td>\n",
       "      <td>11.2</td>\n",
       "      <td>100</td>\n",
       "      <td>2.65</td>\n",
       "      <td>2.76</td>\n",
       "      <td>0.26</td>\n",
       "      <td>1.28</td>\n",
       "      <td>4.38</td>\n",
       "      <td>1.05</td>\n",
       "      <td>3.40</td>\n",
       "      <td>1050</td>\n",
       "    </tr>\n",
       "    <tr>\n",
       "      <th>2</th>\n",
       "      <td>1</td>\n",
       "      <td>13.16</td>\n",
       "      <td>2.36</td>\n",
       "      <td>2.67</td>\n",
       "      <td>18.6</td>\n",
       "      <td>101</td>\n",
       "      <td>2.80</td>\n",
       "      <td>3.24</td>\n",
       "      <td>0.30</td>\n",
       "      <td>2.81</td>\n",
       "      <td>5.68</td>\n",
       "      <td>1.03</td>\n",
       "      <td>3.17</td>\n",
       "      <td>1185</td>\n",
       "    </tr>\n",
       "    <tr>\n",
       "      <th>3</th>\n",
       "      <td>1</td>\n",
       "      <td>14.37</td>\n",
       "      <td>1.95</td>\n",
       "      <td>2.50</td>\n",
       "      <td>16.8</td>\n",
       "      <td>113</td>\n",
       "      <td>3.85</td>\n",
       "      <td>3.49</td>\n",
       "      <td>0.24</td>\n",
       "      <td>2.18</td>\n",
       "      <td>7.80</td>\n",
       "      <td>0.86</td>\n",
       "      <td>3.45</td>\n",
       "      <td>1480</td>\n",
       "    </tr>\n",
       "    <tr>\n",
       "      <th>4</th>\n",
       "      <td>1</td>\n",
       "      <td>13.24</td>\n",
       "      <td>2.59</td>\n",
       "      <td>2.87</td>\n",
       "      <td>21.0</td>\n",
       "      <td>118</td>\n",
       "      <td>2.80</td>\n",
       "      <td>2.69</td>\n",
       "      <td>0.39</td>\n",
       "      <td>1.82</td>\n",
       "      <td>4.32</td>\n",
       "      <td>1.04</td>\n",
       "      <td>2.93</td>\n",
       "      <td>735</td>\n",
       "    </tr>\n",
       "  </tbody>\n",
       "</table>\n",
       "</div>"
      ],
      "text/plain": [
       "   0      1     2     3     4    5     6     7     8     9     10    11    12  \\\n",
       "0   1  14.23  1.71  2.43  15.6  127  2.80  3.06  0.28  2.29  5.64  1.04  3.92   \n",
       "1   1  13.20  1.78  2.14  11.2  100  2.65  2.76  0.26  1.28  4.38  1.05  3.40   \n",
       "2   1  13.16  2.36  2.67  18.6  101  2.80  3.24  0.30  2.81  5.68  1.03  3.17   \n",
       "3   1  14.37  1.95  2.50  16.8  113  3.85  3.49  0.24  2.18  7.80  0.86  3.45   \n",
       "4   1  13.24  2.59  2.87  21.0  118  2.80  2.69  0.39  1.82  4.32  1.04  2.93   \n",
       "\n",
       "     13  \n",
       "0  1065  \n",
       "1  1050  \n",
       "2  1185  \n",
       "3  1480  \n",
       "4   735  "
      ]
     },
     "execution_count": 1,
     "metadata": {},
     "output_type": "execute_result"
    }
   ],
   "source": [
    "#PCA algorith step by step\n",
    "import pandas as pd\n",
    "df_wine = pd.read_csv('https://archive.ics.uci.edu/ml/'\n",
    "                         'machine-learning-databases/wine/wine.data',\n",
    "                         header=None)\n",
    "df_wine.head()"
   ]
  },
  {
   "cell_type": "code",
   "execution_count": 2,
   "metadata": {},
   "outputs": [],
   "source": [
    "# split into train and test split\n",
    "from sklearn.model_selection import train_test_split\n",
    "y = df_wine.iloc[:,0].values\n",
    "X = df_wine.iloc[:,1:].values"
   ]
  },
  {
   "cell_type": "code",
   "execution_count": 3,
   "metadata": {},
   "outputs": [],
   "source": [
    "X_train, X_test, y_train, y_test = train_test_split(X, y, test_size=0.3, stratify=y,random_state = 42) "
   ]
  },
  {
   "cell_type": "code",
   "execution_count": 4,
   "metadata": {},
   "outputs": [
    {
     "name": "stdout",
     "output_type": "stream",
     "text": [
      "(124, 13)\n",
      "(54, 13)\n",
      "(54,)\n",
      "(124,)\n"
     ]
    }
   ],
   "source": [
    "print(X_train.shape)\n",
    "print(X_test.shape)\n",
    "print(y_test.shape)\n",
    "print(y_train.shape)\n",
    "\n"
   ]
  },
  {
   "cell_type": "code",
   "execution_count": 5,
   "metadata": {},
   "outputs": [],
   "source": [
    "from sklearn.preprocessing import StandardScaler\n",
    "sc = StandardScaler()\n",
    "X_train_std = sc.fit_transform(X_train)\n",
    "X_test_std = sc.transform(X_test)\n"
   ]
  },
  {
   "cell_type": "code",
   "execution_count": 6,
   "metadata": {},
   "outputs": [
    {
     "name": "stdout",
     "output_type": "stream",
     "text": [
      "(13,)\n",
      "(13, 13)\n"
     ]
    },
    {
     "data": {
      "text/plain": [
       "(None, None)"
      ]
     },
     "execution_count": 6,
     "metadata": {},
     "output_type": "execute_result"
    }
   ],
   "source": [
    "#constuction of covariance matrix  : this matrix stores the pairwise variance between two different features.\n",
    "# sigma_jk = sum_{i=1}^n (x_i - mu_i)(x_j - mu_j)\n",
    "# a postive covariane => features increase or decrease together, negative covariance => features move in opposite direction.\n",
    "import numpy as np\n",
    "cov_mat = np.cov(X_train_std.T) # each row in X_train_std is a feature\n",
    "eigen_vals, eigen_vec = np.linalg.eig(cov_mat)\n",
    "print(eigen_vals.shape), print(eigen_vec.shape)\n",
    "\n",
    "\n"
   ]
  },
  {
   "cell_type": "code",
   "execution_count": 7,
   "metadata": {},
   "outputs": [
    {
     "data": {
      "text/plain": [
       "(13, 13)"
      ]
     },
     "execution_count": 7,
     "metadata": {},
     "output_type": "execute_result"
    }
   ],
   "source": [
    "cov_mat.shape"
   ]
  },
  {
   "cell_type": "code",
   "execution_count": 8,
   "metadata": {},
   "outputs": [
    {
     "name": "stdout",
     "output_type": "stream",
     "text": [
      "[4.68272277 2.5174937  1.44251124 0.95025687 0.91388156 0.70002767\n",
      " 0.59696802 0.09544816 0.14241154 0.31659155 0.22087117 0.26741076\n",
      " 0.25909606]\n"
     ]
    }
   ],
   "source": [
    "print(eigen_vals)"
   ]
  },
  {
   "cell_type": "markdown",
   "metadata": {},
   "source": [
    "Eigen vectors represent principal components [orthogonal axes] which represent directions of maximum variance and eigen values represent magnitude of that variance.\n"
   ]
  },
  {
   "cell_type": "markdown",
   "metadata": {},
   "source": [
    "Note : The numpy.linalg.eig function was designed to operate on both symmetric and non-symmetric square matrices. However, you may find that it returns complex eigen values.\n",
    "A related function, numpy.linalg.eigh, has been implemented to decompose Hermetian matrices, which is a numerically more stable approach to work with symmetric matrices such as the covariance matrix; numpy.linalg.eigh always returns real eigenvalues."
   ]
  },
  {
   "cell_type": "code",
   "execution_count": 9,
   "metadata": {},
   "outputs": [
    {
     "name": "stdout",
     "output_type": "stream",
     "text": [
      "1.1546319456101628e-14\n",
      "-9.343279864225444\n"
     ]
    }
   ],
   "source": [
    "# experiment : use eigh to get eigen vectors and eigen values and compare it with eig outputs.\n",
    "eigen_valsh, eigen_vech = np.linalg.eigh(cov_mat)\n",
    "print((eigen_valsh - eigen_vals).sum())\n",
    "print((eigen_vech - eigen_vec).sum())"
   ]
  },
  {
   "cell_type": "code",
   "execution_count": 10,
   "metadata": {},
   "outputs": [
    {
     "name": "stdout",
     "output_type": "stream",
     "text": [
      "[4.68272277 2.5174937  1.44251124 0.95025687 0.91388156 0.70002767\n",
      " 0.59696802 0.09544816 0.14241154 0.31659155 0.22087117 0.26741076\n",
      " 0.25909606]\n"
     ]
    }
   ],
   "source": [
    "print(eigen_vals)"
   ]
  },
  {
   "cell_type": "code",
   "execution_count": 11,
   "metadata": {},
   "outputs": [
    {
     "name": "stdout",
     "output_type": "stream",
     "text": [
      "[0.09544816 0.14241154 0.22087117 0.25909606 0.26741076 0.31659155\n",
      " 0.59696802 0.70002767 0.91388156 0.95025687 1.44251124 2.5174937\n",
      " 4.68272277]\n"
     ]
    }
   ],
   "source": [
    "print(eigen_valsh)"
   ]
  },
  {
   "cell_type": "markdown",
   "metadata": {},
   "source": [
    "eigh returns results with eigen values sorted. \n",
    "some additional info : \\ \n",
    "eigh guarantees you that the eigenvalues are sorted and uses a faster algorithm that takes advantage of the fact that the matrix is symmetric. If you know that your matrix is symmetric, use this function.\n",
    "Attention, eigh doesn't check if your matrix is indeed symmetric, it by default just takes the lower triangular part of the matrix and assumes that the upper triangular part is defined by the symmetry of the matrix.\n",
    "\n",
    "eig works for general matrices and therefore uses a slower algorithm, you can check that for example with IPythons magic command %timeit. If you test with larger matrices, you will also see that in general the eigenvalues are not sorted here."
   ]
  },
  {
   "cell_type": "markdown",
   "metadata": {},
   "source": [
    "Let us check for the fastness with both eig and eigh"
   ]
  },
  {
   "cell_type": "code",
   "execution_count": 12,
   "metadata": {},
   "outputs": [
    {
     "name": "stdout",
     "output_type": "stream",
     "text": [
      "21.6 µs ± 132 ns per loop (mean ± std. dev. of 7 runs, 10,000 loops each)\n"
     ]
    }
   ],
   "source": [
    "%%timeit\n",
    "eigen_vals, eigen_vec = np.linalg.eig(cov_mat)"
   ]
  },
  {
   "cell_type": "markdown",
   "metadata": {},
   "source": []
  },
  {
   "cell_type": "code",
   "execution_count": 13,
   "metadata": {},
   "outputs": [
    {
     "name": "stdout",
     "output_type": "stream",
     "text": [
      "10.4 µs ± 128 ns per loop (mean ± std. dev. of 7 runs, 100,000 loops each)\n"
     ]
    }
   ],
   "source": [
    "%%timeit\n",
    "eigen_valsh, eigen_vech = np.linalg.eigh(cov_mat)"
   ]
  },
  {
   "cell_type": "markdown",
   "metadata": {},
   "source": [
    "we see a 2X speedup with eigh since it assumes symmetric matrix and runs a faster algorithm\n"
   ]
  },
  {
   "cell_type": "markdown",
   "metadata": {},
   "source": [
    "The idea is to choose a subset of feature space defined by the eigen vectors and eigen values and choose only the ones with maximum variance [since that will encode a large amount of information from the data]."
   ]
  },
  {
   "cell_type": "markdown",
   "metadata": {},
   "source": [
    "Total and explained variance : \\\n",
    "Variance explained ratios is just the eigen value associated with a feature divided by the sum of eigen values. \n",
    "Explained varaince ratio = $\\frac{\\lambda _j}{\\sum _{j=1}^{j=d} \\lambda _j}$"
   ]
  },
  {
   "cell_type": "code",
   "execution_count": 14,
   "metadata": {},
   "outputs": [
    {
     "data": {
      "text/plain": [
       "<matplotlib.legend.Legend at 0x2b59d10d0>"
      ]
     },
     "execution_count": 14,
     "metadata": {},
     "output_type": "execute_result"
    },
    {
     "data": {
      "image/png": "[encoded data removed]",
      "text/plain": [
       "<Figure size 640x480 with 1 Axes>"
      ]
     },
     "metadata": {},
     "output_type": "display_data"
    }
   ],
   "source": [
    "import matplotlib.pyplot as plt\n",
    "tot = sum(eigen_vals)\n",
    "exp_var = [(i/tot) for i in sorted(eigen_vals, reverse=True)]\n",
    "cum_var = np.cumsum(exp_var)\n",
    "plt.bar(range(1,14), exp_var,alpha=0.5, align='center',label='individual variance')\n",
    "plt.step(range(1,14), cum_var, where='mid', label='cumulative variance')\n",
    "plt.xlabel(\"principal component index\")\n",
    "plt.ylabel(\"variance\")\n",
    "plt.legend(loc=\"best\")"
   ]
  },
  {
   "cell_type": "markdown",
   "metadata": {},
   "source": [
    "the first principal component itself 40 percent of total variance and the first two combined hold 60 percent of variance. \\\n",
    "\n",
    "In the selectFromModel using randomForests, we used the best few features making use of class labels and hence that was supervised learning. Here, class labels are not supplied at all, we are trying to find a new feature space with maximum variance [densest info] based on the existing features of data."
   ]
  },
  {
   "cell_type": "markdown",
   "metadata": {},
   "source": [
    "The next steps are to pick top k eigen values and construct a matrix W with the k eigen vectors which is of shape kXd. then multiply with original dataset matrix to get reduced feature space dataset."
   ]
  },
  {
   "cell_type": "code",
   "execution_count": 15,
   "metadata": {},
   "outputs": [
    {
     "name": "stdout",
     "output_type": "stream",
     "text": [
      "13\n"
     ]
    }
   ],
   "source": [
    "eig_pairs = [(np.abs(eigen_vals[i]), eigen_vec[:,i]) for i in range(len(eigen_vals))]\n",
    "print(len(eig_pairs))"
   ]
  },
  {
   "cell_type": "code",
   "execution_count": 16,
   "metadata": {},
   "outputs": [],
   "source": [
    "eig_pairs.sort(key=lambda x : x[0], reverse=True)"
   ]
  },
  {
   "cell_type": "markdown",
   "metadata": {},
   "source": [
    "For easier visualization we choose the top two features which contain 60 percent of total variance. In practice, the number of principal components chosen is decided by the computational efficiency vs model performance metric."
   ]
  },
  {
   "cell_type": "code",
   "execution_count": 17,
   "metadata": {},
   "outputs": [
    {
     "data": {
      "text/plain": [
       "4.6827227704729895"
      ]
     },
     "execution_count": 17,
     "metadata": {},
     "output_type": "execute_result"
    }
   ],
   "source": [
    "eig_pairs[0][0]"
   ]
  },
  {
   "cell_type": "code",
   "execution_count": 18,
   "metadata": {},
   "outputs": [
    {
     "data": {
      "text/plain": [
       "(13,)"
      ]
     },
     "execution_count": 18,
     "metadata": {},
     "output_type": "execute_result"
    }
   ],
   "source": [
    "eig_pairs[0][1].shape"
   ]
  },
  {
   "cell_type": "code",
   "execution_count": 19,
   "metadata": {},
   "outputs": [
    {
     "data": {
      "text/plain": [
       "(13, 1)"
      ]
     },
     "execution_count": 19,
     "metadata": {},
     "output_type": "execute_result"
    }
   ],
   "source": [
    "eig_pairs[0][1][:,np.newaxis].shape"
   ]
  },
  {
   "cell_type": "code",
   "execution_count": 20,
   "metadata": {},
   "outputs": [],
   "source": [
    "W  = np.hstack((eig_pairs[0][1][:,np.newaxis], eig_pairs[1][1][:,np.newaxis]))"
   ]
  },
  {
   "cell_type": "code",
   "execution_count": 21,
   "metadata": {},
   "outputs": [
    {
     "data": {
      "text/plain": [
       "(13, 2)"
      ]
     },
     "execution_count": 21,
     "metadata": {},
     "output_type": "execute_result"
    }
   ],
   "source": [
    "W.shape"
   ]
  },
  {
   "cell_type": "code",
   "execution_count": 22,
   "metadata": {},
   "outputs": [
    {
     "data": {
      "text/plain": [
       "array([[ 0.15763477,  0.49414675],\n",
       "       [-0.25237011,  0.1670862 ],\n",
       "       [-0.01662626,  0.33581955],\n",
       "       [-0.23514225, -0.0230456 ],\n",
       "       [ 0.14285062,  0.2816766 ],\n",
       "       [ 0.38989121,  0.07164769],\n",
       "       [ 0.42596901,  0.00569565],\n",
       "       [-0.28675917,  0.04855187],\n",
       "       [ 0.30864294,  0.00589032],\n",
       "       [-0.08886736,  0.52633004],\n",
       "       [ 0.30119689, -0.28399523],\n",
       "       [ 0.37783572, -0.18136641],\n",
       "       [ 0.28836287,  0.3703045 ]])"
      ]
     },
     "execution_count": 22,
     "metadata": {},
     "output_type": "execute_result"
    }
   ],
   "source": [
    "W"
   ]
  },
  {
   "cell_type": "markdown",
   "metadata": {},
   "source": [
    "W is the projection matrix created from the eigen vectors which will help us project the data points X to two dimensional principal component feature space."
   ]
  },
  {
   "cell_type": "code",
   "execution_count": 23,
   "metadata": {},
   "outputs": [
    {
     "data": {
      "text/plain": [
       "(124, 13)"
      ]
     },
     "execution_count": 23,
     "metadata": {},
     "output_type": "execute_result"
    }
   ],
   "source": [
    "X_train_std.shape"
   ]
  },
  {
   "cell_type": "markdown",
   "metadata": {},
   "source": [
    "124X13 matrix is projected to 124X2 matrix"
   ]
  },
  {
   "cell_type": "code",
   "execution_count": 24,
   "metadata": {},
   "outputs": [],
   "source": [
    "X_train_pca = np.matmul(X_train_std, W)"
   ]
  },
  {
   "cell_type": "code",
   "execution_count": 25,
   "metadata": {},
   "outputs": [
    {
     "data": {
      "text/plain": [
       "((124,), (124, 2))"
      ]
     },
     "execution_count": 25,
     "metadata": {},
     "output_type": "execute_result"
    }
   ],
   "source": [
    "y_train.shape,X_train_pca.shape"
   ]
  },
  {
   "cell_type": "code",
   "execution_count": 26,
   "metadata": {},
   "outputs": [
    {
     "data": {
      "image/png": "[encoded data removed]",
      "text/plain": [
       "<Figure size 640x480 with 1 Axes>"
      ]
     },
     "metadata": {},
     "output_type": "display_data"
    }
   ],
   "source": [
    "#visualization plot\n",
    "colors = ['r','b','g']\n",
    "markers = ['o','x', 's']\n",
    "for label, color, marker in zip(np.unique(y_train), colors, markers):\n",
    "    plt.scatter(X_train_pca[y_train == label,0], X_train_pca[y_train==label,1],  c = color, label=label, marker=marker)\n",
    "plt.xlabel(\"PC 1\")\n",
    "plt.ylabel(\"PC 2\")\n",
    "plt.legend(loc=\"best\")\n",
    "plt.show()"
   ]
  },
  {
   "cell_type": "markdown",
   "metadata": {},
   "source": [
    "The variance along PC1 is higher than variance along PC 2. upon glancing the data, a linear classifier might be able to classify the data into three classes easily.\n"
   ]
  },
  {
   "cell_type": "code",
   "execution_count": 27,
   "metadata": {},
   "outputs": [
    {
     "name": "stderr",
     "output_type": "stream",
     "text": [
      "/var/folders/pn/41l3cmvn0llckvh459j67qcw0000gn/T/ipykernel_1363/4290952262.py:20: UserWarning: *c* argument looks like a single numeric RGB or RGBA sequence, which should be avoided as value-mapping will have precedence in case its length matches with *x* & *y*.  Please use the *color* keyword-argument or provide a 2D array with a single row if you intend to specify the same RGB or RGBA value for all points.\n",
      "  plt.scatter(x=X[y == cl, 0],\n",
      "/var/folders/pn/41l3cmvn0llckvh459j67qcw0000gn/T/ipykernel_1363/4290952262.py:20: UserWarning: You passed a edgecolor/edgecolors ('black') for an unfilled marker ('x').  Matplotlib is ignoring the edgecolor in favor of the facecolor.  This behavior may change in the future.\n",
      "  plt.scatter(x=X[y == cl, 0],\n"
     ]
    },
    {
     "data": {
      "image/png": "[encoded data removed]",
      "text/plain": [
       "<Figure size 640x480 with 1 Axes>"
      ]
     },
     "metadata": {},
     "output_type": "display_data"
    }
   ],
   "source": [
    "#Principal component analysis in sklearn\n",
    "from matplotlib.colors import ListedColormap\n",
    "def plot_decision_regions(X, y, classifier, resolution=0.02):\n",
    "       # setup marker generator and color map\n",
    "       markers = ('s', 'x', 'o', '^', 'v')\n",
    "       colors = ('red', 'blue', 'lightgreen', 'gray', 'cyan')\n",
    "       cmap = ListedColormap(colors[:len(np.unique(y))])\n",
    "       # plot the decision surface\n",
    "       x1_min, x1_max = X[:, 0].min() - 1, X[:, 0].max() + 1\n",
    "       x2_min, x2_max = X[:, 1].min() - 1, X[:, 1].max() + 1\n",
    "       xx1, xx2 = np.meshgrid(np.arange(x1_min, x1_max, resolution),\n",
    "                              np.arange(x2_min, x2_max, resolution))\n",
    "       Z = classifier.predict(np.array([xx1.ravel(), xx2.ravel()]).T)\n",
    "       Z = Z.reshape(xx1.shape)\n",
    "       plt.contourf(xx1, xx2, Z, alpha=0.4, cmap=cmap)\n",
    "       plt.xlim(xx1.min(), xx1.max())\n",
    "       plt.ylim(xx2.min(), xx2.max())\n",
    "       # plot class samples\n",
    "       for idx, cl in enumerate(np.unique(y)):\n",
    "           plt.scatter(x=X[y == cl, 0],\n",
    "                       y=X[y == cl, 1],\n",
    "                       alpha=0.6,\n",
    "                       c=cmap(idx),\n",
    "                       edgecolor='black',\n",
    "                       marker=markers[idx],\n",
    "                       label=cl)\n",
    "\n",
    "from sklearn.linear_model import LogisticRegression\n",
    "from sklearn.decomposition import PCA\n",
    "lr = LogisticRegression()\n",
    "pca  = PCA(n_components = 2)\n",
    "X_train_pca = pca.fit_transform(X_train_std)\n",
    "lr.fit(X_train_pca,y_train)\n",
    "plot_decision_regions(X_train_pca, y_train, classifier=lr)\n",
    "plt.xlabel(\"PC 1\")\n",
    "plt.ylabel(\"PC 2\")\n",
    "plt.legend(loc='best')\n",
    "plt.show()"
   ]
  },
  {
   "cell_type": "markdown",
   "metadata": {},
   "source": [
    "The plot obtained from sklearn and custom implementation could be mirror images of each other -> this is due to eigen solver giving contrasting signs for eigen vectors and there is nothing inherently wrong in the implementations.\n",
    "W.v = $\\lambda$.v , also, W.-v = $\\lambda$.-v"
   ]
  },
  {
   "cell_type": "code",
   "execution_count": 28,
   "metadata": {},
   "outputs": [
    {
     "name": "stderr",
     "output_type": "stream",
     "text": [
      "/var/folders/pn/41l3cmvn0llckvh459j67qcw0000gn/T/ipykernel_1363/4290952262.py:20: UserWarning: *c* argument looks like a single numeric RGB or RGBA sequence, which should be avoided as value-mapping will have precedence in case its length matches with *x* & *y*.  Please use the *color* keyword-argument or provide a 2D array with a single row if you intend to specify the same RGB or RGBA value for all points.\n",
      "  plt.scatter(x=X[y == cl, 0],\n",
      "/var/folders/pn/41l3cmvn0llckvh459j67qcw0000gn/T/ipykernel_1363/4290952262.py:20: UserWarning: You passed a edgecolor/edgecolors ('black') for an unfilled marker ('x').  Matplotlib is ignoring the edgecolor in favor of the facecolor.  This behavior may change in the future.\n",
      "  plt.scatter(x=X[y == cl, 0],\n"
     ]
    },
    {
     "data": {
      "image/png": "[encoded data removed]",
      "text/plain": [
       "<Figure size 640x480 with 1 Axes>"
      ]
     },
     "metadata": {},
     "output_type": "display_data"
    }
   ],
   "source": [
    "#testing it out on the test set\n",
    "X_test_pca = pca.transform(X_test_std)\n",
    "plot_decision_regions(X_test_pca, y_test, classifier=lr)\n",
    "plt.xlabel(\"PC 1\")\n",
    "plt.ylabel(\"PC 2\")\n",
    "plt.legend(loc='best')\n",
    "plt.show()"
   ]
  },
  {
   "cell_type": "markdown",
   "metadata": {},
   "source": [
    "The performance is decent with some misclassifications for the red samples which appear in the blue region."
   ]
  },
  {
   "cell_type": "markdown",
   "metadata": {},
   "source": [
    "If with sklearn's implementation, if we want the explained ratios of all features, simply pass n_features = None."
   ]
  },
  {
   "cell_type": "code",
   "execution_count": 29,
   "metadata": {},
   "outputs": [
    {
     "data": {
      "text/plain": [
       "array([0.35730453, 0.19209164, 0.11006755, 0.07250719, 0.06973166,\n",
       "       0.05341402, 0.04555029, 0.0241568 , 0.02040417, 0.01976974,\n",
       "       0.01685307, 0.01086639, 0.00728295])"
      ]
     },
     "execution_count": 29,
     "metadata": {},
     "output_type": "execute_result"
    }
   ],
   "source": [
    "pca = PCA(n_components=None)\n",
    "X_train_pca = pca.fit_transform(X_train_std)\n",
    "pca.explained_variance_ratio_"
   ]
  },
  {
   "cell_type": "markdown",
   "metadata": {},
   "source": [
    "Supervised data compression using Linear Discriminant Analysis (LDA)"
   ]
  },
  {
   "cell_type": "markdown",
   "metadata": {},
   "source": [
    "Linear Discriminant Analysis (LDA) can be used as a technique for feature extraction to increase computational efficieny , reduce the degree of overfitting due to the curse of dimensionality in non-regularized models. Whereas PCA attempts to find orthogonal components with maximum variance, LDA tries to extract features maximizing class separability."
   ]
  },
  {
   "cell_type": "markdown",
   "metadata": {},
   "source": [
    "Since LDA is supervised and PCA is unsupervised, it might be assumed that LDA is superior to PCA in classification tasks, but PCA does a good job in image classification tasks. So, it is better to try out both for the task at hand and then decide. \\\n",
    "One assumption in LDA is that the data is normally distributed. Also, we assume that the classes have identical covariance matrices and that the features are statistically independent of each other. Even if any of the assumptions are slightly violated, it might still work."
   ]
  },
  {
   "cell_type": "markdown",
   "metadata": {},
   "source": [
    "inner working of LDA : \\\n",
    "1.Standardize the d-dimensional dataset (d is the number of features).\\\n",
    "2.For each class, compute the d-dimensional mean vector.\\\n",
    "3. Construct the between-class scatter matrix SB and the within-class scatter matrix Sw .\\\n",
    "4. Compute the eigenvectors and corresponding eigenvalues of the matrix $S_w^-1S_B$ . \\\n",
    "5. Sort eigen values in decreasing order to pick the eigen vectors. \\\n",
    "6. Choose the k eigen vectors that correspond to the k largest eigen values and construct the projection matrix W -> d $\\times$ k. \\\n",
    "7. Project the samples onto the new feature subspace using the transformation matrix W.\n"
   ]
  },
  {
   "cell_type": "markdown",
   "metadata": {},
   "source": [
    "Computation of scatter matrices : \\\n",
    "Let $m_i$ = $\\frac{1}{n_i} \\sum _{x \\in D_i}^{c} x_m$.\n"
   ]
  },
  {
   "cell_type": "code",
   "execution_count": 30,
   "metadata": {},
   "outputs": [
    {
     "name": "stdout",
     "output_type": "stream",
     "text": [
      "MV 1: [ 0.9585 -0.322   0.3219 -0.7607  0.4346  0.8574  0.9809 -0.4969  0.4261\n",
      "  0.2418  0.4251  0.7139  1.1879]\n",
      "MV 2: [-0.8829 -0.3073 -0.4875  0.2536 -0.323  -0.0632  0.0417 -0.0784  0.185\n",
      " -0.8575  0.4598  0.2946 -0.7075]\n",
      "MV 3: [ 0.1468  0.8657  0.3387  0.5609 -0.0506 -0.9695 -1.282   0.7362 -0.8096\n",
      "  0.9987 -1.2249 -1.3334 -0.4039]\n"
     ]
    }
   ],
   "source": [
    "import numpy as np\n",
    "np.set_printoptions(precision=4)\n",
    "mean_vecs = []\n",
    "for label in range(1,4):\n",
    "    mean_vecs.append(np.mean(X_train_std[y_train == label], axis=0))\n",
    "    print(\"MV %s: %s\" % (label, mean_vecs[label - 1]))\n",
    "\n"
   ]
  },
  {
   "cell_type": "markdown",
   "metadata": {},
   "source": [
    "Using the mean vectors for each class, we can compute the within class scatter matrix $S_w$ : \\\n",
    "$S_w = \\sum _{i=1}^c S_i$, \\\n",
    "where $S_i$ is the individual scatter matrix. \\\n",
    "$S_i= \\sum _{x \\in D_i}^c (x-m_i).(x-m_i)^T$"
   ]
  },
  {
   "cell_type": "code",
   "execution_count": 31,
   "metadata": {},
   "outputs": [
    {
     "name": "stdout",
     "output_type": "stream",
     "text": [
      "shape of scatter matrix :  (13, 13)\n"
     ]
    }
   ],
   "source": [
    "#Computation of within class scatter matrix\n",
    "d = 13 # number of features\n",
    "S_w = np.zeros((d,d))\n",
    "for label, mv in zip(range(1,4), mean_vecs):\n",
    "    class_scatter = np.zeros((13,13))\n",
    "    for row in X_train_std[y_train == label]:\n",
    "        row, mv = row.reshape(d,1), mv.reshape(d,1)\n",
    "        class_scatter += (row-mv).dot((row-mv).T)\n",
    "    S_w += class_scatter\n",
    "print(\"shape of scatter matrix : \", S_w.shape)\n"
   ]
  },
  {
   "cell_type": "code",
   "execution_count": 32,
   "metadata": {},
   "outputs": [
    {
     "data": {
      "text/plain": [
       "array([[ 4.6641e+01, -2.4576e+00,  5.7630e-01,  2.4146e+00,  3.0805e+00,\n",
       "         6.2151e+00,  6.5197e+00, -6.8439e+00,  7.6820e+00,  1.5541e+01,\n",
       "         1.7048e-02,  3.2869e+00,  6.0175e+00],\n",
       "       [-2.4576e+00,  9.0295e+01,  4.1389e+00,  1.2725e+01, -6.2246e+00,\n",
       "        -2.1376e+00,  2.8385e+00,  7.1505e+00,  1.8038e+00, -1.8495e+01,\n",
       "        -2.2416e+01,  3.4452e+00, -1.2027e+01],\n",
       "       [ 5.7630e-01,  4.1389e+00,  1.0408e+02,  6.5969e+01,  1.5392e+01,\n",
       "         1.3767e+01,  1.1981e+01,  2.5255e+01,  4.4317e+00, -2.0387e+00,\n",
       "         1.0007e+01,  4.1562e+00,  1.4076e-01],\n",
       "       [ 2.4146e+00,  1.2725e+01,  6.5969e+01,  8.6675e+01,  8.7715e+00,\n",
       "         1.1249e+01,  7.7810e+00,  1.4493e+01,  3.9878e+00, -3.2643e+00,\n",
       "         7.2548e-01,  8.8323e+00, -1.8857e+00],\n",
       "       [ 3.0805e+00, -6.2246e+00,  1.5392e+01,  8.7715e+00,  1.1096e+02,\n",
       "         6.2206e+00,  2.6943e+00, -2.3635e+01,  3.0140e+01,  4.9945e+00,\n",
       "         5.4681e+00, -6.0091e+00,  1.5830e+01],\n",
       "       [ 6.2151e+00, -2.1376e+00,  1.3767e+01,  1.1249e+01,  6.2206e+00,\n",
       "         6.2644e+01,  3.1277e+01, -9.1495e+00,  3.4444e+01,  1.6211e+01,\n",
       "        -3.7821e-01,  1.8841e+01,  3.8404e+00],\n",
       "       [ 6.5197e+00,  2.8385e+00,  1.1981e+01,  7.7810e+00,  2.6943e+00,\n",
       "         3.1277e+01,  3.0227e+01, -1.2759e+01,  2.7349e+01,  1.3470e+01,\n",
       "        -1.7546e+00,  1.0326e+01, -1.1386e+00],\n",
       "       [-6.8439e+00,  7.1505e+00,  2.5255e+01,  1.4493e+01, -2.3635e+01,\n",
       "        -9.1495e+00, -1.2759e+01,  9.5682e+01, -9.4896e+00, -2.6134e+00,\n",
       "         9.3994e+00, -1.1535e+01, -3.7729e+00],\n",
       "       [ 7.6820e+00,  1.8038e+00,  4.4317e+00,  3.9878e+00,  3.0140e+01,\n",
       "         3.4444e+01,  2.7349e+01, -9.4896e+00,  9.3216e+01,  2.2695e+01,\n",
       "        -3.6000e+00,  9.0689e+00,  1.0220e+01],\n",
       "       [ 1.5541e+01, -1.8495e+01, -2.0387e+00, -3.2643e+00,  4.9945e+00,\n",
       "         1.6211e+01,  1.3470e+01, -2.6134e+00,  2.2695e+01,  5.1924e+01,\n",
       "        -1.2025e+01, -5.2232e+00,  8.8079e+00],\n",
       "       [ 1.7048e-02, -2.2416e+01,  1.0007e+01,  7.2548e-01,  5.4681e+00,\n",
       "        -3.7821e-01, -1.7546e+00,  9.3994e+00, -3.6000e+00, -1.2025e+01,\n",
       "         5.6505e+01, -1.0899e+00,  5.9239e+00],\n",
       "       [ 3.2869e+00,  3.4452e+00,  4.1562e+00,  8.8323e+00, -6.0091e+00,\n",
       "         1.8841e+01,  1.0326e+01, -1.1535e+01,  9.0689e+00, -5.2232e+00,\n",
       "        -1.0899e+00,  4.0092e+01, -2.7592e+00],\n",
       "       [ 6.0175e+00, -1.2027e+01,  1.4076e-01, -1.8857e+00,  1.5830e+01,\n",
       "         3.8404e+00, -1.1386e+00, -3.7729e+00,  1.0220e+01,  8.8079e+00,\n",
       "         5.9239e+00, -2.7592e+00,  3.5735e+01]])"
      ]
     },
     "execution_count": 32,
     "metadata": {},
     "output_type": "execute_result"
    }
   ],
   "source": [
    "S_w"
   ]
  },
  {
   "cell_type": "code",
   "execution_count": 33,
   "metadata": {},
   "outputs": [
    {
     "name": "stdout",
     "output_type": "stream",
     "text": [
      "Class label distribution: [41 50 33]\n"
     ]
    }
   ],
   "source": [
    "print('Class label distribution: %s'\n",
    "     % np.bincount(y_train)[1:])"
   ]
  },
  {
   "cell_type": "markdown",
   "metadata": {},
   "source": [
    "One of the assumptions is that the class labels are uniformly distributed. but this assumption is violated. So , we need to normalize the individual scatter matrices $S_i$ before we add them to make a scatter matrix. \\\n",
    "normalizing the scatter matrices is the same as computing the covariance matrix of the features associated with the class label."
   ]
  },
  {
   "cell_type": "code",
   "execution_count": 34,
   "metadata": {},
   "outputs": [
    {
     "name": "stdout",
     "output_type": "stream",
     "text": [
      "(13, 13)\n"
     ]
    }
   ],
   "source": [
    "d = 13\n",
    "S_w = np.zeros((d,d))\n",
    "for label, mv in zip(range(1,4), mean_vecs):\n",
    "    class_scatter = np.cov(X_train_std[y_train == label].T)\n",
    "    S_w += class_scatter\n",
    "print(S_w.shape)"
   ]
  },
  {
   "cell_type": "markdown",
   "metadata": {},
   "source": [
    "The above computed matrix is scaled scatter matrix."
   ]
  },
  {
   "cell_type": "markdown",
   "metadata": {},
   "source": [
    "The between class scatter matrix $S_B$ can then be computed as : \\\n",
    "$S_B = \\sum _{i=1}^{c} n_i.(m_i-m).(m_i-m).T$ \\\n",
    "where m is the overall mean and $m_i$ is the labelwise mean."
   ]
  },
  {
   "cell_type": "code",
   "execution_count": 35,
   "metadata": {},
   "outputs": [
    {
     "name": "stdout",
     "output_type": "stream",
     "text": [
      "(13,)\n"
     ]
    }
   ],
   "source": [
    "mean_overall = np.mean(X_train_std, axis=0)\n",
    "print(mean_overall.shape)"
   ]
  },
  {
   "cell_type": "code",
   "execution_count": 36,
   "metadata": {},
   "outputs": [
    {
     "name": "stdout",
     "output_type": "stream",
     "text": [
      "Between class scatter matrix :  (13, 13)\n"
     ]
    }
   ],
   "source": [
    "d = 13\n",
    "S_B = np.zeros((d,d))\n",
    "for i, mean_vec in enumerate(mean_vecs):\n",
    "    n_i = X_train_std[y_train == i+1,:].shape[0]\n",
    "    mean_vec = mean_vec.reshape(d,1)\n",
    "    mean_overall = mean_overall.reshape(d,1)\n",
    "    S_B += n_i * (mean_vec - mean_overall).dot((mean_vec - mean_overall).T)\n",
    "print(\"Between class scatter matrix : \", S_B.shape)"
   ]
  },
  {
   "cell_type": "markdown",
   "metadata": {},
   "source": [
    "Selecting linear discriminants for the new feature subspace.\n"
   ]
  },
  {
   "cell_type": "code",
   "execution_count": 37,
   "metadata": {},
   "outputs": [
    {
     "name": "stdout",
     "output_type": "stream",
     "text": [
      "418.49988288057716\n",
      "204.5747764260586\n",
      "4.235893463568819e-14\n",
      "2.842170943040401e-14\n",
      "2.2904441213521698e-14\n",
      "2.2904441213521698e-14\n",
      "1.807639284910422e-14\n",
      "1.739744894516524e-14\n",
      "1.7240420301387857e-14\n",
      "4.716489301320688e-15\n",
      "4.716489301320688e-15\n",
      "2.359526040523811e-15\n",
      "1.9466546701407593e-15\n"
     ]
    }
   ],
   "source": [
    "eig_vals, eig_vecs = np.linalg.eig(np.linalg.inv(S_w).dot(S_B))\n",
    "eig_pairs = [(np.abs(eig_vals[i]), eig_vecs[:,i]) for i in range(len(eig_vals))]\n",
    "eig_pairs = sorted(eig_pairs, key=lambda k:k[0], reverse=True)\n",
    "#while sorting eigen values, sort based on magnitute, the one which scales the eigen vector the most in any direction.\n",
    "for eig_pair in eig_pairs:\n",
    "    print(eig_pair[0]) # eig_val"
   ]
  },
  {
   "cell_type": "markdown",
   "metadata": {},
   "source": [
    "in LDA, the number of linear discriminants is at most c - 1,since in between scatter matrix is the sum of c matrices with rank 1 or less, where c is the number of labels. In our case, we have two eig values with positive eigen values and others are all zeros [numpy precision causes some small positive value to turn up.]"
   ]
  },
  {
   "cell_type": "code",
   "execution_count": 38,
   "metadata": {},
   "outputs": [
    {
     "data": {
      "image/png": "[encoded data removed]",
      "text/plain": [
       "<Figure size 640x480 with 1 Axes>"
      ]
     },
     "metadata": {},
     "output_type": "display_data"
    }
   ],
   "source": [
    "tot = sum(eig_vals.real)\n",
    "discr = [(i / tot) for i in sorted(eig_vals.real, reverse=True)]\n",
    "cum_discr = np.cumsum(discr)\n",
    "plt.bar(range(1, 14), discr, alpha=0.5, align='center',label='individual \"discriminability\"')\n",
    "plt.step(range(1, 14), cum_discr, where='mid',label='cumulative \"discriminability\"')\n",
    "plt.ylabel('\"discriminability\" ratio')\n",
    "plt.xlabel('Linear Discriminants')\n",
    "plt.ylim([-0.1, 1.1])\n",
    "plt.legend(loc='best')\n",
    "plt.show()"
   ]
  },
  {
   "cell_type": "code",
   "execution_count": 39,
   "metadata": {},
   "outputs": [],
   "source": [
    "w = np.hstack((eig_pairs[0][1][:, np.newaxis].real,eig_pairs[1][1][:, np.newaxis].real))"
   ]
  },
  {
   "cell_type": "code",
   "execution_count": 40,
   "metadata": {},
   "outputs": [
    {
     "data": {
      "text/plain": [
       "(13, 2)"
      ]
     },
     "execution_count": 40,
     "metadata": {},
     "output_type": "execute_result"
    }
   ],
   "source": [
    "w.shape"
   ]
  },
  {
   "cell_type": "markdown",
   "metadata": {},
   "source": [
    "Projecting samples onto new feature space. \\\n",
    "$X^{'} = XW$\n"
   ]
  },
  {
   "cell_type": "code",
   "execution_count": 41,
   "metadata": {},
   "outputs": [
    {
     "data": {
      "text/plain": [
       "(124, 2)"
      ]
     },
     "execution_count": 41,
     "metadata": {},
     "output_type": "execute_result"
    }
   ],
   "source": [
    "X_train_lda = X_train_std.dot(-w)\n",
    "X_train_lda.shape"
   ]
  },
  {
   "cell_type": "code",
   "execution_count": 42,
   "metadata": {},
   "outputs": [
    {
     "data": {
      "image/png": "[encoded data removed]",
      "text/plain": [
       "<Figure size 640x480 with 1 Axes>"
      ]
     },
     "metadata": {},
     "output_type": "display_data"
    }
   ],
   "source": [
    "colors = ['r', 'b', 'g']\n",
    "markers = ['s', 'x', 'o']\n",
    "for l, c, m in zip(np.unique(y_train), colors, markers):\n",
    "    plt.scatter(X_train_lda[y_train==l,0], X_train_lda[y_train==l,1], c = c, marker=m,label=l)\n",
    "plt.xlabel(\"Linear Discriminant 1\")\n",
    "plt.ylabel(\"Linear Discriminant 2\")\n",
    "plt.legend(loc=\"best\")\n",
    "plt.show()"
   ]
  },
  {
   "cell_type": "markdown",
   "metadata": {},
   "source": [
    "Linear discriminant analysis using sklearn"
   ]
  },
  {
   "cell_type": "code",
   "execution_count": 43,
   "metadata": {},
   "outputs": [],
   "source": [
    "from sklearn.discriminant_analysis import LinearDiscriminantAnalysis as LDA"
   ]
  },
  {
   "cell_type": "code",
   "execution_count": 44,
   "metadata": {},
   "outputs": [],
   "source": [
    "lda = LDA(n_components=2) # top 2 components\n",
    "X_train_lda = lda.fit_transform(X_train_std, y_train)\n"
   ]
  },
  {
   "cell_type": "code",
   "execution_count": 45,
   "metadata": {},
   "outputs": [
    {
     "name": "stderr",
     "output_type": "stream",
     "text": [
      "/var/folders/pn/41l3cmvn0llckvh459j67qcw0000gn/T/ipykernel_1363/4290952262.py:20: UserWarning: *c* argument looks like a single numeric RGB or RGBA sequence, which should be avoided as value-mapping will have precedence in case its length matches with *x* & *y*.  Please use the *color* keyword-argument or provide a 2D array with a single row if you intend to specify the same RGB or RGBA value for all points.\n",
      "  plt.scatter(x=X[y == cl, 0],\n",
      "/var/folders/pn/41l3cmvn0llckvh459j67qcw0000gn/T/ipykernel_1363/4290952262.py:20: UserWarning: You passed a edgecolor/edgecolors ('black') for an unfilled marker ('x').  Matplotlib is ignoring the edgecolor in favor of the facecolor.  This behavior may change in the future.\n",
      "  plt.scatter(x=X[y == cl, 0],\n"
     ]
    },
    {
     "data": {
      "image/png": "[encoded data removed]",
      "text/plain": [
       "<Figure size 640x480 with 1 Axes>"
      ]
     },
     "metadata": {},
     "output_type": "display_data"
    }
   ],
   "source": [
    "lr = LogisticRegression()\n",
    "lr = lr.fit(X_train_lda, y_train)\n",
    "plot_decision_regions(X_train_lda, y_train, classifier=lr)\n",
    "plt.xlabel(\"LD 1\")\n",
    "plt.ylabel(\"LD 2\")\n",
    "plt.legend(loc=\"best\")\n",
    "plt.show()"
   ]
  },
  {
   "cell_type": "markdown",
   "metadata": {},
   "source": [
    "we get a very good split which is able to split the samples into three distinct classes with no overlap"
   ]
  },
  {
   "cell_type": "code",
   "execution_count": 46,
   "metadata": {},
   "outputs": [
    {
     "name": "stderr",
     "output_type": "stream",
     "text": [
      "/var/folders/pn/41l3cmvn0llckvh459j67qcw0000gn/T/ipykernel_1363/4290952262.py:20: UserWarning: *c* argument looks like a single numeric RGB or RGBA sequence, which should be avoided as value-mapping will have precedence in case its length matches with *x* & *y*.  Please use the *color* keyword-argument or provide a 2D array with a single row if you intend to specify the same RGB or RGBA value for all points.\n",
      "  plt.scatter(x=X[y == cl, 0],\n",
      "/var/folders/pn/41l3cmvn0llckvh459j67qcw0000gn/T/ipykernel_1363/4290952262.py:20: UserWarning: You passed a edgecolor/edgecolors ('black') for an unfilled marker ('x').  Matplotlib is ignoring the edgecolor in favor of the facecolor.  This behavior may change in the future.\n",
      "  plt.scatter(x=X[y == cl, 0],\n"
     ]
    },
    {
     "data": {
      "image/png": "[encoded data removed]",
      "text/plain": [
       "<Figure size 640x480 with 1 Axes>"
      ]
     },
     "metadata": {},
     "output_type": "display_data"
    }
   ],
   "source": [
    "# let us test our model on the test set\n",
    "X_test_lda = lda.transform(X_test_std)\n",
    "plot_decision_regions(X_test_lda, y_test, classifier=lr)\n",
    "plt.xlabel(\"Ld 1\")\n",
    "plt.ylabel(\"Ld 2\")\n",
    "plt.legend(loc=\"best\")\n",
    "plt.show()\n"
   ]
  },
  {
   "cell_type": "markdown",
   "metadata": {},
   "source": [
    "Using kernel principal component analysis for nonlinear mappings : \\\n",
    "we have been making assumptions that the dataset is linearly separable and thus we have been using techniques like PCA and LDA which assume linearity in samples for projection onto new feature space through linear mappings. \\\n",
    "for dataset which is not linearly separable, we make use of kernelized PCA similar to Kernel SVM which was used for classification of non-linearly samples."
   ]
  },
  {
   "cell_type": "markdown",
   "metadata": {},
   "source": [
    "there is a misclassification, but the model is doing good on the projected 2 component dataset. adding some regularizatin might reduce overfitting and remove the misclassification on the test set"
   ]
  },
  {
   "cell_type": "markdown",
   "metadata": {},
   "source": [
    "Kernel functions and the kernel trick: \\\n",
    "In kernel SVM, we project the points in a d-dimensional space which are not linearly separable to a high k-dimensional space  (k >> d) . In this space, there exists a hyperplane which can be used to separate the data points into classes. \\\n",
    "In the kernelied PCA, the same procedure is followed, non-linear combinations of original data points are carried out to project the points to high dimension, then standard PCA is applied to these points to project them back to lower dimensional space where the separability still holds. the downside of this approach is that this requires dot product of each point with another high dimensional point which is computationally expensive. The kernel trick comes to the rescue .\\ \n"
   ]
  },
  {
   "cell_type": "markdown",
   "metadata": {},
   "source": [
    "we can use many non-linear functions which can help us do $\\phi (X).\\phi (X)^T, faster instead of doing this computationally expensive dot product. A polygonomial function could be used, hyperbolic tangent funciton could be used or radial basis function could be used. We ll use the radial basis function for illustration"
   ]
  },
  {
   "cell_type": "markdown",
   "metadata": {},
   "source": [
    "Steps: \\\n",
    "1. Compute the kernel similarity matrix : $k(x^{(i)},x^{(j)}) = exp(-\\gamma ||x^{(i)} - x^{(j)}||^2)$. \\\n",
    "we do this for each pair of samples forming the kernel matrix, so, if we have 100 samples, we get a 100X100 square matrix , through these computations. \\\n",
    "2. Center the kernel similarity matrix, using the equation : \\\n",
    " $K^{'} = K - 1_nK - K1_n + 1_nK1_n$. $1_n$ is a nXn dimensional matrix with value 1/n everywhere. This step is required, becaue in standard PCA, we work covariance matrix where features are standardized. After projecting to higher dimension through radial basis function, the variance may not be 1, so,this centering of K, makes the dataset standard. \\\n",
    " 3. We collect the topk eigen vectors of the centered kernel matrix based on their corresponding eigen values , which are ranked by decreasing magnitude. In standardized, we construct a projection matrix W whih consits of eigen vectors which represent prinicpal components and project the original dataset points to these axes using W. But here , the eigen vectors of kernel similarity matrix already contain points projected to principal components. "
   ]
  },
  {
   "cell_type": "code",
   "execution_count": null,
   "metadata": {},
   "outputs": [],
   "source": []
  }
 ],
 "metadata": {
  "kernelspec": {
   "display_name": "base",
   "language": "python",
   "name": "python3"
  },
  "language_info": {
   "codemirror_mode": {
    "name": "ipython",
    "version": 3
   },
   "file_extension": ".py",
   "mimetype": "text/x-python",
   "name": "python",
   "nbconvert_exporter": "python",
   "pygments_lexer": "ipython3",
   "version": "3.11.5"
  }
 },
 "nbformat": 4,
 "nbformat_minor": 2
}
