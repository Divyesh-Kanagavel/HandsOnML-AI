{
 "cells": [
  {
   "cell_type": "markdown",
   "metadata": {},
   "source": [
    "Fundamental pytorch data type : the tensor \\\n",
    "it is basically an extension of the NumberWithGrad discussed but for a tensor [the torch equivalent of numpy array with Grad]"
   ]
  },
  {
   "cell_type": "code",
   "execution_count": 31,
   "metadata": {},
   "outputs": [],
   "source": [
    "from typing import Tuple, List\n",
    "from collections import deque\n",
    "\n",
    "import torch\n",
    "import torch.optim as optim\n",
    "from torch.optim import lr_scheduler\n",
    "from torch.optim import Optimizer\n",
    "\n",
    "import numpy as np\n",
    "from torch import Tensor\n",
    "\n",
    "import torch.nn as nn\n",
    "import torch.nn.functional as F\n",
    "from torch.nn.modules.loss import _Loss"
   ]
  },
  {
   "cell_type": "code",
   "execution_count": 32,
   "metadata": {},
   "outputs": [
    {
     "name": "stdout",
     "output_type": "stream",
     "text": [
      "tensor([1., 2., 3.], requires_grad=True)\n"
     ]
    }
   ],
   "source": [
    "a = torch.tensor([1.,2.,3.], requires_grad=True)\n",
    "print(a)"
   ]
  },
  {
   "cell_type": "code",
   "execution_count": 33,
   "metadata": {},
   "outputs": [],
   "source": [
    "b = a * 4\n",
    "c = b + 3\n",
    "d = b * (a+5)\n",
    "e = c * 2\n",
    "e_sum = e.sum()\n",
    "e_sum.backward()"
   ]
  },
  {
   "cell_type": "code",
   "execution_count": 34,
   "metadata": {},
   "outputs": [
    {
     "name": "stdout",
     "output_type": "stream",
     "text": [
      "tensor([1., 2., 3.], requires_grad=True) tensor([ 4.,  8., 12.], grad_fn=<MulBackward0>) tensor([ 7., 11., 15.], grad_fn=<AddBackward0>) tensor([24., 56., 96.], grad_fn=<MulBackward0>) tensor([14., 22., 30.], grad_fn=<MulBackward0>) tensor(66., grad_fn=<SumBackward0>)\n"
     ]
    }
   ],
   "source": [
    "print(a,b,c,d,e,e_sum)"
   ]
  },
  {
   "cell_type": "code",
   "execution_count": 35,
   "metadata": {},
   "outputs": [
    {
     "name": "stdout",
     "output_type": "stream",
     "text": [
      "tensor([8., 8., 8.])\n"
     ]
    }
   ],
   "source": [
    "print(a.grad)"
   ]
  },
  {
   "cell_type": "markdown",
   "metadata": {},
   "source": [
    "The building block of neural network : \n",
    "Layer, Model, Loss, Optimizer, Trainer can be written easily now using pytorch's nn module."
   ]
  },
  {
   "cell_type": "code",
   "execution_count": 36,
   "metadata": {},
   "outputs": [],
   "source": [
    "def inference_mode(model : nn.Module) -> None:\n",
    "    model.eval()\n",
    "\n",
    "class PytorchLayer(nn.Module):\n",
    "    def __init__(self):\n",
    "        super().__init__()\n",
    "    \n",
    "    def forward(self, x : torch.Tensor, inference : bool = False) -> torch.Tensor :\n",
    "        raise NotImplementedError()\n",
    "    \n",
    "\n",
    "\n"
   ]
  },
  {
   "cell_type": "code",
   "execution_count": 37,
   "metadata": {},
   "outputs": [],
   "source": [
    "from typing import Tuple\n",
    "# base pytorch model\n",
    "class PytorchModel(nn.Module):\n",
    "    def __init__(self):\n",
    "        super().__init__()\n",
    "    \n",
    "    def forward(self, x : torch.Tensor) -> Tuple[torch.Tensor, torch.Tensor]:\n",
    "        raise NotImplementedError()"
   ]
  },
  {
   "cell_type": "code",
   "execution_count": 38,
   "metadata": {},
   "outputs": [],
   "source": [
    "class DenseLayer(PytorchLayer):\n",
    "    def __init__(self, in_size : int, neurons : int, dropout : float = 1.,activation : nn.Module = None) :\n",
    "        super().__init__()\n",
    "        self.linear = nn.Linear(in_size, neurons)\n",
    "        self.activation = activation\n",
    "        if dropout < 1.0:\n",
    "            self.dropout = nn.Dropout(1. - dropout)\n",
    "    \n",
    "    def forward(self, x : torch.Tensor, inference : bool = False) :\n",
    "        if inference :\n",
    "            self.apply(inference_mode)\n",
    "        x = self.linear(x)\n",
    "        if self.activation:\n",
    "            x = self.activation(x)\n",
    "        if hasattr(self, \"dropout\"):\n",
    "            x = self.dropout(x)\n",
    "        \n",
    "        return x\n",
    "\n"
   ]
  },
  {
   "cell_type": "code",
   "execution_count": 39,
   "metadata": {},
   "outputs": [],
   "source": [
    "class HousePricesModel(PytorchModel):\n",
    "    def __init__(self,hidden_size : int = 8, hidden_dropout : float = 1.):\n",
    "        super().__init__()\n",
    "        self.dense1 = DenseLayer(8, hidden_size, hidden_dropout, nn.Sigmoid() )\n",
    "        self.dense2 = DenseLayer(hidden_size, 1)\n",
    "    \n",
    "    def forward(self, x : torch.Tensor):\n",
    "        assert(len(x.shape) == 2)\n",
    "        assert(x.shape[1] == 8)\n",
    "        x = self.dense1(x)\n",
    "        return self.dense2(x)\n",
    "\n",
    "\n",
    "        "
   ]
  },
  {
   "cell_type": "code",
   "execution_count": 40,
   "metadata": {},
   "outputs": [],
   "source": [
    "california_pytorch_model = HousePricesModel(hidden_size=8)\n"
   ]
  },
  {
   "cell_type": "code",
   "execution_count": 41,
   "metadata": {},
   "outputs": [],
   "source": [
    "# optimizers and losses are all coded up in pytorch and is easy to use\n",
    "optimizer = torch.optim.SGD(california_pytorch_model.parameters(), lr=0.001)"
   ]
  },
  {
   "cell_type": "code",
   "execution_count": 42,
   "metadata": {},
   "outputs": [],
   "source": [
    "mean_squared_loss = nn.MSELoss()\n",
    "softmax_crossentropy_loss = nn.CrossEntropyLoss()"
   ]
  },
  {
   "cell_type": "markdown",
   "metadata": {},
   "source": [
    "Though softmax is not explicitly present in the crossEntropyLoss module, it performs softmax on the inputs and then calculates the loss."
   ]
  },
  {
   "cell_type": "code",
   "execution_count": 43,
   "metadata": {},
   "outputs": [],
   "source": [
    "def permute_data(X, y):\n",
    "    perm = np.random.permutation(X.shape[0])\n",
    "    return X[perm], y[perm]"
   ]
  },
  {
   "cell_type": "code",
   "execution_count": 99,
   "metadata": {},
   "outputs": [],
   "source": [
    "# Trainer class\n",
    "class PytorchTrainer(object):\n",
    "    def __init__(self, model : PytorchModel, optimizer : Optimizer, criterion : _Loss):\n",
    "        self.model = model\n",
    "        self.optimizer = optimizer\n",
    "        self.criterion = criterion\n",
    "        self._check_optim_net_aligned()\n",
    "    def _check_optim_net_aligned(self):\n",
    "        self.optimizer.param_groups[0][\"params\"] == list(self.model.parameters())\n",
    "\n",
    "    def _generate_batches(self, X: torch.Tensor, y : torch.Tensor, size : int = 32) -> Tuple[torch.Tensor]:\n",
    "        N = X.shape[0]\n",
    "        for i in range(0,N,size):\n",
    "            x_batch, y_batch = X[i:i+size], y[i:i+size]\n",
    "            yield x_batch, y_batch\n",
    "    \n",
    "    def fit(self, X_train:torch.Tensor, y_train:torch.Tensor, X_test:torch.Tensor, y_test:torch.Tensor,epochs : int =  100, eval_every : int = 10, batch_size : int = 32):\n",
    "        X_train, y_train = permute_data(X_train, y_train)\n",
    "        for e in range(epochs):\n",
    "            batch_generator = self._generate_batches(X_train, y_train, batch_size)\n",
    "            for i, (x_batch, y_batch) in enumerate(batch_generator):\n",
    "                self.optimizer.zero_grad() # zero out the grads\n",
    "                y_pred = self.model(x_batch)\n",
    "                loss = self.criterion(y_pred, y_batch)\n",
    "                loss.backward()\n",
    "                self.optimizer.step()\n",
    "            if e % eval_every == 0:\n",
    "                print(\"Epoch : {}, Loss : {}\".format(e,loss.item()))\n",
    "\n",
    "\n"
   ]
  },
  {
   "cell_type": "code",
   "execution_count": 54,
   "metadata": {},
   "outputs": [
    {
     "name": "stdout",
     "output_type": "stream",
     "text": [
      "(20640, 8) (20640,)\n"
     ]
    }
   ],
   "source": [
    "# train the model on california dataset\n",
    "\n",
    "from sklearn.datasets import fetch_california_housing\n",
    "housing = fetch_california_housing()\n",
    "data = housing['data']\n",
    "target = housing['target']\n",
    "feature_names = housing['target_names']\n",
    "print(data.shape, target.shape)"
   ]
  },
  {
   "cell_type": "code",
   "execution_count": 55,
   "metadata": {},
   "outputs": [],
   "source": [
    "from sklearn.preprocessing import StandardScaler\n",
    "s = StandardScaler()\n",
    "data = s.fit_transform(data)"
   ]
  },
  {
   "cell_type": "code",
   "execution_count": 56,
   "metadata": {},
   "outputs": [],
   "source": [
    "from sklearn.model_selection import train_test_split\n",
    "X_train, X_test, y_train, y_test = train_test_split(data, target,test_size=0.3, random_state = 42)\n",
    "y_train, y_test = y_train.reshape(-1,1), y_test.reshape(-1,1)"
   ]
  },
  {
   "cell_type": "code",
   "execution_count": 57,
   "metadata": {},
   "outputs": [],
   "source": [
    "X_train = torch.from_numpy(X_train.astype(np.float32))\n",
    "y_train = torch.from_numpy(y_train.astype(np.float32))\n",
    "X_test = torch.from_numpy(X_test.astype(np.float32))\n",
    "y_test = torch.from_numpy(y_test.astype(np.float32))"
   ]
  },
  {
   "cell_type": "code",
   "execution_count": 60,
   "metadata": {},
   "outputs": [
    {
     "name": "stdout",
     "output_type": "stream",
     "text": [
      "Epoch : 0, Loss : 0.4349268972873688\n",
      "Epoch : 1, Loss : 0.40333348512649536\n",
      "Epoch : 2, Loss : 0.3773728311061859\n",
      "Epoch : 3, Loss : 0.3564622104167938\n",
      "Epoch : 4, Loss : 0.33990156650543213\n",
      "Epoch : 5, Loss : 0.32696500420570374\n",
      "Epoch : 6, Loss : 0.3169691860675812\n",
      "Epoch : 7, Loss : 0.30931270122528076\n",
      "Epoch : 8, Loss : 0.30349117517471313\n",
      "Epoch : 9, Loss : 0.2990948557853699\n"
     ]
    }
   ],
   "source": [
    "trainer = PytorchTrainer(california_pytorch_model,optimizer, mean_squared_loss)\n",
    "trainer.fit(X_train,y_train,X_test,y_test,epochs=10,eval_every=1)"
   ]
  },
  {
   "cell_type": "markdown",
   "metadata": {},
   "source": [
    "we see a steady loss in loss which is a good sign. also, the model trained much faster compared to our numpy implementation maybe due to pytorch's optimization underneath [even on CPU cores]"
   ]
  },
  {
   "cell_type": "markdown",
   "metadata": {},
   "source": [
    "Tricks to Optimize Learning in PyTorch"
   ]
  },
  {
   "cell_type": "code",
   "execution_count": null,
   "metadata": {},
   "outputs": [],
   "source": [
    "#torch.optim.SGD(model.parameters(),lr=0.001,momentum=0.9) # for adding momentum to gradient update rule\n",
    "#nn.Dropout() for adding dropout with p percent of neurons dropped out\n",
    "# weigh initialization : already taken care of in pytorch Dense layer\n",
    "# from torch.optim import lr_scheduler"
   ]
  },
  {
   "cell_type": "markdown",
   "metadata": {},
   "source": [
    "Convolutional neural networks in pytorch"
   ]
  },
  {
   "cell_type": "code",
   "execution_count": 100,
   "metadata": {},
   "outputs": [],
   "source": [
    "class Conv2DLayer(PytorchLayer):\n",
    "    def __init__(self, in_channels, out_channels, filter_size, activation, flatten=False, dropout=1.):\n",
    "        super().__init__()\n",
    "        self.conv = nn.Conv2d(in_channels, out_channels, filter_size, padding=filter_size//2)\n",
    "        self.activation = activation\n",
    "        self.flatten = flatten\n",
    "        if dropout < 1. :\n",
    "            self.dropout = nn.Dropout(1. - dropout)\n",
    "\n",
    "    \n",
    "    def forward(self, X):\n",
    "\n",
    "        x = self.conv(X)\n",
    "        if self.activation:\n",
    "            x = self.activation(x)\n",
    "\n",
    "        if self.flatten:\n",
    "            x = x.view(x.shape[0],-1)\n",
    "        if hasattr(self, \"dropout\"):\n",
    "            x = self.dropout(x)\n",
    "        return x\n",
    "            \n"
   ]
  },
  {
   "cell_type": "code",
   "execution_count": 101,
   "metadata": {},
   "outputs": [],
   "source": [
    "#MNIST trainer class\n",
    "\n",
    "class MNISTConv(PytorchModel):\n",
    "    def __init__(self):\n",
    "        super().__init__()\n",
    "        self.conv1 = Conv2DLayer(1,16,5,nn.Tanh(),dropout=0.8)\n",
    "        self.conv2 = Conv2DLayer(16,8,5,nn.Tanh(), flatten=True,dropout=0.8)\n",
    "        self.dense1 = DenseLayer(28*28*8, 32, activation=nn.Tanh(), dropout=0.8)\n",
    "        self.dense2 = DenseLayer(32,10)\n",
    "    \n",
    "    def forward(self,x):\n",
    "        x = self.conv1(x)\n",
    "        x = self.conv2(x)\n",
    "        x = self.dense1(x)\n",
    "        return self.dense2(x)\n",
    "    \n"
   ]
  },
  {
   "cell_type": "code",
   "execution_count": 102,
   "metadata": {},
   "outputs": [],
   "source": [
    "# MNIST dataset\n",
    "# the same MNIST dataset\n",
    "from tensorflow.keras.datasets import mnist\n",
    "(train_images, train_labels), (test_images, test_labels) = mnist.load_data()\n",
    "train_images = train_images.reshape(-1,28*28)\n",
    "test_images = test_images.reshape(-1,28*28)\n",
    "\n",
    "X_train = (train_images - np.mean(train_images)) / np.std(train_images)\n",
    "X_test = (test_images - np.mean(test_images)) / np.std(test_images)\n",
    "y_train = np.zeros((train_labels.size, train_labels.max()+1))\n",
    "y_train[np.arange(train_labels.size), train_labels] = 1\n",
    "\n",
    "y_test = np.zeros((test_labels.size, train_labels.max()+1))\n",
    "y_test[np.arange(test_labels.size), test_labels] = 1\n",
    "\n",
    "X_train_conv = X_train.reshape(-1,1,28,28)\n",
    "X_test_conv = X_test.reshape(-1,1,28,28)\n",
    "\n",
    "X_train_conv = torch.from_numpy(X_train_conv.astype(np.float32))\n",
    "X_test_conv = torch.from_numpy(X_test_conv.astype(np.float32))\n",
    "\n",
    "y_test = torch.from_numpy(y_test.astype(np.float32))\n",
    "y_train = torch.from_numpy(y_train.astype(np.float32))"
   ]
  },
  {
   "cell_type": "code",
   "execution_count": 103,
   "metadata": {},
   "outputs": [
    {
     "name": "stdout",
     "output_type": "stream",
     "text": [
      "Epoch : 0, Loss : 0.09561838209629059\n",
      "Epoch : 1, Loss : 0.08975420892238617\n",
      "Epoch : 2, Loss : 0.061294347047805786\n",
      "Epoch : 3, Loss : 0.021063514053821564\n",
      "Epoch : 4, Loss : 0.01460924930870533\n"
     ]
    }
   ],
   "source": [
    "model = MNISTConv()\n",
    "criterion = nn.CrossEntropyLoss()\n",
    "optimizer = torch.optim.SGD(model.parameters(), lr=0.01,momentum=0.9)\n",
    "\n",
    "trainer = PytorchTrainer(model, optimizer, criterion)\n",
    "trainer.fit(X_train_conv, y_train, X_test_conv, y_test, epochs=5, eval_every=1)\n",
    "\n"
   ]
  },
  {
   "cell_type": "code",
   "execution_count": 104,
   "metadata": {},
   "outputs": [],
   "source": [
    "results = model(X_test_conv)\n"
   ]
  },
  {
   "cell_type": "code",
   "execution_count": 106,
   "metadata": {},
   "outputs": [
    {
     "data": {
      "text/plain": [
       "(torch.Size([10000, 10]), torch.Size([10000, 10]))"
      ]
     },
     "execution_count": 106,
     "metadata": {},
     "output_type": "execute_result"
    }
   ],
   "source": [
    "results.shape, y_test.shape"
   ]
  },
  {
   "cell_type": "code",
   "execution_count": 110,
   "metadata": {},
   "outputs": [
    {
     "name": "stdout",
     "output_type": "stream",
     "text": [
      "accuracy on test set is : 97.0 percent\n"
     ]
    }
   ],
   "source": [
    "acc = (torch.argmax(results,dim=1) == torch.argmax(y_test, dim=1)).sum() / 100\n",
    "print(\"accuracy on test set is : {} percent\".format(acc.item()))"
   ]
  },
  {
   "cell_type": "markdown",
   "metadata": {},
   "source": [
    "LSTMs in pytorch"
   ]
  },
  {
   "cell_type": "code",
   "execution_count": 111,
   "metadata": {},
   "outputs": [],
   "source": [
    "class LSTMLayer(PytorchLayer):\n",
    "    def __init__(self,sequence_length, input_size, hidden_size, output_size):\n",
    "        super().__init__()\n",
    "        self.input_size = input_size\n",
    "        self.hidden_size = hidden_size\n",
    "        self.output_size = output_size\n",
    "        self.sequence_length = sequence_length\n",
    "        self.h_init = torch.zeros(1,self.hidden_size)\n",
    "        self.c_init = torch.zeros(1,self.hidden_size)\n",
    "        self.lstm = nn.LSTM(self.input_size, self.hidden_size, batch_first = True)\n",
    "        self.fc = DenseLayer(self.hidden_size,self.output_size)\n",
    "    \n",
    "    def _transform_hidden_batch(self, hidden, batch_size, before_layer = False):\n",
    "        if before_layer:\n",
    "            hidden.repeat(batch_size,1).view(batch_size, 1, self.hidden_size).permute(1,0,2)\n",
    "        else:\n",
    "            hidden.permute(1,0,2).mean(dim=0)\n",
    "    \n",
    "    \n",
    "    def forward(self,x):\n",
    "        batch_size = x.shape[0]\n",
    "        assert(x.shape[1] == self.sequence_length)\n",
    "        h_layer = self._transform_hidden_batch(self.h_init, batch_size, before_layer=True)\n",
    "        c_layer = self._transform_hidden_batch(self.c_init, batch_size, before_layer=True)\n",
    "\n",
    "        x = self.lstm(x, (h_layer, c_layer))\n",
    "        self.h_init = self._transform_hidden_batch(h_layer, batch_size, before_layer = False).detach()\n",
    "        self.c_init = self._transform_hidden_batch(c_layer, batch_size, before_layer = False).detach()\n",
    "        x = self.fc(x)\n",
    "        return x\n",
    "\n",
    "\n",
    "\n"
   ]
  },
  {
   "cell_type": "markdown",
   "metadata": {},
   "source": [
    "This way we can create a LSTM Layer which can be conveniently used in a LSTM model class and a LSTM trainer can be used to generate texts like how we did in the Recurrent_NN notebook"
   ]
  },
  {
   "cell_type": "markdown",
   "metadata": {},
   "source": [
    "Unsupervised learning in pytorch : Autoencoders"
   ]
  },
  {
   "cell_type": "markdown",
   "metadata": {},
   "source": [
    "in supervised learning, we have labels and the model is trained to first learn representations of patterns in data and then use these labels to steer the model to predict these labels correctly. In supervised learning, we do not have any labels, so then , how do we learn representations of patterns in data and then use these for any task like clustering, outlier detection etc. \\\n",
    "One way of doing it through autoencoders, where the labels is the training image itself and the model is required to reconstruct the image. the model has layers which increasingly encode the image into a lower dimensional representation and then a decoder reconstructs these latent representations into an approximation of the image\n"
   ]
  },
  {
   "cell_type": "code",
   "execution_count": 151,
   "metadata": {},
   "outputs": [],
   "source": [
    "class Encoder(PytorchModel):\n",
    "    def __init__(self, hidden_size : int = 28):\n",
    "        super(Encoder, self).__init__()\n",
    "        self.conv1 = Conv2DLayer(1, 14,5, activation=nn.Tanh() )\n",
    "        self.conv2 = Conv2DLayer(14, 7, 5,activation=nn.Tanh(),flatten=True )\n",
    "        self.dense1 = DenseLayer(28*28*7, hidden_size, activation=nn.Tanh())\n",
    "    \n",
    "    def forward(self,x):\n",
    "        assert(len(x.shape)==4)\n",
    "        x = self.conv1(x)\n",
    "        x = self.conv2(x)\n",
    "        x = self.dense1(x)\n",
    "        return x\n",
    "    \n",
    "    \n"
   ]
  },
  {
   "cell_type": "code",
   "execution_count": 165,
   "metadata": {},
   "outputs": [],
   "source": [
    "class Decoder(PytorchModel):\n",
    "    def __init__(self, hidden_size = 28):\n",
    "        super(Decoder,self).__init__()\n",
    "        self.dense1 = DenseLayer(hidden_size, 28*28*7,activation=nn.Tanh())\n",
    "        self.conv1 = Conv2DLayer(7, 14,5, activation=nn.Tanh())\n",
    "        self.conv2 = Conv2DLayer(14, 1, 5,activation=nn.Tanh())\n",
    "    \n",
    "    def forward(self,x):\n",
    "        assert(len(x.shape)==2)\n",
    "\n",
    "        x = self.dense1(x)\n",
    "        x = x.view(-1,7,28,28)\n",
    "        x = self.conv1(x)\n",
    "\n",
    "        x = self.conv2(x)\n",
    "\n",
    "        return x\n"
   ]
  },
  {
   "cell_type": "markdown",
   "metadata": {},
   "source": [
    "Here we are working with stride = 1, but when stride > 1, we will see a reduction is size with more and more convolution layers added.to retrieve back the image in input resolution, we do conv2d transpose which is supported in pytorch"
   ]
  },
  {
   "cell_type": "code",
   "execution_count": 166,
   "metadata": {},
   "outputs": [],
   "source": [
    "class AutoEncoder(PytorchModel):\n",
    "    def __init__(self, hidden_size = 28):\n",
    "        super(AutoEncoder,self).__init__()\n",
    "        self.encoder = Encoder(hidden_size)\n",
    "        self.decoder = Decoder(hidden_size)\n",
    "    \n",
    "    def forward(self, x):\n",
    "\n",
    "        assert(len(x.shape) == 4)\n",
    "\n",
    "        encoding = self.encoder(x)\n",
    "\n",
    "        x = self.decoder(encoding)\n",
    "\n",
    "        return (x,encoding)"
   ]
  },
  {
   "cell_type": "code",
   "execution_count": 173,
   "metadata": {},
   "outputs": [],
   "source": [
    "# Trainer class\n",
    "class PytorchTrainer_updated(object):\n",
    "    def __init__(self, model : PytorchModel, optimizer : Optimizer, criterion : _Loss):\n",
    "        self.model = model\n",
    "        self.optimizer = optimizer\n",
    "        self.criterion = criterion\n",
    "        self._check_optim_net_aligned()\n",
    "    def _check_optim_net_aligned(self):\n",
    "        self.optimizer.param_groups[0][\"params\"] == list(self.model.parameters())\n",
    "\n",
    "    def _generate_batches(self, X: torch.Tensor, y : torch.Tensor, size : int = 32) -> Tuple[torch.Tensor]:\n",
    "        N = X.shape[0]\n",
    "        for i in range(0,N,size):\n",
    "            x_batch, y_batch = X[i:i+size], y[i:i+size]\n",
    "            yield x_batch, y_batch\n",
    "    \n",
    "    def fit(self, X_train:torch.Tensor, y_train:torch.Tensor, X_test:torch.Tensor, y_test:torch.Tensor,epochs : int =  100, eval_every : int = 10, batch_size : int = 32,final_lr_exp: int = None):\n",
    "        init_lr = self.optimizer.param_groups[0]['lr']\n",
    "        if final_lr_exp:\n",
    "            decay = (final_lr_exp / init_lr) ** (1.0 / (epochs + 1))\n",
    "            scheduler = lr_scheduler.ExponentialLR(self.optim, gamma=decay)\n",
    "        for e in range(epochs):\n",
    "            X_train, y_train = permute_data(X_train, y_train)\n",
    "            batch_generator = self._generate_batches(X_train, y_train, batch_size)\n",
    "            self.model.train() # trainin mode\n",
    "            for i, (x_batch, y_batch) in enumerate(batch_generator):\n",
    "                self.optimizer.zero_grad() # zero out the grads\n",
    "\n",
    "                y_pred = self.model(x_batch)[0]\n",
    "                loss = self.criterion(y_pred, y_batch)\n",
    "                loss.backward()\n",
    "                self.optimizer.step()\n",
    "            if e % eval_every == 0:\n",
    "                self.model.eval() # eval mode\n",
    "                output = self.model(X_test)[0]\n",
    "                loss = self.criterion(output, y_test)\n",
    "                print(\"Epoch : {}, Loss : {}\".format(e,loss.item()))"
   ]
  },
  {
   "cell_type": "markdown",
   "metadata": {},
   "source": [
    "in our model, we have a tanh activation after the nn.Linear() which squashes the output in the range of -1,1 but this is supposed to reconstruct our image which is in a different scale, so we convert our input image to this scale"
   ]
  },
  {
   "cell_type": "code",
   "execution_count": 174,
   "metadata": {},
   "outputs": [],
   "source": [
    "(train_images, train_labels), (test_images, test_labels) = mnist.load_data()\n",
    "train_images = train_images.reshape(-1,28*28)\n",
    "test_images = test_images.reshape(-1,28*28)\n",
    "\n",
    "X_train = (train_images - np.mean(train_images)) / np.std(train_images)\n",
    "X_test = (test_images - np.mean(train_images)) / np.std(train_images)\n",
    "\n",
    "X_train_conv = X_train.reshape(-1,1,28,28)\n",
    "X_test_conv = X_test.reshape(-1,1,28,28)\n",
    "\n",
    "X_train_conv = torch.from_numpy(X_train_conv.astype(np.float32))\n",
    "X_test_conv = torch.from_numpy(X_test_conv.astype(np.float32))\n",
    "\n",
    "X_train_auto = (X_train_conv - X_train_conv.min()) / (X_train_conv.max() - X_train_conv.min()) * 2 - 1\n",
    "X_test_auto = (X_test_conv - X_train_conv.min()) / (X_train_conv.max() - X_train_conv.min()) * 2 - 1"
   ]
  },
  {
   "cell_type": "code",
   "execution_count": 175,
   "metadata": {},
   "outputs": [
    {
     "name": "stdout",
     "output_type": "stream",
     "text": [
      "tensor([1.], device='mps:0')\n"
     ]
    }
   ],
   "source": [
    "if torch.backends.mps.is_available():\n",
    "    mps_device = torch.device(\"mps\")\n",
    "    x = torch.ones(1, device=mps_device)\n",
    "    print (x)\n",
    "else:\n",
    "    print (\"MPS device not found.\")"
   ]
  },
  {
   "cell_type": "code",
   "execution_count": 176,
   "metadata": {},
   "outputs": [
    {
     "name": "stdout",
     "output_type": "stream",
     "text": [
      "torch.Size([60000, 1, 28, 28])\n",
      "torch.Size([10000, 1, 28, 28])\n"
     ]
    }
   ],
   "source": [
    "print(X_train_auto.shape)\n",
    "print(X_test_auto.shape)"
   ]
  },
  {
   "cell_type": "code",
   "execution_count": 180,
   "metadata": {},
   "outputs": [
    {
     "name": "stdout",
     "output_type": "stream",
     "text": [
      "Epoch : 0, Loss : 0.05582563579082489\n"
     ]
    }
   ],
   "source": [
    "model = AutoEncoder(28)\n",
    "model.to(mps_device)\n",
    "criterion = nn.MSELoss()\n",
    "optimizer = torch.optim.SGD(model.parameters(), lr = 0.01, momentum=0.9)\n",
    "trainer = PytorchTrainer_updated(model, optimizer, criterion)\n",
    "\n",
    "trainer.fit(X_train_auto.to(mps_device), X_train_auto.to(mps_device), X_test_auto.to(mps_device), X_test_auto.to(mps_device), epochs=2, batch_size=32)"
   ]
  },
  {
   "cell_type": "code",
   "execution_count": 182,
   "metadata": {},
   "outputs": [],
   "source": [
    "reconstructed_images, image_representations = model(X_test_auto.to(mps_device))"
   ]
  },
  {
   "cell_type": "code",
   "execution_count": 184,
   "metadata": {},
   "outputs": [
    {
     "data": {
      "text/plain": [
       "(torch.Size([10000, 1, 28, 28]), torch.Size([10000, 28]))"
      ]
     },
     "execution_count": 184,
     "metadata": {},
     "output_type": "execute_result"
    }
   ],
   "source": [
    "reconstructed_images.shape,image_representations.shape"
   ]
  },
  {
   "cell_type": "markdown",
   "metadata": {},
   "source": [
    "plot the image and the reconstruction"
   ]
  },
  {
   "cell_type": "code",
   "execution_count": 189,
   "metadata": {},
   "outputs": [
    {
     "data": {
      "image/png": "[encoded data removed]",
      "text/plain": [
       "<Figure size 640x480 with 2 Axes>"
      ]
     },
     "metadata": {},
     "output_type": "display_data"
    }
   ],
   "source": [
    "import matplotlib.pyplot as plt\n",
    "import seaborn as sns\n",
    "def display_image(ax,\n",
    "    t: Tensor):\n",
    "    n = t.detach().numpy()\n",
    "    ax.imshow(n.reshape(28, 28))\n",
    "\n",
    "np.random.seed(20190502)\n",
    "a = np.random.randint(0, 10000)\n",
    "\n",
    "f, axarr = plt.subplots(1,2)\n",
    "display_image(axarr[0], X_test_auto[a])\n",
    "display_image(axarr[1], reconstructed_images.cpu()[a])\n",
    "\n",
    "axarr[0].set_title(\"Original image\")\n",
    "axarr[1].set_title(\"Image reconstructed\\nfrom autoencoder\")\n",
    "\n",
    "axarr[0].axis('off')\n",
    "axarr[1].axis('off');"
   ]
  },
  {
   "cell_type": "markdown",
   "metadata": {},
   "source": [
    "we see that the model is able to learn some latent representation from which it is able to get back the input image to a reasonable extent"
   ]
  }
 ],
 "metadata": {
  "kernelspec": {
   "display_name": "base",
   "language": "python",
   "name": "python3"
  },
  "language_info": {
   "codemirror_mode": {
    "name": "ipython",
    "version": 3
   },
   "file_extension": ".py",
   "mimetype": "text/x-python",
   "name": "python",
   "nbconvert_exporter": "python",
   "pygments_lexer": "ipython3",
   "version": "3.11.5"
  }
 },
 "nbformat": 4,
 "nbformat_minor": 2
}
