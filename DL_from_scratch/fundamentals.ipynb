{
 "cells": [
  {
   "cell_type": "code",
   "execution_count": 1,
   "metadata": {},
   "outputs": [],
   "source": [
    "import numpy as np\n",
    "from typing import Callable, Dict, List, Tuple"
   ]
  },
  {
   "cell_type": "markdown",
   "metadata": {},
   "source": [
    "Linear regression from scratch using numpy"
   ]
  },
  {
   "cell_type": "code",
   "execution_count": 2,
   "metadata": {},
   "outputs": [],
   "source": [
    "def forward_linear_regression(X_batch: np.ndarray,\n",
    "                              y_batch: np.ndarray,\n",
    "                              weights: Dict[str, np.ndarray]\n",
    "                              )-> Tuple[float, Dict[str, np.ndarray]]:\n",
    "    '''\n",
    "    Forward pass for the step-by-step linear regression.\n",
    "    '''\n",
    "    # assert batch sizes of X and y are equal\n",
    "    assert X_batch.shape[0] == y_batch.shape[0]\n",
    "\n",
    "    # assert that matrix multiplication can work\n",
    "    assert X_batch.shape[1] == weights['W'].shape[0]\n",
    "\n",
    "    # assert that B is simply a 1x1 ndarray\n",
    "    assert weights['B'].shape[0] == weights['B'].shape[1] == 1\n",
    "\n",
    "    # compute the operations on the forward pass\n",
    "    N = np.dot(X_batch, weights['W'])\n",
    "\n",
    "    P = N + weights['B']\n",
    "\n",
    "    loss = np.mean(np.power(y_batch - P, 2))\n",
    "\n",
    "    # save the information computed on the forward pass\n",
    "    forward_info: Dict[str, np.ndarray] = {}\n",
    "    forward_info['X'] = X_batch\n",
    "    forward_info['N'] = N\n",
    "    forward_info['P'] = P\n",
    "    forward_info['y'] = y_batch\n",
    "\n",
    "    return loss, forward_info\n",
    "\n",
    "\n",
    "\n",
    "\n",
    "    "
   ]
  },
  {
   "cell_type": "markdown",
   "metadata": {},
   "source": [
    "for backpropagation, we need to compute the quantity $\\frac{\\partial{L}}{\\partial{W}}$ and the quantity $\\frac{\\partial{L}}{\\partial{B}}$. this is a chain of multiple partial derivatives computed at each stage multiplied together as observed before in basics. \\\n",
    "$\\frac{\\partial{L}}{\\partial{W}} = \\frac{\\partial{L}}{\\partial{P}} \\times \\frac{\\partial{P}}{\\partial{N}} \\times \\frac{\\partial{N}}{\\partial{W}}$"
   ]
  },
  {
   "cell_type": "markdown",
   "metadata": {},
   "source": [
    "$\\frac{\\partial{L}}{\\partial{P}} = 2 \\times (y_{batch} - P) \\times -1$ \\\n",
    "$\\frac{\\partial{P}}{\\partial{N}} = \\bold{1}$ \\\n",
    " $\\frac{\\partial{N}}{\\partial{W}} = X^T $"
   ]
  },
  {
   "cell_type": "code",
   "execution_count": 3,
   "metadata": {},
   "outputs": [],
   "source": [
    "def loss_gradients(forward_info: Dict[str, np.ndarray],\n",
    "                   weights: Dict[str, np.ndarray]) -> Dict[str, np.ndarray]:\n",
    "    '''\n",
    "    Compute dLdW and dLdB for the step-by-step linear regression model.\n",
    "    '''\n",
    "\n",
    "    batch_size = forward_info['X'].shape[0]\n",
    "\n",
    "    dLdP = -2 * (forward_info['y'] - forward_info['P'])\n",
    "\n",
    "    dPdN = np.ones_like(forward_info['N'])\n",
    "\n",
    "    dPdB = np.ones_like(weights['B'])\n",
    "\n",
    "    dLdN = dLdP * dPdN\n",
    "\n",
    "    dNdW = np.transpose(forward_info['X'], (1, 0))\n",
    "    \n",
    "    # need to use matrix multiplication here,\n",
    "    # with dNdW on the left (see note at the end of last chapter)    \n",
    "    dLdW = np.dot(dNdW, dLdN)\n",
    "\n",
    "    # need to sum along dimension representing the batch size:\n",
    "    # see note near the end of the chapter    \n",
    "    dLdB = (dLdP * dPdB).sum(axis=0)\n",
    "\n",
    "    loss_gradients: Dict[str, np.ndarray] = {}\n",
    "    loss_gradients['W'] = dLdW\n",
    "    loss_gradients['B'] = dLdB\n",
    "\n",
    "    return loss_gradients\n",
    "    \n",
    "    \n",
    "\n",
    "    \n"
   ]
  },
  {
   "cell_type": "markdown",
   "metadata": {},
   "source": [
    "if we have a dataset which has been preprocessed, we train the model on the data. training constitutes three steps iteratively performed in batches : \\\n",
    "forward pass - compute the loss \\\n",
    "backward pass - calculate the gradients for W and B \\\n",
    "updation - update the weights and bias"
   ]
  },
  {
   "cell_type": "markdown",
   "metadata": {},
   "source": [
    "Dataset loadinng + preprocessing"
   ]
  },
  {
   "cell_type": "code",
   "execution_count": 4,
   "metadata": {},
   "outputs": [],
   "source": [
    "from sklearn.datasets import fetch_california_housing\n",
    "housing = fetch_california_housing()"
   ]
  },
  {
   "cell_type": "code",
   "execution_count": 5,
   "metadata": {},
   "outputs": [
    {
     "name": "stdout",
     "output_type": "stream",
     "text": [
      "(20640, 8) (20640,)\n"
     ]
    }
   ],
   "source": [
    "data = housing['data']\n",
    "target = housing['target']\n",
    "feature_names = housing['target_names']\n",
    "print(data.shape, target.shape)"
   ]
  },
  {
   "cell_type": "code",
   "execution_count": 6,
   "metadata": {},
   "outputs": [],
   "source": [
    "from sklearn.preprocessing import StandardScaler"
   ]
  },
  {
   "cell_type": "code",
   "execution_count": 7,
   "metadata": {},
   "outputs": [],
   "source": [
    "s = StandardScaler()\n",
    "data = s.fit_transform(data)\n"
   ]
  },
  {
   "cell_type": "markdown",
   "metadata": {},
   "source": [
    "Linear Regression using scikit learn's regression library"
   ]
  },
  {
   "cell_type": "code",
   "execution_count": 8,
   "metadata": {},
   "outputs": [],
   "source": [
    "from sklearn.model_selection import train_test_split\n",
    "X_train, X_test, y_train, y_test = train_test_split(data, target,test_size=0.3, random_state = 42)\n",
    "y_train, y_test = y_train.reshape(-1,1), y_test.reshape(-1,1)"
   ]
  },
  {
   "cell_type": "code",
   "execution_count": 9,
   "metadata": {},
   "outputs": [
    {
     "data": {
      "text/plain": [
       "0.5957702326061665"
      ]
     },
     "execution_count": 9,
     "metadata": {},
     "output_type": "execute_result"
    }
   ],
   "source": [
    "from sklearn.linear_model import LinearRegression\n",
    "lr = LinearRegression(fit_intercept = True)\n",
    "lr.fit(X_train, y_train)\n",
    "lr.score(X_test, y_test)\n"
   ]
  },
  {
   "cell_type": "code",
   "execution_count": 10,
   "metadata": {},
   "outputs": [],
   "source": [
    "y_pred = lr.predict(X_test)\n",
    "y_pred = y_pred.reshape(-1,1)"
   ]
  },
  {
   "cell_type": "code",
   "execution_count": 11,
   "metadata": {},
   "outputs": [],
   "source": [
    "import matplotlib.pyplot as plt"
   ]
  },
  {
   "cell_type": "code",
   "execution_count": 12,
   "metadata": {},
   "outputs": [
    {
     "data": {
      "text/plain": [
       "[<matplotlib.lines.Line2D at 0x2b234d6d0>]"
      ]
     },
     "execution_count": 12,
     "metadata": {},
     "output_type": "execute_result"
    },
    {
     "data": {
      "image/png": "[encoded data removed]",
      "text/plain": [
       "<Figure size 640x480 with 1 Axes>"
      ]
     },
     "metadata": {},
     "output_type": "display_data"
    }
   ],
   "source": [
    "plt.xlabel(\"Predicted value\")\n",
    "plt.ylabel(\"Actual value\")\n",
    "plt.title(\"Predicted vs Actual value\")\n",
    "plt.xlim([0,5])\n",
    "plt.ylim([0,5])\n",
    "plt.scatter(y_pred, y_test)\n",
    "plt.plot([0,5],[0,5])"
   ]
  },
  {
   "cell_type": "code",
   "execution_count": 13,
   "metadata": {},
   "outputs": [],
   "source": [
    "def mae(preds: np.ndarray, actuals: np.ndarray):\n",
    "    '''\n",
    "    Compute mean absolute error.\n",
    "    '''\n",
    "    return np.mean(np.abs(preds - actuals))\n",
    "\n",
    "def rmse(preds: np.ndarray, actuals: np.ndarray):\n",
    "    '''\n",
    "    Compute root mean squared error.\n",
    "    '''\n",
    "    return np.sqrt(np.mean(np.power(preds - actuals, 2)))"
   ]
  },
  {
   "cell_type": "code",
   "execution_count": 14,
   "metadata": {},
   "outputs": [
    {
     "name": "stdout",
     "output_type": "stream",
     "text": [
      "Mean absolute error: 0.5272 \n",
      "Root mean squared error: 0.7284\n"
     ]
    }
   ],
   "source": [
    "print(\"Mean absolute error:\", round(mae(y_pred, y_test), 4), \"\\n\"\n",
    "      \"Root mean squared error:\", round(rmse(y_pred, y_test), 4))"
   ]
  },
  {
   "cell_type": "code",
   "execution_count": 15,
   "metadata": {},
   "outputs": [
    {
     "data": {
      "text/plain": [
       "array([[ 8.46962874e-01,  1.21848755e-01, -3.02077128e-01,\n",
       "         3.68977844e-01, -8.78475338e-04, -3.50004161e-02,\n",
       "        -8.93952910e-01, -8.68886568e-01]])"
      ]
     },
     "execution_count": 15,
     "metadata": {},
     "output_type": "execute_result"
    }
   ],
   "source": [
    "lr.coef_ # weights obtained from linear regression"
   ]
  },
  {
   "cell_type": "code",
   "execution_count": 16,
   "metadata": {},
   "outputs": [
    {
     "data": {
      "text/plain": [
       "array([2.06893709])"
      ]
     },
     "execution_count": 16,
     "metadata": {},
     "output_type": "execute_result"
    }
   ],
   "source": [
    "lr.intercept_ # bias obtained from linear regression"
   ]
  },
  {
   "cell_type": "markdown",
   "metadata": {},
   "source": [
    "Manual regression using the forward loss and backprop gradients we coded up before"
   ]
  },
  {
   "cell_type": "code",
   "execution_count": 17,
   "metadata": {},
   "outputs": [],
   "source": [
    "def permute_data(X: np.ndarray, y: np.ndarray):\n",
    "    '''\n",
    "    Permute X and y, using the same permutation, along axis=0\n",
    "    '''\n",
    "    perm = np.random.permutation(X.shape[0])\n",
    "    return X[perm], y[perm]\n"
   ]
  },
  {
   "cell_type": "code",
   "execution_count": 18,
   "metadata": {},
   "outputs": [],
   "source": [
    "Batch = Tuple[np.ndarray, np.ndarray]\n",
    "\n",
    "def generate_batch(X: np.ndarray, \n",
    "                   y: np.ndarray,\n",
    "                   start: int = 0,\n",
    "                   batch_size: int = 10) -> Batch:\n",
    "    '''\n",
    "    Generate batch from X and y, given a start position\n",
    "    '''\n",
    "    assert X.ndim == y.ndim == 2, \\\n",
    "    \"X and Y must be 2 dimensional\"\n",
    "\n",
    "    if ((start+batch_size) > X.shape[0]):\n",
    "        batch_size = X.shape[0] - start\n",
    "    \n",
    "    X_batch, y_batch = X[start:start+batch_size], y[start:start+batch_size]\n",
    "    \n",
    "    return X_batch, y_batch"
   ]
  },
  {
   "cell_type": "code",
   "execution_count": 19,
   "metadata": {},
   "outputs": [],
   "source": [
    "def init_weights(n_in: int) -> Dict[str, np.ndarray]:\n",
    "    '''\n",
    "    Initialize weights on first forward pass of model.\n",
    "    '''\n",
    "    \n",
    "    weights: Dict[str, np.ndarray] = {}\n",
    "    W = np.random.randn(n_in, 1)\n",
    "    B = np.random.randn(1, 1)\n",
    "    \n",
    "    weights['W'] = W\n",
    "    weights['B'] = B\n",
    "\n",
    "    return weights"
   ]
  },
  {
   "cell_type": "code",
   "execution_count": 20,
   "metadata": {},
   "outputs": [],
   "source": [
    "def train(X: np.ndarray, \n",
    "          y: np.ndarray, \n",
    "          n_iter: int = 1000,\n",
    "          learning_rate: float = 0.01,\n",
    "          batch_size: int = 100,\n",
    "          return_losses: bool = False, \n",
    "          return_weights: bool = False, \n",
    "          seed: int = 1) -> None:\n",
    "    '''\n",
    "    Train model for a certain number of epochs.\n",
    "    '''\n",
    "    if seed:\n",
    "        np.random.seed(seed)\n",
    "    start = 0\n",
    "\n",
    "    # Initialize weights\n",
    "    weights = init_weights(X.shape[1])\n",
    "\n",
    "    # Permute data\n",
    "    X, y = permute_data(X, y)\n",
    "    \n",
    "    if return_losses:\n",
    "        losses = []\n",
    "\n",
    "    for i in range(n_iter):\n",
    "\n",
    "        # Generate batch\n",
    "        if start >= X.shape[0]:\n",
    "            X, y = permute_data(X, y)\n",
    "            start = 0\n",
    "        \n",
    "        X_batch, y_batch = generate_batch(X, y, start, batch_size)\n",
    "        start += batch_size\n",
    "    \n",
    "        # Train net using generated batch\n",
    "        loss,forward_info = forward_linear_regression(X_batch, y_batch, weights)\n",
    "\n",
    "\n",
    "        if return_losses:\n",
    "            losses.append(loss)\n",
    "\n",
    "        loss_grads = loss_gradients(forward_info, weights)\n",
    "        for key in weights.keys():\n",
    "            weights[key] -= learning_rate * loss_grads[key]\n",
    "\n",
    "    if return_weights:\n",
    "        return losses, weights\n",
    "    \n",
    "    return None\n",
    "\n",
    "\n",
    "    "
   ]
  },
  {
   "cell_type": "code",
   "execution_count": 21,
   "metadata": {},
   "outputs": [],
   "source": [
    "\t\n",
    "train_info = train(X_train, y_train,\n",
    "                   n_iter = 10000,\n",
    "                   learning_rate = 0.0001,\n",
    "                   batch_size=23, \n",
    "                   return_losses=True, \n",
    "                   return_weights=True, \n",
    "                   seed=180708)\n",
    "losses = train_info[0]\n",
    "weights = train_info[1]"
   ]
  },
  {
   "cell_type": "code",
   "execution_count": 22,
   "metadata": {},
   "outputs": [
    {
     "data": {
      "text/plain": [
       "[<matplotlib.lines.Line2D at 0x2b2e8e590>]"
      ]
     },
     "execution_count": 22,
     "metadata": {},
     "output_type": "execute_result"
    },
    {
     "data": {
      "image/png": "[encoded data removed]",
      "text/plain": [
       "<Figure size 640x480 with 1 Axes>"
      ]
     },
     "metadata": {},
     "output_type": "display_data"
    }
   ],
   "source": [
    "plt.plot(list(range(10000)), train_info[0])"
   ]
  },
  {
   "cell_type": "code",
   "execution_count": 23,
   "metadata": {},
   "outputs": [],
   "source": [
    "def predict(X: np.ndarray,\n",
    "            weights: Dict[str, np.ndarray]):\n",
    "    '''\n",
    "    Generate predictions from the step-by-step linear regression model.\n",
    "    '''\n",
    "\n",
    "    N = np.dot(X, weights['W'])\n",
    "\n",
    "    return N + weights['B']"
   ]
  },
  {
   "cell_type": "code",
   "execution_count": 24,
   "metadata": {},
   "outputs": [],
   "source": [
    "preds = predict(X_test, weights)"
   ]
  },
  {
   "cell_type": "code",
   "execution_count": 25,
   "metadata": {},
   "outputs": [
    {
     "name": "stdout",
     "output_type": "stream",
     "text": [
      "Mean absolute error: 0.5287 \n",
      "Root mean squared error: 0.7298\n"
     ]
    }
   ],
   "source": [
    "print(\"Mean absolute error:\", round(mae(preds, y_test), 4), \"\\n\"\n",
    "      \"Root mean squared error:\", round(rmse(preds, y_test), 4))"
   ]
  },
  {
   "cell_type": "code",
   "execution_count": 26,
   "metadata": {},
   "outputs": [
    {
     "data": {
      "image/png": "[encoded data removed]",
      "text/plain": [
       "<Figure size 640x480 with 1 Axes>"
      ]
     },
     "metadata": {},
     "output_type": "display_data"
    }
   ],
   "source": [
    "plt.xlabel(\"Predicted value\")\n",
    "plt.ylabel(\"Actual value\")\n",
    "plt.title(\"Predicted vs. Actual values for\\ncustom linear regression model\");\n",
    "plt.xlim([0, 5])\n",
    "plt.ylim([0, 5])\n",
    "plt.scatter(preds, y_test)\n",
    "plt.plot([0, 5], [0, 5]);\n",
    "# plt.savefig(GRAPHS_IMG_FILEPATH + \"01_linear_custom_pred_vs_actual.png\");"
   ]
  },
  {
   "cell_type": "code",
   "execution_count": 27,
   "metadata": {},
   "outputs": [
    {
     "name": "stdout",
     "output_type": "stream",
     "text": [
      "[[ 0.82903694]\n",
      " [ 0.12585241]\n",
      " [-0.23669174]\n",
      " [ 0.32685348]\n",
      " [-0.00394049]\n",
      " [-0.0258485 ]\n",
      " [-0.89487045]\n",
      " [-0.86564055]]\n",
      "[[ 8.46962874e-01  1.21848755e-01 -3.02077128e-01  3.68977844e-01\n",
      "  -8.78475338e-04 -3.50004161e-02 -8.93952910e-01 -8.68886568e-01]]\n"
     ]
    }
   ],
   "source": [
    "#comparison of weights of manual regression and sklearn regression \n",
    "print(weights['W'])\n",
    "print(lr.coef_)"
   ]
  },
  {
   "cell_type": "code",
   "execution_count": 28,
   "metadata": {},
   "outputs": [
    {
     "name": "stdout",
     "output_type": "stream",
     "text": [
      "[[2.07608342]]\n",
      "[2.06893709]\n"
     ]
    }
   ],
   "source": [
    "print(weights['B'])\n",
    "print(lr.intercept_)"
   ]
  },
  {
   "cell_type": "markdown",
   "metadata": {},
   "source": [
    "Neural networks from scratch"
   ]
  },
  {
   "cell_type": "code",
   "execution_count": 29,
   "metadata": {},
   "outputs": [],
   "source": [
    "def sigmoid(x : np.ndarray) -> np.ndarray:\n",
    "    return 1 / (1+np.exp(-x))"
   ]
  },
  {
   "cell_type": "code",
   "execution_count": 32,
   "metadata": {},
   "outputs": [],
   "source": [
    "def forward_loss(X : np.ndarray, y : np.ndarray, weights : Dict[str,np.ndarray]) -> Tuple[Dict[str,np.ndarray], float] :\n",
    "    M1 = np.dot(X, weights['W1'])\n",
    "    N1 = M1 + weights['B1']\n",
    "    O1 = sigmoid(N1)\n",
    "    M2 = np.dot(O1, weights['W2'])\n",
    "    P = M2 + weights['B2']\n",
    "    loss = np.mean(np.power(y-P,2))\n",
    "    forward_info : Dict[str,np.ndarray] = {}\n",
    "    forward_info['X'] = X\n",
    "    forward_info['y'] = y\n",
    "    forward_info['M1'] = M1\n",
    "    forward_info['N1'] = N1\n",
    "    forward_info['O1'] = O1\n",
    "    forward_info['M2'] = M2\n",
    "    forward_info['P'] = P\n",
    "    return forward_info,loss\n",
    "\n",
    "    \n"
   ]
  },
  {
   "cell_type": "code",
   "execution_count": 34,
   "metadata": {},
   "outputs": [],
   "source": [
    "def loss_gradients(forward_info : Dict[str,np.ndarray],weights : Dict[str,np.ndarray]) -> Dict[str,np.ndarray] :\n",
    "    dLdP = -2 * (forward_info['y'] - forward_info['P'])\n",
    "    dPdM2 = np.ones_like(forward_info['M2'])\n",
    "    dPdB2 = np.ones_like(weights['B2'])\n",
    "    dLdM2 = dLdP * dPdM2\n",
    "    dLdB2 = (dLdP * dPdB2).sum(axis=0)\n",
    "    dM2dO1 = np.transpose(weights['W2'],(1,0))\n",
    "    dM2dW2 = np.transpose(forward_info['O1'],(1,0))\n",
    "    dLdW2 = np.dot(dM2dW2,dLdM2)\n",
    "    dLdO1 = np.dot( dLdM2,dM2dO1)\n",
    "    dO1dN1 = sigmoid(forward_info['N1']) * (1 - sigmoid(forward_info['N1']))\n",
    "    dLdN1 = dLdO1 * dO1dN1\n",
    "    dN1dB1 = np.ones_like(weights['B1'])\n",
    "    dN1dM1 = np.ones_like(forward_info['M1'])\n",
    "    dLdB1 = (dLdN1 * dN1dB1).sum(axis=0)\n",
    "    dLdM1 = dLdN1 * dN1dM1\n",
    "    dM1dW1 = np.transpose(forward_info['X'],(1,0))\n",
    "    dLdW1 = np.dot(dM1dW1,dLdM1)\n",
    "    loss_gradients : Dict[str,np.ndarray] = {}\n",
    "    loss_gradients['W1'] = dLdW1\n",
    "    loss_gradients['B1'] = dLdB1.sum(axis=0)\n",
    "    loss_gradients['W2'] = dLdW2\n",
    "    loss_gradients['B2'] = dLdB2.sum(axis=0)\n",
    "\n",
    "\n",
    "\n",
    "\n",
    "\n",
    "\n",
    "\n",
    "\n",
    "\n",
    "\n",
    "\n",
    "\n",
    "\n",
    "\n"
   ]
  },
  {
   "cell_type": "code",
   "execution_count": 35,
   "metadata": {},
   "outputs": [],
   "source": [
    "def init_weights(input_size : int, hidden_size : int) -> Dict[str,np.ndarray]:\n",
    "    weights : Dict[str,np.ndarray] = {}\n",
    "    weights['W1'] = np.random.randn(input_size, hidden_size)\n",
    "    weights['B1'] = np.random.randn(1,hidden_size)\n",
    "    weights['W2'] = np.random.randn(hidden_size,1)\n",
    "    weights['B2'] = np.random_randn(1,1)\n",
    "    return weights"
   ]
  },
  {
   "cell_type": "code",
   "execution_count": 36,
   "metadata": {},
   "outputs": [],
   "source": [
    "def predict(X : np.ndarray, weights : Dict[str, np.ndarray]) -> np.ndarray:\n",
    "    M1 = np.dot(X, weights['W1'])\n",
    "    N1 = M1 + weights['B1']\n",
    "    O1 = sigmoid(N1)\n",
    "    M2 = np.dot(O1,weights['W2'])\n",
    "    P = M2 + weights['B2']\n",
    "    return P"
   ]
  },
  {
   "cell_type": "code",
   "execution_count": null,
   "metadata": {},
   "outputs": [],
   "source": [
    "def train(X_train : np.ndarray, y_train : np.ndarray, X_test : np.ndarray, y_test : np.ndarray,\n",
    "          n_iter : int = 1000, learning_rate : float = 0.001, hidden_size : int = 13, \n",
    "          batch_size : int = 13, return_losses : bool = False, return_weights : bool = False, return_scores : bool = False, \n",
    "          seed : int = 42) -> None :\n",
    "    if seed:\n",
    "        np.random.seed(seed)\n",
    "    start = 0\n",
    "    #init weights\n",
    "    weights = init_weights(X_train.shape[1], hidden_size)\n",
    "    X_train, y_train = permute_data(X_train, y_train) # shuffle input data\n",
    "    losses = []\n",
    "    val_scores = []\n",
    "    \n",
    "    for i in range(n_iter):\n",
    "        # generate batch\n",
    "        if start >= X_train.shape[0]:\n",
    "            X_train, y_train = permute_data(X_train, y_train)\n",
    "            start = 0\n",
    "        X_batch, y_batch = generate_batch(X_train, y_train, start, batch_size)\n",
    "        start += batch_size\n",
    "\n",
    "        #forward_pass\n",
    "        forward_info, loss = forward_loss(X_batch, y_batch, weights)\n",
    "\n",
    "        if return_losses:\n",
    "            losses.append(loss)\n",
    "        \n",
    "        # backprop\n",
    "        loss_grads = loss_gradients(forward_info, weights)\n",
    "        \n",
    "        #update weights\n",
    "        for key in weights.keys():\n",
    "            weights[key] -= learning_rate * loss_grads[key]\n",
    "        \n",
    "        if return_scores:\n",
    "            y_pred = predict(X_test, weights)\n",
    "            val_scores.append()\n",
    "\n",
    "\n",
    "\n",
    "\n",
    "\n",
    "\n",
    "\n"
   ]
  },
  {
   "cell_type": "code",
   "execution_count": null,
   "metadata": {},
   "outputs": [],
   "source": []
  }
 ],
 "metadata": {
  "kernelspec": {
   "display_name": "base",
   "language": "python",
   "name": "python3"
  },
  "language_info": {
   "codemirror_mode": {
    "name": "ipython",
    "version": 3
   },
   "file_extension": ".py",
   "mimetype": "text/x-python",
   "name": "python",
   "nbconvert_exporter": "python",
   "pygments_lexer": "ipython3",
   "version": "3.11.5"
  }
 },
 "nbformat": 4,
 "nbformat_minor": 2
}
