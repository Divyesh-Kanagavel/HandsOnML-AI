{
  "nbformat": 4,
  "nbformat_minor": 0,
  "metadata": {
    "colab": {
      "provenance": [],
      "authorship_tag": "ABX9TyPXrvCHPsnzpc4VCI1J8H35",
      "include_colab_link": true
    },
    "kernelspec": {
      "name": "python3",
      "display_name": "Python 3"
    },
    "language_info": {
      "name": "python"
    }
  },
  "cells": [
    {
      "cell_type": "markdown",
      "metadata": {
        "id": "view-in-github",
        "colab_type": "text"
      },
      "source": [
        "<a href=\"https://colab.research.google.com/github/Divyesh-Kanagavel/HandsOnML-AI/blob/master/numpy_tuts.ipynb\" target=\"_parent\"><img src=\"https://colab.research.google.com/assets/colab-badge.svg\" alt=\"Open In Colab\"/></a>"
      ]
    },
    {
      "cell_type": "code",
      "execution_count": 1,
      "metadata": {
        "id": "Psw6jjAJj9Ay"
      },
      "outputs": [],
      "source": [
        "import numpy as np"
      ]
    },
    {
      "cell_type": "markdown",
      "source": [
        "Some numpy terms [also torch, jax, mlx]:\n",
        "Each dimension is called **axis**\n",
        "number of axes is called **rank**\n",
        "array's list of axes is called **shape**\n",
        "total number of elements is called **size**\n",
        "\n"
      ],
      "metadata": {
        "id": "a7CBjoJYqbch"
      }
    },
    {
      "cell_type": "code",
      "source": [
        "#N-d array\n",
        "\n",
        "print(np.array([[1,2,3,4], [3,4,5,6]]))"
      ],
      "metadata": {
        "colab": {
          "base_uri": "https://localhost:8080/"
        },
        "id": "x3dWB_wMkAvN",
        "outputId": "1c24567a-2472-4086-81a5-318544224594"
      },
      "execution_count": 2,
      "outputs": [
        {
          "output_type": "stream",
          "name": "stdout",
          "text": [
            "[[1 2 3 4]\n",
            " [3 4 5 6]]\n"
          ]
        }
      ]
    },
    {
      "cell_type": "code",
      "source": [
        "print(np.zeros((2,3,4), dtype=int))"
      ],
      "metadata": {
        "colab": {
          "base_uri": "https://localhost:8080/"
        },
        "id": "Sn4RT-OrAFAU",
        "outputId": "2824f3b9-01d7-4131-de0d-bfba40fd59f9"
      },
      "execution_count": 4,
      "outputs": [
        {
          "output_type": "stream",
          "name": "stdout",
          "text": [
            "[[[0 0 0 0]\n",
            "  [0 0 0 0]\n",
            "  [0 0 0 0]]\n",
            "\n",
            " [[0 0 0 0]\n",
            "  [0 0 0 0]\n",
            "  [0 0 0 0]]]\n"
          ]
        }
      ]
    },
    {
      "cell_type": "code",
      "source": [
        "type(np.zeros((2,3,4)))"
      ],
      "metadata": {
        "colab": {
          "base_uri": "https://localhost:8080/"
        },
        "id": "1zVDqUHCAIk-",
        "outputId": "81080d1e-3c94-4207-894c-0f9badf4f0d0"
      },
      "execution_count": 5,
      "outputs": [
        {
          "output_type": "execute_result",
          "data": {
            "text/plain": [
              "numpy.ndarray"
            ]
          },
          "metadata": {},
          "execution_count": 5
        }
      ]
    },
    {
      "cell_type": "code",
      "source": [
        "#init an array with a particular value\n",
        "np.full((2,3,5), np.pi)"
      ],
      "metadata": {
        "colab": {
          "base_uri": "https://localhost:8080/"
        },
        "id": "JtVJ-eZiASlz",
        "outputId": "5d23279b-b957-426a-b13b-4ecb2ad4a251"
      },
      "execution_count": 6,
      "outputs": [
        {
          "output_type": "execute_result",
          "data": {
            "text/plain": [
              "array([[[3.14159265, 3.14159265, 3.14159265, 3.14159265, 3.14159265],\n",
              "        [3.14159265, 3.14159265, 3.14159265, 3.14159265, 3.14159265],\n",
              "        [3.14159265, 3.14159265, 3.14159265, 3.14159265, 3.14159265]],\n",
              "\n",
              "       [[3.14159265, 3.14159265, 3.14159265, 3.14159265, 3.14159265],\n",
              "        [3.14159265, 3.14159265, 3.14159265, 3.14159265, 3.14159265],\n",
              "        [3.14159265, 3.14159265, 3.14159265, 3.14159265, 3.14159265]]])"
            ]
          },
          "metadata": {},
          "execution_count": 6
        }
      ]
    },
    {
      "cell_type": "code",
      "source": [
        "np.empty((2,3))"
      ],
      "metadata": {
        "colab": {
          "base_uri": "https://localhost:8080/"
        },
        "id": "hNQZDA6WAY5L",
        "outputId": "2ea3c97a-e3f4-4f32-d734-9cbadba2be3b"
      },
      "execution_count": 7,
      "outputs": [
        {
          "output_type": "execute_result",
          "data": {
            "text/plain": [
              "array([[4.99108813e-310, 0.00000000e+000, 4.99199993e-310],\n",
              "       [2.44411742e+062, 6.92248532e-310, 6.92243016e-310]])"
            ]
          },
          "metadata": {},
          "execution_count": 7
        }
      ]
    },
    {
      "cell_type": "code",
      "source": [
        "#python's range function\n",
        "np.arange(1,10,2)"
      ],
      "metadata": {
        "colab": {
          "base_uri": "https://localhost:8080/"
        },
        "id": "7ZiFdFgTAdJP",
        "outputId": "40626af2-468e-4b07-a65b-1dd3dbab13f2"
      },
      "execution_count": 8,
      "outputs": [
        {
          "output_type": "execute_result",
          "data": {
            "text/plain": [
              "array([1, 3, 5, 7, 9])"
            ]
          },
          "metadata": {},
          "execution_count": 8
        }
      ]
    },
    {
      "cell_type": "markdown",
      "source": [
        "extra caution required when dealing with floating point values due to precision issues"
      ],
      "metadata": {
        "id": "8fPRK9fdBaXj"
      }
    },
    {
      "cell_type": "code",
      "source": [
        "np.arange(0.0,5/3, 1/3) # could go till 4/3 or 5/3 depending on rounding"
      ],
      "metadata": {
        "colab": {
          "base_uri": "https://localhost:8080/"
        },
        "id": "a9Tm7xKCBUjt",
        "outputId": "c66db024-a6db-4153-af52-0c41bcc2fe2c"
      },
      "execution_count": 10,
      "outputs": [
        {
          "output_type": "execute_result",
          "data": {
            "text/plain": [
              "array([0.        , 0.33333333, 0.66666667, 1.        , 1.33333333,\n",
              "       1.66666667])"
            ]
          },
          "metadata": {},
          "execution_count": 10
        }
      ]
    },
    {
      "cell_type": "markdown",
      "source": [
        "to exactly have a certain number of elements in array, preferable to use np.linspace"
      ],
      "metadata": {
        "id": "YyxXb2qIBqqK"
      }
    },
    {
      "cell_type": "code",
      "source": [
        "np.linspace(0,5/3, 6)"
      ],
      "metadata": {
        "colab": {
          "base_uri": "https://localhost:8080/"
        },
        "id": "6ZezTG2_BhC6",
        "outputId": "3be27422-64e1-4a82-ec75-173384a7fb81"
      },
      "execution_count": 12,
      "outputs": [
        {
          "output_type": "execute_result",
          "data": {
            "text/plain": [
              "array([0.        , 0.33333333, 0.66666667, 1.        , 1.33333333,\n",
              "       1.66666667])"
            ]
          },
          "metadata": {},
          "execution_count": 12
        }
      ]
    },
    {
      "cell_type": "code",
      "source": [
        "#Random numbers - uniform distribution\n",
        "a = np.random.rand(1000)\n"
      ],
      "metadata": {
        "id": "DyAMM3DiByIW"
      },
      "execution_count": 13,
      "outputs": []
    },
    {
      "cell_type": "code",
      "source": [
        "import matplotlib.pyplot as plt\n",
        "plt.hist(a, color=\"blue\", bins = 10)\n",
        "plt.show()"
      ],
      "metadata": {
        "colab": {
          "base_uri": "https://localhost:8080/",
          "height": 430
        },
        "id": "kxc4XZdCjJGo",
        "outputId": "9debba47-1d9c-4062-90dc-d589f1720293"
      },
      "execution_count": 14,
      "outputs": [
        {
          "output_type": "display_data",
          "data": {
            "text/plain": [
              "<Figure size 640x480 with 1 Axes>"
            ],
            "image/png": "[encoded data removed]"
          },
          "metadata": {}
        }
      ]
    },
    {
      "cell_type": "code",
      "source": [
        "#Random numbers - normal distribution\n",
        "b = np.random.randn(1000)\n",
        "plt.hist(b, color=\"red\", bins=10)\n",
        "plt.show()"
      ],
      "metadata": {
        "colab": {
          "base_uri": "https://localhost:8080/",
          "height": 430
        },
        "id": "sBIKfAeEjQSW",
        "outputId": "378b6a39-1242-4e00-cc21-2a5ab0972c1d"
      },
      "execution_count": 15,
      "outputs": [
        {
          "output_type": "display_data",
          "data": {
            "text/plain": [
              "<Figure size 640x480 with 1 Axes>"
            ],
            "image/png": "[encoded data removed]"
          },
          "metadata": {}
        }
      ]
    },
    {
      "cell_type": "code",
      "source": [
        "# initilaization of array from a function - efficient\n",
        "\n",
        "def my_function(x,y):\n",
        "  return y + 10 * x\n",
        "\n",
        "np.fromfunction(my_function, (3,10))"
      ],
      "metadata": {
        "colab": {
          "base_uri": "https://localhost:8080/"
        },
        "id": "FgakBBirjcuy",
        "outputId": "dc0ccf5e-043b-4ac4-fb46-a0f7f0c6f9bd"
      },
      "execution_count": 16,
      "outputs": [
        {
          "output_type": "execute_result",
          "data": {
            "text/plain": [
              "array([[ 0.,  1.,  2.,  3.,  4.,  5.,  6.,  7.,  8.,  9.],\n",
              "       [10., 11., 12., 13., 14., 15., 16., 17., 18., 19.],\n",
              "       [20., 21., 22., 23., 24., 25., 26., 27., 28., 29.]])"
            ]
          },
          "metadata": {},
          "execution_count": 16
        }
      ]
    },
    {
      "cell_type": "code",
      "source": [
        "# dtype of ndarray\n",
        "c = np.arange(1,5)\n",
        "c.dtype # determined by numpy"
      ],
      "metadata": {
        "colab": {
          "base_uri": "https://localhost:8080/"
        },
        "id": "Pna4Derlk657",
        "outputId": "a79b0348-b315-423a-b27b-4b21b3a7fabe"
      },
      "execution_count": 17,
      "outputs": [
        {
          "output_type": "execute_result",
          "data": {
            "text/plain": [
              "dtype('int64')"
            ]
          },
          "metadata": {},
          "execution_count": 17
        }
      ]
    },
    {
      "cell_type": "code",
      "source": [
        "#explicit type setting\n",
        "d = np.arange(1,5 , dtype=np.int32)"
      ],
      "metadata": {
        "id": "8UFMlR2dlE4C"
      },
      "execution_count": 18,
      "outputs": []
    },
    {
      "cell_type": "code",
      "source": [
        "d.dtype, d.shape"
      ],
      "metadata": {
        "colab": {
          "base_uri": "https://localhost:8080/"
        },
        "id": "WAdnKTcNlNb3",
        "outputId": "57b632b9-8c5d-4504-a428-6e0eb0e1ae29"
      },
      "execution_count": 19,
      "outputs": [
        {
          "output_type": "execute_result",
          "data": {
            "text/plain": [
              "(dtype('int32'), (4,))"
            ]
          },
          "metadata": {},
          "execution_count": 19
        }
      ]
    },
    {
      "cell_type": "code",
      "source": [
        "# itemsize - byte length of the ndarray\n",
        "e = np.arange(1,5,dtype=np.complex64)\n",
        "e.itemsize"
      ],
      "metadata": {
        "colab": {
          "base_uri": "https://localhost:8080/"
        },
        "id": "f1cgntxmlOiA",
        "outputId": "61f45f06-d87e-43d9-83eb-13cf40535f9b"
      },
      "execution_count": 20,
      "outputs": [
        {
          "output_type": "execute_result",
          "data": {
            "text/plain": [
              "8"
            ]
          },
          "metadata": {},
          "execution_count": 20
        }
      ]
    },
    {
      "cell_type": "code",
      "source": [
        "f = np.array([[1,2],[1000, 2000]], dtype=np.int32)\n",
        "f.data # memory of the array stored as flattend buffer"
      ],
      "metadata": {
        "colab": {
          "base_uri": "https://localhost:8080/"
        },
        "id": "ueW9FYA6lcAw",
        "outputId": "3ea131cb-5a9d-48b0-9cd1-57456d25162a"
      },
      "execution_count": 21,
      "outputs": [
        {
          "output_type": "execute_result",
          "data": {
            "text/plain": [
              "<memory at 0x7f6e371d9080>"
            ]
          },
          "metadata": {},
          "execution_count": 21
        }
      ]
    },
    {
      "cell_type": "code",
      "source": [
        "hasattr(f.data, \"tobytes\")"
      ],
      "metadata": {
        "colab": {
          "base_uri": "https://localhost:8080/"
        },
        "id": "GguaASWAmEFv",
        "outputId": "9d0a13b8-3808-497a-b68f-a2e1449bf3d3"
      },
      "execution_count": 22,
      "outputs": [
        {
          "output_type": "execute_result",
          "data": {
            "text/plain": [
              "True"
            ]
          },
          "metadata": {},
          "execution_count": 22
        }
      ]
    },
    {
      "cell_type": "code",
      "source": [
        "f.data.tobytes()"
      ],
      "metadata": {
        "colab": {
          "base_uri": "https://localhost:8080/"
        },
        "id": "sByZebFEmO0T",
        "outputId": "8f5e0b87-c772-4d86-a779-028e86c5dddd"
      },
      "execution_count": 24,
      "outputs": [
        {
          "output_type": "execute_result",
          "data": {
            "text/plain": [
              "b'\\x01\\x00\\x00\\x00\\x02\\x00\\x00\\x00\\xe8\\x03\\x00\\x00\\xd0\\x07\\x00\\x00'"
            ]
          },
          "metadata": {},
          "execution_count": 24
        }
      ]
    },
    {
      "cell_type": "code",
      "source": [
        "g = np.arange(1,5)\n",
        "g.shape"
      ],
      "metadata": {
        "colab": {
          "base_uri": "https://localhost:8080/"
        },
        "id": "9szARi9FmRDh",
        "outputId": "06f573bd-f06e-44de-c53e-989f14d55296"
      },
      "execution_count": 25,
      "outputs": [
        {
          "output_type": "execute_result",
          "data": {
            "text/plain": [
              "(4,)"
            ]
          },
          "metadata": {},
          "execution_count": 25
        }
      ]
    },
    {
      "cell_type": "code",
      "source": [
        "g.shape = (2,2) # reshape the array in place\n",
        "g"
      ],
      "metadata": {
        "colab": {
          "base_uri": "https://localhost:8080/"
        },
        "id": "q2rLzvMjqUue",
        "outputId": "04e6c53d-d477-4e7d-a89e-5bc5d3dd1fb4"
      },
      "execution_count": 26,
      "outputs": [
        {
          "output_type": "execute_result",
          "data": {
            "text/plain": [
              "array([[1, 2],\n",
              "       [3, 4]])"
            ]
          },
          "metadata": {},
          "execution_count": 26
        }
      ]
    },
    {
      "cell_type": "code",
      "source": [
        "h = g.reshape(4,) # create a new array and reshape the original array and copy to new array\n",
        "h"
      ],
      "metadata": {
        "colab": {
          "base_uri": "https://localhost:8080/"
        },
        "id": "p0pfaqVUqWxZ",
        "outputId": "bd4fdbec-7172-405c-c7be-22e393392109"
      },
      "execution_count": 27,
      "outputs": [
        {
          "output_type": "execute_result",
          "data": {
            "text/plain": [
              "array([1, 2, 3, 4])"
            ]
          },
          "metadata": {},
          "execution_count": 27
        }
      ]
    },
    {
      "cell_type": "code",
      "source": [
        "h.ndim #rank of the array"
      ],
      "metadata": {
        "colab": {
          "base_uri": "https://localhost:8080/"
        },
        "id": "7gSFjAcDqcB6",
        "outputId": "9420c835-f68b-45d5-eb1f-156bdc035a04"
      },
      "execution_count": 28,
      "outputs": [
        {
          "output_type": "execute_result",
          "data": {
            "text/plain": [
              "1"
            ]
          },
          "metadata": {},
          "execution_count": 28
        }
      ]
    },
    {
      "cell_type": "code",
      "source": [
        "g.ndim"
      ],
      "metadata": {
        "colab": {
          "base_uri": "https://localhost:8080/"
        },
        "id": "evXoY2YMqiUJ",
        "outputId": "3b197632-7941-4e37-d1fc-110778c2f9e1"
      },
      "execution_count": 29,
      "outputs": [
        {
          "output_type": "execute_result",
          "data": {
            "text/plain": [
              "2"
            ]
          },
          "metadata": {},
          "execution_count": 29
        }
      ]
    },
    {
      "cell_type": "code",
      "source": [
        "g[0,0] = 2 # assigning values at a position\n",
        "g"
      ],
      "metadata": {
        "colab": {
          "base_uri": "https://localhost:8080/"
        },
        "id": "NAg38YjgqnGV",
        "outputId": "ba5e6a38-a95b-4539-d5df-c9649314b064"
      },
      "execution_count": 30,
      "outputs": [
        {
          "output_type": "execute_result",
          "data": {
            "text/plain": [
              "array([[2, 2],\n",
              "       [3, 4]])"
            ]
          },
          "metadata": {},
          "execution_count": 30
        }
      ]
    },
    {
      "cell_type": "code",
      "source": [
        "k = g.ravel()"
      ],
      "metadata": {
        "id": "fgvtNFkRqzqo"
      },
      "execution_count": 32,
      "outputs": []
    },
    {
      "cell_type": "code",
      "source": [
        "g.data"
      ],
      "metadata": {
        "colab": {
          "base_uri": "https://localhost:8080/"
        },
        "id": "xhoEwkvaq7t_",
        "outputId": "9ec8ae8f-4960-4417-ae12-35270d55af5a"
      },
      "execution_count": 33,
      "outputs": [
        {
          "output_type": "execute_result",
          "data": {
            "text/plain": [
              "<memory at 0x7f6e371d8a00>"
            ]
          },
          "metadata": {},
          "execution_count": 33
        }
      ]
    },
    {
      "cell_type": "code",
      "source": [
        "k.data # ravel() basically returns the same array at g in 1d format"
      ],
      "metadata": {
        "colab": {
          "base_uri": "https://localhost:8080/"
        },
        "id": "uURWrItwq-I7",
        "outputId": "c9f5d9dc-57c8-4259-ada4-ceed9a52acbe"
      },
      "execution_count": 34,
      "outputs": [
        {
          "output_type": "execute_result",
          "data": {
            "text/plain": [
              "<memory at 0x7f6e39573e80>"
            ]
          },
          "metadata": {},
          "execution_count": 34
        }
      ]
    },
    {
      "cell_type": "code",
      "source": [
        "k"
      ],
      "metadata": {
        "colab": {
          "base_uri": "https://localhost:8080/"
        },
        "id": "w2YexrYAq_lL",
        "outputId": "f1e021b1-0529-41ec-ddab-f418b720d29f"
      },
      "execution_count": 35,
      "outputs": [
        {
          "output_type": "execute_result",
          "data": {
            "text/plain": [
              "array([2, 2, 3, 4])"
            ]
          },
          "metadata": {},
          "execution_count": 35
        }
      ]
    },
    {
      "cell_type": "code",
      "source": [
        "#Broadcasting - an important idea\n",
        "#first rule - if arrays are not of same shape - > prepend 1 to smaller ranked array till the same shape is achieved\n",
        "h = np.arange(5).reshape(1, 1, 5)\n",
        "h"
      ],
      "metadata": {
        "colab": {
          "base_uri": "https://localhost:8080/"
        },
        "id": "AVW_bE7prE77",
        "outputId": "ae6b6c4d-9c7f-42f6-921b-dc51581b278e"
      },
      "execution_count": 36,
      "outputs": [
        {
          "output_type": "execute_result",
          "data": {
            "text/plain": [
              "array([[[0, 1, 2, 3, 4]]])"
            ]
          },
          "metadata": {},
          "execution_count": 36
        }
      ]
    },
    {
      "cell_type": "code",
      "source": [
        "k = np.array([10,20,30,40,50])\n",
        "h + k # 1,1,5 + 5, -> 1,1,5 + 1,1,5 = 1,1,5\n"
      ],
      "metadata": {
        "colab": {
          "base_uri": "https://localhost:8080/"
        },
        "id": "GajyhyM7sIrX",
        "outputId": "22f31f19-b640-41cb-8bca-5974f621d6d1"
      },
      "execution_count": 37,
      "outputs": [
        {
          "output_type": "execute_result",
          "data": {
            "text/plain": [
              "array([[[10, 21, 32, 43, 54]]])"
            ]
          },
          "metadata": {},
          "execution_count": 37
        }
      ]
    },
    {
      "cell_type": "code",
      "source": [
        "#Second rule\n",
        "k = np.arange(6).reshape(2,3)\n",
        "k + [[100],[200]] # 2,3 + 2,1\n"
      ],
      "metadata": {
        "colab": {
          "base_uri": "https://localhost:8080/"
        },
        "id": "hqDkpFF7sRLB",
        "outputId": "dde1e885-de94-4462-9e39-e15a9c5f7355"
      },
      "execution_count": 38,
      "outputs": [
        {
          "output_type": "execute_result",
          "data": {
            "text/plain": [
              "array([[100, 101, 102],\n",
              "       [203, 204, 205]])"
            ]
          },
          "metadata": {},
          "execution_count": 38
        }
      ]
    },
    {
      "cell_type": "code",
      "source": [
        "#Combining rules 1 and 2\n",
        "k + [100,200,300] # 3, becomes 1,3 and then that is broadcast to 2,3"
      ],
      "metadata": {
        "colab": {
          "base_uri": "https://localhost:8080/"
        },
        "id": "A9UvuIjXyoyF",
        "outputId": "0bc71abb-3b8f-4cda-d77f-bfea49a16f6a"
      },
      "execution_count": 40,
      "outputs": [
        {
          "output_type": "execute_result",
          "data": {
            "text/plain": [
              "array([[100, 201, 302],\n",
              "       [103, 204, 305]])"
            ]
          },
          "metadata": {},
          "execution_count": 40
        }
      ]
    },
    {
      "cell_type": "code",
      "source": [
        "k+1000"
      ],
      "metadata": {
        "colab": {
          "base_uri": "https://localhost:8080/"
        },
        "id": "51siYerWyxXI",
        "outputId": "2bb26562-24b7-4187-aec8-fb2d8d165943"
      },
      "execution_count": 41,
      "outputs": [
        {
          "output_type": "execute_result",
          "data": {
            "text/plain": [
              "array([[1000, 1001, 1002],\n",
              "       [1003, 1004, 1005]])"
            ]
          },
          "metadata": {},
          "execution_count": 41
        }
      ]
    },
    {
      "cell_type": "code",
      "source": [
        "#upcasting - change dtype to make sure all possible values are accommodated\n",
        "k1 = np.arange(0, 5, dtype=np.uint8)\n",
        "k2= k1 + np.arange(3,8, dtype=np.int8)\n",
        "k2.dtype"
      ],
      "metadata": {
        "colab": {
          "base_uri": "https://localhost:8080/"
        },
        "id": "23bNSISazGv8",
        "outputId": "0aac1f4e-12a6-4b9b-9143-4c4d64c4b36c"
      },
      "execution_count": 42,
      "outputs": [
        {
          "output_type": "execute_result",
          "data": {
            "text/plain": [
              "dtype('int16')"
            ]
          },
          "metadata": {},
          "execution_count": 42
        }
      ]
    },
    {
      "cell_type": "code",
      "source": [
        "k3 = k1 + 1.5 # uint8 is upcast to float64"
      ],
      "metadata": {
        "id": "USNDkJGwzmiN"
      },
      "execution_count": 43,
      "outputs": []
    },
    {
      "cell_type": "code",
      "source": [
        "k3.dtype"
      ],
      "metadata": {
        "colab": {
          "base_uri": "https://localhost:8080/"
        },
        "id": "YSee3C8MzqkL",
        "outputId": "d90017cf-d0c0-4b41-bf68-614143cc34b5"
      },
      "execution_count": 44,
      "outputs": [
        {
          "output_type": "execute_result",
          "data": {
            "text/plain": [
              "dtype('float64')"
            ]
          },
          "metadata": {},
          "execution_count": 44
        }
      ]
    },
    {
      "cell_type": "code",
      "source": [
        "m = np.array([20, -5, 30, 40])\n",
        "m > 20"
      ],
      "metadata": {
        "colab": {
          "base_uri": "https://localhost:8080/"
        },
        "id": "UR6F1s_4zrU5",
        "outputId": "dfaf7d03-608e-463f-fffb-274dd98c52ab"
      },
      "execution_count": 45,
      "outputs": [
        {
          "output_type": "execute_result",
          "data": {
            "text/plain": [
              "array([False, False,  True,  True])"
            ]
          },
          "metadata": {},
          "execution_count": 45
        }
      ]
    },
    {
      "cell_type": "code",
      "source": [
        "#Mathematical functions on nd-arrays\n",
        "a = np.array([[-2.5, 3.1, 7], [10, 11, 12]])\n",
        "print(a.shape, a.dtype, a.ndim)"
      ],
      "metadata": {
        "colab": {
          "base_uri": "https://localhost:8080/"
        },
        "id": "Qq9UO1iF0VyL",
        "outputId": "3cbca5bf-7fc8-4f9d-c7ab-4a5ad9edea3d"
      },
      "execution_count": 46,
      "outputs": [
        {
          "output_type": "stream",
          "name": "stdout",
          "text": [
            "(2, 3) float64 2\n"
          ]
        }
      ]
    },
    {
      "cell_type": "code",
      "source": [
        "print(a.mean())"
      ],
      "metadata": {
        "colab": {
          "base_uri": "https://localhost:8080/"
        },
        "id": "iqF3-M-e0khg",
        "outputId": "b166ea75-c5fd-40fe-80cd-92ca970f1703"
      },
      "execution_count": 47,
      "outputs": [
        {
          "output_type": "stream",
          "name": "stdout",
          "text": [
            "6.766666666666667\n"
          ]
        }
      ]
    },
    {
      "cell_type": "code",
      "source": [
        "for func in (a.min, a.max, a.sum, a.prod, a.std, a.var):\n",
        "    print(func.__name__, \"=\", func())"
      ],
      "metadata": {
        "colab": {
          "base_uri": "https://localhost:8080/"
        },
        "id": "gs4T50zk0l-v",
        "outputId": "b6dc9c66-0867-4a87-b64e-891ab83d955f"
      },
      "execution_count": 48,
      "outputs": [
        {
          "output_type": "stream",
          "name": "stdout",
          "text": [
            "min = -2.5\n",
            "max = 12.0\n",
            "sum = 40.6\n",
            "prod = -71610.0\n",
            "std = 5.084835843520964\n",
            "var = 25.855555555555554\n"
          ]
        }
      ]
    },
    {
      "cell_type": "code",
      "source": [
        "#mean, sum, max,min can also be called along different axes\n",
        "matrix = np.arange(24).reshape(2,3,4)"
      ],
      "metadata": {
        "id": "KFBHGOEB0-fO"
      },
      "execution_count": 52,
      "outputs": []
    },
    {
      "cell_type": "code",
      "source": [
        "matrix.shape"
      ],
      "metadata": {
        "colab": {
          "base_uri": "https://localhost:8080/"
        },
        "id": "R08EWhMQ1HLz",
        "outputId": "4110c0fe-121d-4c0e-f05e-f85edb230e20"
      },
      "execution_count": 53,
      "outputs": [
        {
          "output_type": "execute_result",
          "data": {
            "text/plain": [
              "(2, 3, 4)"
            ]
          },
          "metadata": {},
          "execution_count": 53
        }
      ]
    },
    {
      "cell_type": "code",
      "source": [
        "matrix.sum() # sum of all elements - default behaviour"
      ],
      "metadata": {
        "colab": {
          "base_uri": "https://localhost:8080/"
        },
        "id": "_ueRoqGg1IMf",
        "outputId": "2a69a59d-cc10-423f-92fe-c04a0a469c6b"
      },
      "execution_count": 54,
      "outputs": [
        {
          "output_type": "execute_result",
          "data": {
            "text/plain": [
              "276"
            ]
          },
          "metadata": {},
          "execution_count": 54
        }
      ]
    },
    {
      "cell_type": "code",
      "source": [
        "matrix.sum(axis=0) # sum of elements along axis 0 -> 2,3,4 becomes 3,4"
      ],
      "metadata": {
        "colab": {
          "base_uri": "https://localhost:8080/"
        },
        "id": "OHjZGeKY1R7Y",
        "outputId": "7187239b-1886-4d88-828c-332c4e23f76f"
      },
      "execution_count": 55,
      "outputs": [
        {
          "output_type": "execute_result",
          "data": {
            "text/plain": [
              "array([[12, 14, 16, 18],\n",
              "       [20, 22, 24, 26],\n",
              "       [28, 30, 32, 34]])"
            ]
          },
          "metadata": {},
          "execution_count": 55
        }
      ]
    },
    {
      "cell_type": "code",
      "source": [
        "matrix.sum(axis=0).shape"
      ],
      "metadata": {
        "colab": {
          "base_uri": "https://localhost:8080/"
        },
        "id": "ZM9VWid31bpc",
        "outputId": "ed7b9c34-b392-498a-f12a-e79a16fbaff9"
      },
      "execution_count": 56,
      "outputs": [
        {
          "output_type": "execute_result",
          "data": {
            "text/plain": [
              "(3, 4)"
            ]
          },
          "metadata": {},
          "execution_count": 56
        }
      ]
    },
    {
      "cell_type": "code",
      "source": [
        "matrix.sum(axis=1).shape # 2,3,4 becomes 2,4"
      ],
      "metadata": {
        "colab": {
          "base_uri": "https://localhost:8080/"
        },
        "id": "saBGpEk21WdN",
        "outputId": "1eeca7e5-a2d1-417d-d9b5-df87e2319e25"
      },
      "execution_count": 57,
      "outputs": [
        {
          "output_type": "execute_result",
          "data": {
            "text/plain": [
              "(2, 4)"
            ]
          },
          "metadata": {},
          "execution_count": 57
        }
      ]
    },
    {
      "cell_type": "code",
      "source": [
        "matrix.sum(axis=2) # 2,3,4 becomes 2,3"
      ],
      "metadata": {
        "colab": {
          "base_uri": "https://localhost:8080/"
        },
        "id": "SHR3XSUT1ej5",
        "outputId": "2610a18a-a536-4184-cb4b-b6b5c670520d"
      },
      "execution_count": 58,
      "outputs": [
        {
          "output_type": "execute_result",
          "data": {
            "text/plain": [
              "array([[ 6, 22, 38],\n",
              "       [54, 70, 86]])"
            ]
          },
          "metadata": {},
          "execution_count": 58
        }
      ]
    },
    {
      "cell_type": "code",
      "source": [
        "matrix.sum(axis=(0,2))\n"
      ],
      "metadata": {
        "colab": {
          "base_uri": "https://localhost:8080/"
        },
        "id": "slvS5Vid1hlo",
        "outputId": "8cc833fd-b642-4d2c-e7d8-19841a41648f"
      },
      "execution_count": 61,
      "outputs": [
        {
          "output_type": "execute_result",
          "data": {
            "text/plain": [
              "array([ 60,  92, 124])"
            ]
          },
          "metadata": {},
          "execution_count": 61
        }
      ]
    },
    {
      "cell_type": "code",
      "source": [
        "#universal functions - ufunc\n",
        "#these are fast vectorized functions which take an array, perform mathematical operations on the numpy array and give the new array in an efficient way using the optimized BLAS C code underneath\n",
        "a = np.array([[-2.5, 3.1, 7], [10, 11, 12]])\n",
        "np.sqrt(a)\n"
      ],
      "metadata": {
        "colab": {
          "base_uri": "https://localhost:8080/"
        },
        "id": "Rzjkzps51kwl",
        "outputId": "319e3b24-c27d-4ead-ad67-93260b725072"
      },
      "execution_count": 63,
      "outputs": [
        {
          "output_type": "stream",
          "name": "stderr",
          "text": [
            "<ipython-input-63-1a46b4946851>:4: RuntimeWarning: invalid value encountered in sqrt\n",
            "  np.sqrt(a)\n"
          ]
        },
        {
          "output_type": "execute_result",
          "data": {
            "text/plain": [
              "array([[       nan, 1.76068169, 2.64575131],\n",
              "       [3.16227766, 3.31662479, 3.46410162]])"
            ]
          },
          "metadata": {},
          "execution_count": 63
        }
      ]
    },
    {
      "cell_type": "code",
      "source": [
        "#Binary universal functions - binary ufunc\n",
        "a = np.array([1, -2, 3, 4])\n",
        "b = np.array([2, 8, -1, 7])\n",
        "np.add(a,b)\n"
      ],
      "metadata": {
        "colab": {
          "base_uri": "https://localhost:8080/"
        },
        "id": "NT9WYW4H3dsD",
        "outputId": "0a6c0be9-df44-4b60-8c55-baef9844b4ba"
      },
      "execution_count": 64,
      "outputs": [
        {
          "output_type": "execute_result",
          "data": {
            "text/plain": [
              "array([ 3,  6,  2, 11])"
            ]
          },
          "metadata": {},
          "execution_count": 64
        }
      ]
    },
    {
      "cell_type": "code",
      "source": [
        "np.subtract(a,b)"
      ],
      "metadata": {
        "colab": {
          "base_uri": "https://localhost:8080/"
        },
        "id": "xqTbHL_s3yS3",
        "outputId": "dfccc401-9202-4c89-f52b-7722b5a8dffa"
      },
      "execution_count": 65,
      "outputs": [
        {
          "output_type": "execute_result",
          "data": {
            "text/plain": [
              "array([ -1, -10,   4,  -3])"
            ]
          },
          "metadata": {},
          "execution_count": 65
        }
      ]
    },
    {
      "cell_type": "code",
      "source": [
        "np.maximum(a,b\n",
        "           )"
      ],
      "metadata": {
        "colab": {
          "base_uri": "https://localhost:8080/"
        },
        "id": "DL8hhaeg309u",
        "outputId": "f2269230-33e0-43c5-f4e4-4cfda3165109"
      },
      "execution_count": 66,
      "outputs": [
        {
          "output_type": "execute_result",
          "data": {
            "text/plain": [
              "array([2, 8, 3, 7])"
            ]
          },
          "metadata": {},
          "execution_count": 66
        }
      ]
    },
    {
      "cell_type": "code",
      "source": [
        "np.minimum(a,b)"
      ],
      "metadata": {
        "colab": {
          "base_uri": "https://localhost:8080/"
        },
        "id": "JrSyWxVk32je",
        "outputId": "2718482c-c73e-49e1-ec59-e3507e24b018"
      },
      "execution_count": 67,
      "outputs": [
        {
          "output_type": "execute_result",
          "data": {
            "text/plain": [
              "array([ 1, -2, -1,  4])"
            ]
          },
          "metadata": {},
          "execution_count": 67
        }
      ]
    },
    {
      "cell_type": "code",
      "source": [
        "np.multiply(a,b) # elementwise multiplication"
      ],
      "metadata": {
        "colab": {
          "base_uri": "https://localhost:8080/"
        },
        "id": "iz2qQ1UV34OB",
        "outputId": "f420a23a-28cf-424c-cae9-6e661011fbf9"
      },
      "execution_count": 68,
      "outputs": [
        {
          "output_type": "execute_result",
          "data": {
            "text/plain": [
              "array([  2, -16,  -3,  28])"
            ]
          },
          "metadata": {},
          "execution_count": 68
        }
      ]
    },
    {
      "cell_type": "code",
      "source": [
        "np.copysign(a,b)"
      ],
      "metadata": {
        "colab": {
          "base_uri": "https://localhost:8080/"
        },
        "id": "CKOeBoab36Is",
        "outputId": "26792f1b-2ff5-4bba-f855-ee140206ce83"
      },
      "execution_count": 69,
      "outputs": [
        {
          "output_type": "execute_result",
          "data": {
            "text/plain": [
              "array([ 1.,  2., -3.,  4.])"
            ]
          },
          "metadata": {},
          "execution_count": 69
        }
      ]
    },
    {
      "cell_type": "code",
      "source": [
        "# array indexing - ways to index arrays and pick elements of choice\n",
        "a = np.array([4,5,6,10,90,89,24])\n",
        "a[:]"
      ],
      "metadata": {
        "colab": {
          "base_uri": "https://localhost:8080/"
        },
        "id": "FHRvWu1N4A2Q",
        "outputId": "51eec69a-7958-48fb-bf0a-3924c06cee14"
      },
      "execution_count": 70,
      "outputs": [
        {
          "output_type": "execute_result",
          "data": {
            "text/plain": [
              "array([ 4,  5,  6, 10, 90, 89, 24])"
            ]
          },
          "metadata": {},
          "execution_count": 70
        }
      ]
    },
    {
      "cell_type": "code",
      "source": [
        "a[2]"
      ],
      "metadata": {
        "colab": {
          "base_uri": "https://localhost:8080/"
        },
        "id": "s1Fndp8Z4TH4",
        "outputId": "e57a1928-f26b-4e13-ba92-0d782a7107f5"
      },
      "execution_count": 71,
      "outputs": [
        {
          "output_type": "execute_result",
          "data": {
            "text/plain": [
              "6"
            ]
          },
          "metadata": {},
          "execution_count": 71
        }
      ]
    },
    {
      "cell_type": "code",
      "source": [
        "a[:2]"
      ],
      "metadata": {
        "colab": {
          "base_uri": "https://localhost:8080/"
        },
        "id": "_hfYErYW4Ukm",
        "outputId": "8c679e35-880a-4c70-f3f1-4015c1c80464"
      },
      "execution_count": 72,
      "outputs": [
        {
          "output_type": "execute_result",
          "data": {
            "text/plain": [
              "array([4, 5])"
            ]
          },
          "metadata": {},
          "execution_count": 72
        }
      ]
    },
    {
      "cell_type": "code",
      "source": [
        "a[2:]"
      ],
      "metadata": {
        "colab": {
          "base_uri": "https://localhost:8080/"
        },
        "id": "W8-BtxXb4Vf-",
        "outputId": "ce4075c4-ece1-4f61-c974-500ab74564fd"
      },
      "execution_count": 73,
      "outputs": [
        {
          "output_type": "execute_result",
          "data": {
            "text/plain": [
              "array([ 6, 10, 90, 89, 24])"
            ]
          },
          "metadata": {},
          "execution_count": 73
        }
      ]
    },
    {
      "cell_type": "code",
      "source": [
        "a[4:7]"
      ],
      "metadata": {
        "colab": {
          "base_uri": "https://localhost:8080/"
        },
        "id": "1cdl8LWH4WNZ",
        "outputId": "ff11cf4e-920c-41bc-f6b3-6bd71b82bafd"
      },
      "execution_count": 74,
      "outputs": [
        {
          "output_type": "execute_result",
          "data": {
            "text/plain": [
              "array([90, 89, 24])"
            ]
          },
          "metadata": {},
          "execution_count": 74
        }
      ]
    },
    {
      "cell_type": "code",
      "source": [
        "a[:-1]"
      ],
      "metadata": {
        "colab": {
          "base_uri": "https://localhost:8080/"
        },
        "id": "EpCcDkla4YPb",
        "outputId": "ed92b5f4-d129-4da7-b83d-0fcaab899cf8"
      },
      "execution_count": 75,
      "outputs": [
        {
          "output_type": "execute_result",
          "data": {
            "text/plain": [
              "array([ 4,  5,  6, 10, 90, 89])"
            ]
          },
          "metadata": {},
          "execution_count": 75
        }
      ]
    },
    {
      "cell_type": "code",
      "source": [
        "a[2::2] #starting from 2 go till end of array with step size 2"
      ],
      "metadata": {
        "colab": {
          "base_uri": "https://localhost:8080/"
        },
        "id": "_OgC_inr4Zyt",
        "outputId": "401dfd09-4214-4d33-f8c9-1376aaf0d76d"
      },
      "execution_count": 76,
      "outputs": [
        {
          "output_type": "execute_result",
          "data": {
            "text/plain": [
              "array([ 6, 90, 24])"
            ]
          },
          "metadata": {},
          "execution_count": 76
        }
      ]
    },
    {
      "cell_type": "code",
      "source": [
        "a[-1::-2] #start from end go till start with step size -2, i.e 2 in reverse direction"
      ],
      "metadata": {
        "colab": {
          "base_uri": "https://localhost:8080/"
        },
        "id": "4yJFACZS4a3P",
        "outputId": "bbddac2f-06b1-4616-935f-3a36f5186105"
      },
      "execution_count": 79,
      "outputs": [
        {
          "output_type": "execute_result",
          "data": {
            "text/plain": [
              "array([24, 90,  6,  4])"
            ]
          },
          "metadata": {},
          "execution_count": 79
        }
      ]
    },
    {
      "cell_type": "code",
      "source": [
        "#fancy indexing\n",
        "b = np.arange(48).reshape(4, 12)\n",
        "b[(0,2), 2:4] # choose 0 and 2 row and columns from 2 to 4[4 excluded]"
      ],
      "metadata": {
        "colab": {
          "base_uri": "https://localhost:8080/"
        },
        "id": "r9ifrQV04got",
        "outputId": "4f156d20-7e36-4290-d560-4f14bb22ba5e"
      },
      "execution_count": 80,
      "outputs": [
        {
          "output_type": "execute_result",
          "data": {
            "text/plain": [
              "array([[ 2,  3],\n",
              "       [26, 27]])"
            ]
          },
          "metadata": {},
          "execution_count": 80
        }
      ]
    },
    {
      "cell_type": "code",
      "source": [
        "b[:, (-1,2,-1)]"
      ],
      "metadata": {
        "colab": {
          "base_uri": "https://localhost:8080/"
        },
        "id": "G-bzsJQRCj7Y",
        "outputId": "2f6eb2e1-db65-44bc-b21e-7f5dc83d714d"
      },
      "execution_count": 81,
      "outputs": [
        {
          "output_type": "execute_result",
          "data": {
            "text/plain": [
              "array([[11,  2, 11],\n",
              "       [23, 14, 23],\n",
              "       [35, 26, 35],\n",
              "       [47, 38, 47]])"
            ]
          },
          "metadata": {},
          "execution_count": 81
        }
      ]
    },
    {
      "cell_type": "code",
      "source": [
        "b[(1,2,1), (5,9,8)]"
      ],
      "metadata": {
        "colab": {
          "base_uri": "https://localhost:8080/"
        },
        "id": "bFdVL7bPCroq",
        "outputId": "8b2e6931-e098-45e4-bbd3-9a729b7341f8"
      },
      "execution_count": 82,
      "outputs": [
        {
          "output_type": "execute_result",
          "data": {
            "text/plain": [
              "array([17, 33, 20])"
            ]
          },
          "metadata": {},
          "execution_count": 82
        }
      ]
    },
    {
      "cell_type": "code",
      "source": [
        "#Ellipsis\n",
        "c = b.reshape(4,2,6)"
      ],
      "metadata": {
        "id": "hKBGOwY5CyD2"
      },
      "execution_count": 83,
      "outputs": []
    },
    {
      "cell_type": "code",
      "source": [
        "c[2,...] #ellipsis 2nd matrix with all rows and columns"
      ],
      "metadata": {
        "colab": {
          "base_uri": "https://localhost:8080/"
        },
        "id": "5-uqCJzdC-iO",
        "outputId": "9ebe5d0e-14a5-4536-b74e-c2a31b707ec9"
      },
      "execution_count": 84,
      "outputs": [
        {
          "output_type": "execute_result",
          "data": {
            "text/plain": [
              "array([[24, 25, 26, 27, 28, 29],\n",
              "       [30, 31, 32, 33, 34, 35]])"
            ]
          },
          "metadata": {},
          "execution_count": 84
        }
      ]
    },
    {
      "cell_type": "code",
      "source": [
        "c[2,1,...]"
      ],
      "metadata": {
        "colab": {
          "base_uri": "https://localhost:8080/"
        },
        "id": "Q9wF-cg3DAwQ",
        "outputId": "cfcd292e-9d6d-411b-b4a9-7b065ebda4c0"
      },
      "execution_count": 85,
      "outputs": [
        {
          "output_type": "execute_result",
          "data": {
            "text/plain": [
              "array([30, 31, 32, 33, 34, 35])"
            ]
          },
          "metadata": {},
          "execution_count": 85
        }
      ]
    },
    {
      "cell_type": "code",
      "source": [
        "c[...,3] # third column in all matrices and rows"
      ],
      "metadata": {
        "colab": {
          "base_uri": "https://localhost:8080/"
        },
        "id": "C0QmJu3jDIJl",
        "outputId": "2c377e7c-8504-48ac-f119-3e992e4c8a35"
      },
      "execution_count": 86,
      "outputs": [
        {
          "output_type": "execute_result",
          "data": {
            "text/plain": [
              "array([[ 3,  9],\n",
              "       [15, 21],\n",
              "       [27, 33],\n",
              "       [39, 45]])"
            ]
          },
          "metadata": {},
          "execution_count": 86
        }
      ]
    },
    {
      "cell_type": "code",
      "source": [
        "#boolean indexing\n",
        "b = np.arange(48).reshape(4, 12)\n",
        "rows_on = np.array([True, False, True, False])\n",
        "b[rows_on,:]\n"
      ],
      "metadata": {
        "colab": {
          "base_uri": "https://localhost:8080/"
        },
        "id": "2GrCiHWbDKKX",
        "outputId": "6b5bd014-c8ef-4ac3-bc1f-5e6243660dbb"
      },
      "execution_count": 88,
      "outputs": [
        {
          "output_type": "execute_result",
          "data": {
            "text/plain": [
              "array([[ 0,  1,  2,  3,  4,  5,  6,  7,  8,  9, 10, 11],\n",
              "       [24, 25, 26, 27, 28, 29, 30, 31, 32, 33, 34, 35]])"
            ]
          },
          "metadata": {},
          "execution_count": 88
        }
      ]
    },
    {
      "cell_type": "code",
      "source": [
        "cols_on = np.array([False, True, False] * 4)\n",
        "b[:,cols_on]"
      ],
      "metadata": {
        "colab": {
          "base_uri": "https://localhost:8080/"
        },
        "id": "h8Tf3UGiDYDP",
        "outputId": "32232552-6e58-4951-ba50-8923e783e436"
      },
      "execution_count": 89,
      "outputs": [
        {
          "output_type": "execute_result",
          "data": {
            "text/plain": [
              "array([[ 1,  4,  7, 10],\n",
              "       [13, 16, 19, 22],\n",
              "       [25, 28, 31, 34],\n",
              "       [37, 40, 43, 46]])"
            ]
          },
          "metadata": {},
          "execution_count": 89
        }
      ]
    },
    {
      "cell_type": "code",
      "source": [
        "#the above method works on individual axes -> we can project this operation on multiple axes using np.ix_\n",
        "\n",
        "b[np.ix_(rows_on, cols_on)]"
      ],
      "metadata": {
        "colab": {
          "base_uri": "https://localhost:8080/"
        },
        "id": "M3ag4t0yDfDj",
        "outputId": "5b0518ab-2892-4167-91a3-fdcee341233b"
      },
      "execution_count": 90,
      "outputs": [
        {
          "output_type": "execute_result",
          "data": {
            "text/plain": [
              "array([[ 1,  4,  7, 10],\n",
              "       [25, 28, 31, 34]])"
            ]
          },
          "metadata": {},
          "execution_count": 90
        }
      ]
    },
    {
      "cell_type": "code",
      "source": [
        "b [b%3 == 1]"
      ],
      "metadata": {
        "colab": {
          "base_uri": "https://localhost:8080/"
        },
        "id": "mvDrIpqzDrWj",
        "outputId": "557f8b22-f378-485e-d2a9-db1734599a3b"
      },
      "execution_count": 91,
      "outputs": [
        {
          "output_type": "execute_result",
          "data": {
            "text/plain": [
              "array([ 1,  4,  7, 10, 13, 16, 19, 22, 25, 28, 31, 34, 37, 40, 43, 46])"
            ]
          },
          "metadata": {},
          "execution_count": 91
        }
      ]
    },
    {
      "cell_type": "code",
      "source": [
        "c.shape[0]"
      ],
      "metadata": {
        "colab": {
          "base_uri": "https://localhost:8080/"
        },
        "id": "TnJIHtlYDwDq",
        "outputId": "3a990462-5d85-434d-9392-62097344c66f"
      },
      "execution_count": 92,
      "outputs": [
        {
          "output_type": "execute_result",
          "data": {
            "text/plain": [
              "4"
            ]
          },
          "metadata": {},
          "execution_count": 92
        }
      ]
    },
    {
      "cell_type": "code",
      "source": [
        "len(c)# same as c.shape[0]"
      ],
      "metadata": {
        "colab": {
          "base_uri": "https://localhost:8080/"
        },
        "id": "4dKMdClED3kk",
        "outputId": "60cb05d6-3589-48cc-c021-87cd15edd8e7"
      },
      "execution_count": 95,
      "outputs": [
        {
          "output_type": "execute_result",
          "data": {
            "text/plain": [
              "4"
            ]
          },
          "metadata": {},
          "execution_count": 95
        }
      ]
    },
    {
      "cell_type": "code",
      "source": [
        "q1 = np.full((3,4), 1.0)\n",
        "q2 = np.full((4,4),2.0)\n",
        "q3 = np.full((4,4),3.0)\n",
        "np.vstack((q1,q2,q3)).shape #vertical stacking all the arrays"
      ],
      "metadata": {
        "colab": {
          "base_uri": "https://localhost:8080/"
        },
        "id": "y4DtJLd-D6F0",
        "outputId": "de6d3390-59de-457f-bda4-072b226a4b3f"
      },
      "execution_count": 97,
      "outputs": [
        {
          "output_type": "execute_result",
          "data": {
            "text/plain": [
              "(11, 4)"
            ]
          },
          "metadata": {},
          "execution_count": 97
        }
      ]
    },
    {
      "cell_type": "code",
      "source": [
        "np.hstack((q2,q3)) #horizontal stacking 2 and 3 -> prerequisite -> number of rows are same"
      ],
      "metadata": {
        "colab": {
          "base_uri": "https://localhost:8080/"
        },
        "id": "hRsIzj0eFK9O",
        "outputId": "1ed6d4d5-037c-46f1-c2c1-c88df2bd94a8"
      },
      "execution_count": 98,
      "outputs": [
        {
          "output_type": "execute_result",
          "data": {
            "text/plain": [
              "array([[2., 2., 2., 2., 3., 3., 3., 3.],\n",
              "       [2., 2., 2., 2., 3., 3., 3., 3.],\n",
              "       [2., 2., 2., 2., 3., 3., 3., 3.],\n",
              "       [2., 2., 2., 2., 3., 3., 3., 3.]])"
            ]
          },
          "metadata": {},
          "execution_count": 98
        }
      ]
    },
    {
      "cell_type": "code",
      "source": [
        "np.hstack((q1,q3)) # since rows are not the same number, error is raised"
      ],
      "metadata": {
        "colab": {
          "base_uri": "https://localhost:8080/",
          "height": 275
        },
        "id": "01cutVeKFaXw",
        "outputId": "694556f5-faee-42e2-b731-9179e92a839b"
      },
      "execution_count": 99,
      "outputs": [
        {
          "output_type": "error",
          "ename": "ValueError",
          "evalue": "all the input array dimensions except for the concatenation axis must match exactly, but along dimension 0, the array at index 0 has size 3 and the array at index 1 has size 4",
          "traceback": [
            "\u001b[0;31m---------------------------------------------------------------------------\u001b[0m",
            "\u001b[0;31mValueError\u001b[0m                                Traceback (most recent call last)",
            "\u001b[0;32m<ipython-input-99-c87eff089b03>\u001b[0m in \u001b[0;36m<cell line: 1>\u001b[0;34m()\u001b[0m\n\u001b[0;32m----> 1\u001b[0;31m \u001b[0mnp\u001b[0m\u001b[0;34m.\u001b[0m\u001b[0mhstack\u001b[0m\u001b[0;34m(\u001b[0m\u001b[0;34m(\u001b[0m\u001b[0mq1\u001b[0m\u001b[0;34m,\u001b[0m\u001b[0mq3\u001b[0m\u001b[0;34m)\u001b[0m\u001b[0;34m)\u001b[0m\u001b[0;34m\u001b[0m\u001b[0;34m\u001b[0m\u001b[0m\n\u001b[0m",
            "\u001b[0;32m/usr/local/lib/python3.10/dist-packages/numpy/core/shape_base.py\u001b[0m in \u001b[0;36mhstack\u001b[0;34m(tup, dtype, casting)\u001b[0m\n\u001b[1;32m    357\u001b[0m         \u001b[0;32mreturn\u001b[0m \u001b[0m_nx\u001b[0m\u001b[0;34m.\u001b[0m\u001b[0mconcatenate\u001b[0m\u001b[0;34m(\u001b[0m\u001b[0marrs\u001b[0m\u001b[0;34m,\u001b[0m \u001b[0;36m0\u001b[0m\u001b[0;34m,\u001b[0m \u001b[0mdtype\u001b[0m\u001b[0;34m=\u001b[0m\u001b[0mdtype\u001b[0m\u001b[0;34m,\u001b[0m \u001b[0mcasting\u001b[0m\u001b[0;34m=\u001b[0m\u001b[0mcasting\u001b[0m\u001b[0;34m)\u001b[0m\u001b[0;34m\u001b[0m\u001b[0;34m\u001b[0m\u001b[0m\n\u001b[1;32m    358\u001b[0m     \u001b[0;32melse\u001b[0m\u001b[0;34m:\u001b[0m\u001b[0;34m\u001b[0m\u001b[0;34m\u001b[0m\u001b[0m\n\u001b[0;32m--> 359\u001b[0;31m         \u001b[0;32mreturn\u001b[0m \u001b[0m_nx\u001b[0m\u001b[0;34m.\u001b[0m\u001b[0mconcatenate\u001b[0m\u001b[0;34m(\u001b[0m\u001b[0marrs\u001b[0m\u001b[0;34m,\u001b[0m \u001b[0;36m1\u001b[0m\u001b[0;34m,\u001b[0m \u001b[0mdtype\u001b[0m\u001b[0;34m=\u001b[0m\u001b[0mdtype\u001b[0m\u001b[0;34m,\u001b[0m \u001b[0mcasting\u001b[0m\u001b[0;34m=\u001b[0m\u001b[0mcasting\u001b[0m\u001b[0;34m)\u001b[0m\u001b[0;34m\u001b[0m\u001b[0;34m\u001b[0m\u001b[0m\n\u001b[0m\u001b[1;32m    360\u001b[0m \u001b[0;34m\u001b[0m\u001b[0m\n\u001b[1;32m    361\u001b[0m \u001b[0;34m\u001b[0m\u001b[0m\n",
            "\u001b[0;31mValueError\u001b[0m: all the input array dimensions except for the concatenation axis must match exactly, but along dimension 0, the array at index 0 has size 3 and the array at index 1 has size 4"
          ]
        }
      ]
    },
    {
      "cell_type": "code",
      "source": [
        "#concatenate\n",
        "np.concatenate((q1,q2,q3), axis=0) # stacking arrays along given axis\n"
      ],
      "metadata": {
        "colab": {
          "base_uri": "https://localhost:8080/"
        },
        "id": "vtVpSQAPFdbJ",
        "outputId": "29c1c38e-8f2c-4e30-a610-69916e2a0fbd"
      },
      "execution_count": 100,
      "outputs": [
        {
          "output_type": "execute_result",
          "data": {
            "text/plain": [
              "array([[1., 1., 1., 1.],\n",
              "       [1., 1., 1., 1.],\n",
              "       [1., 1., 1., 1.],\n",
              "       [2., 2., 2., 2.],\n",
              "       [2., 2., 2., 2.],\n",
              "       [2., 2., 2., 2.],\n",
              "       [2., 2., 2., 2.],\n",
              "       [3., 3., 3., 3.],\n",
              "       [3., 3., 3., 3.],\n",
              "       [3., 3., 3., 3.],\n",
              "       [3., 3., 3., 3.]])"
            ]
          },
          "metadata": {},
          "execution_count": 100
        }
      ]
    },
    {
      "cell_type": "code",
      "source": [
        "#stack - stacks the arrays of same shape along a new axis\n",
        "np.stack((q2,q3))"
      ],
      "metadata": {
        "colab": {
          "base_uri": "https://localhost:8080/"
        },
        "id": "lM9TwSHDFoYZ",
        "outputId": "de8e60dd-394a-4452-deed-db9194e85c6e"
      },
      "execution_count": 101,
      "outputs": [
        {
          "output_type": "execute_result",
          "data": {
            "text/plain": [
              "array([[[2., 2., 2., 2.],\n",
              "        [2., 2., 2., 2.],\n",
              "        [2., 2., 2., 2.],\n",
              "        [2., 2., 2., 2.]],\n",
              "\n",
              "       [[3., 3., 3., 3.],\n",
              "        [3., 3., 3., 3.],\n",
              "        [3., 3., 3., 3.],\n",
              "        [3., 3., 3., 3.]]])"
            ]
          },
          "metadata": {},
          "execution_count": 101
        }
      ]
    },
    {
      "cell_type": "code",
      "source": [
        "np.stack((q2,q3)).shape"
      ],
      "metadata": {
        "colab": {
          "base_uri": "https://localhost:8080/"
        },
        "id": "rrTE8nFEFydc",
        "outputId": "f2e0be8d-0274-490a-c1bf-4a581588349f"
      },
      "execution_count": 102,
      "outputs": [
        {
          "output_type": "execute_result",
          "data": {
            "text/plain": [
              "(2, 4, 4)"
            ]
          },
          "metadata": {},
          "execution_count": 102
        }
      ]
    },
    {
      "cell_type": "code",
      "source": [
        "#split - opposite of stack\n",
        "r = np.arange(24).reshape(6,4)\n",
        "r1,r2,r3 = np.vsplit(r,3)"
      ],
      "metadata": {
        "id": "rPj1tg2VF1Ll"
      },
      "execution_count": 103,
      "outputs": []
    },
    {
      "cell_type": "code",
      "source": [
        "r1.shape,r2.shape,r3.shape"
      ],
      "metadata": {
        "colab": {
          "base_uri": "https://localhost:8080/"
        },
        "id": "d0nR_QMsGSNJ",
        "outputId": "da7f3595-241a-4b66-c226-cc11737023b6"
      },
      "execution_count": 104,
      "outputs": [
        {
          "output_type": "execute_result",
          "data": {
            "text/plain": [
              "((2, 4), (2, 4), (2, 4))"
            ]
          },
          "metadata": {},
          "execution_count": 104
        }
      ]
    },
    {
      "cell_type": "code",
      "source": [
        "c1,c2 = np.hsplit(r,2)"
      ],
      "metadata": {
        "id": "AhD7hEKvGUK2"
      },
      "execution_count": 105,
      "outputs": []
    },
    {
      "cell_type": "code",
      "source": [
        "c1.shape,c2.shape"
      ],
      "metadata": {
        "colab": {
          "base_uri": "https://localhost:8080/"
        },
        "id": "xaG9aAHhGXq-",
        "outputId": "b0497c25-5e78-452c-a577-80cd8c327609"
      },
      "execution_count": 106,
      "outputs": [
        {
          "output_type": "execute_result",
          "data": {
            "text/plain": [
              "((6, 2), (6, 2))"
            ]
          },
          "metadata": {},
          "execution_count": 106
        }
      ]
    },
    {
      "cell_type": "code",
      "source": [
        "#Transposing arrays\n",
        "t = np.arange(24).reshape(4,2,3)\n",
        "\n",
        "t1 = t.transpose(1,0,2)\n",
        "t1.shape"
      ],
      "metadata": {
        "colab": {
          "base_uri": "https://localhost:8080/"
        },
        "id": "cjhuGFGfGZOc",
        "outputId": "70117340-a183-4133-a778-071cb8b62030"
      },
      "execution_count": 107,
      "outputs": [
        {
          "output_type": "execute_result",
          "data": {
            "text/plain": [
              "(2, 4, 3)"
            ]
          },
          "metadata": {},
          "execution_count": 107
        }
      ]
    },
    {
      "cell_type": "code",
      "source": [
        "t2 = t.swapaxes(1,0) # swap axes 0 and 1"
      ],
      "metadata": {
        "id": "TeLflecsIsZo"
      },
      "execution_count": 108,
      "outputs": []
    },
    {
      "cell_type": "code",
      "source": [
        "t2.shape"
      ],
      "metadata": {
        "colab": {
          "base_uri": "https://localhost:8080/"
        },
        "id": "lqzynlS-JOUI",
        "outputId": "ac090afc-cc50-45c4-afc6-61a08d8a2275"
      },
      "execution_count": 109,
      "outputs": [
        {
          "output_type": "execute_result",
          "data": {
            "text/plain": [
              "(2, 4, 3)"
            ]
          },
          "metadata": {},
          "execution_count": 109
        }
      ]
    },
    {
      "cell_type": "code",
      "source": [
        "#Linear algebra - numpy arrays and linear algebra - mostly dealing with 2D matrices\n",
        "m1 = np.arange(10).reshape(2,5)\n",
        "m1.shape, m1.dtype"
      ],
      "metadata": {
        "colab": {
          "base_uri": "https://localhost:8080/"
        },
        "id": "6NSgPyd4JPD8",
        "outputId": "f9ac5d01-aa51-4d9c-f16f-0a2e3a64db94"
      },
      "execution_count": 110,
      "outputs": [
        {
          "output_type": "execute_result",
          "data": {
            "text/plain": [
              "((2, 5), dtype('int64'))"
            ]
          },
          "metadata": {},
          "execution_count": 110
        }
      ]
    },
    {
      "cell_type": "code",
      "source": [
        "m1.T # alternateive to m1.transpose(1,0) .T is matrix transpose"
      ],
      "metadata": {
        "colab": {
          "base_uri": "https://localhost:8080/"
        },
        "id": "MjKWowneJsJO",
        "outputId": "56fe1d4b-db4e-4f1b-8e13-f2dc0f190e2b"
      },
      "execution_count": 111,
      "outputs": [
        {
          "output_type": "execute_result",
          "data": {
            "text/plain": [
              "array([[0, 5],\n",
              "       [1, 6],\n",
              "       [2, 7],\n",
              "       [3, 8],\n",
              "       [4, 9]])"
            ]
          },
          "metadata": {},
          "execution_count": 111
        }
      ]
    },
    {
      "cell_type": "code",
      "source": [
        "m1.T.shape"
      ],
      "metadata": {
        "colab": {
          "base_uri": "https://localhost:8080/"
        },
        "id": "fmPQPamEJyuQ",
        "outputId": "00e53ddc-dafa-4240-95af-c5ff918f28a2"
      },
      "execution_count": 112,
      "outputs": [
        {
          "output_type": "execute_result",
          "data": {
            "text/plain": [
              "(5, 2)"
            ]
          },
          "metadata": {},
          "execution_count": 112
        }
      ]
    },
    {
      "cell_type": "code",
      "source": [
        "#Matrix multiplication\n",
        "n1 = np.arange(10).reshape(2,5)\n",
        "n1"
      ],
      "metadata": {
        "colab": {
          "base_uri": "https://localhost:8080/"
        },
        "id": "ZMFfjIp2J2rR",
        "outputId": "0c5a6c3e-3d2c-4fbf-ac6b-eeed52f31177"
      },
      "execution_count": 113,
      "outputs": [
        {
          "output_type": "execute_result",
          "data": {
            "text/plain": [
              "array([[0, 1, 2, 3, 4],\n",
              "       [5, 6, 7, 8, 9]])"
            ]
          },
          "metadata": {},
          "execution_count": 113
        }
      ]
    },
    {
      "cell_type": "code",
      "source": [
        "n2 = np.arange(15).reshape(5,3)\n",
        "n2"
      ],
      "metadata": {
        "colab": {
          "base_uri": "https://localhost:8080/"
        },
        "id": "tkoh0QsnKx5S",
        "outputId": "bafb5ce1-4330-4867-c297-8f87286f5a6a"
      },
      "execution_count": 116,
      "outputs": [
        {
          "output_type": "execute_result",
          "data": {
            "text/plain": [
              "array([[ 0,  1,  2],\n",
              "       [ 3,  4,  5],\n",
              "       [ 6,  7,  8],\n",
              "       [ 9, 10, 11],\n",
              "       [12, 13, 14]])"
            ]
          },
          "metadata": {},
          "execution_count": 116
        }
      ]
    },
    {
      "cell_type": "code",
      "source": [
        "n3 = np.dot(n1,n2) # n1*n2 is elementwise mutliplication - hadamard product"
      ],
      "metadata": {
        "id": "Z3aIfNbCLbuD"
      },
      "execution_count": 117,
      "outputs": []
    },
    {
      "cell_type": "code",
      "source": [
        "n3.shape"
      ],
      "metadata": {
        "colab": {
          "base_uri": "https://localhost:8080/"
        },
        "id": "-dXSDRuvLkrP",
        "outputId": "81cbd46b-7eb7-4e7d-dfe7-5128f4954ec2"
      },
      "execution_count": 118,
      "outputs": [
        {
          "output_type": "execute_result",
          "data": {
            "text/plain": [
              "(2, 3)"
            ]
          },
          "metadata": {},
          "execution_count": 118
        }
      ]
    },
    {
      "cell_type": "code",
      "source": [
        "#matrix inverse and pseudo inverse\n",
        "import numpy.linalg as linalg # linear algebra library part of numpy\n",
        "m3 = np.array([[1,2,3],[5,7,11],[21,29,31]])\n",
        "m3.shape\n",
        "\n"
      ],
      "metadata": {
        "colab": {
          "base_uri": "https://localhost:8080/"
        },
        "id": "84kS1AjmLlu0",
        "outputId": "baf3dc85-6861-4ca0-fe19-19c2fcc9d39d"
      },
      "execution_count": 119,
      "outputs": [
        {
          "output_type": "execute_result",
          "data": {
            "text/plain": [
              "(3, 3)"
            ]
          },
          "metadata": {},
          "execution_count": 119
        }
      ]
    },
    {
      "cell_type": "code",
      "source": [
        "#m3 is a square matrix -> hence inverse is calculable\n",
        "m3_inv = linalg.inv(m3)"
      ],
      "metadata": {
        "id": "25_75G8YL6c7"
      },
      "execution_count": 120,
      "outputs": []
    },
    {
      "cell_type": "code",
      "source": [
        "m3_inv"
      ],
      "metadata": {
        "colab": {
          "base_uri": "https://localhost:8080/"
        },
        "id": "CocLXu0wMAbX",
        "outputId": "e32ef49d-8f2c-4a05-9aaa-1d1c22a1dd19"
      },
      "execution_count": 121,
      "outputs": [
        {
          "output_type": "execute_result",
          "data": {
            "text/plain": [
              "array([[-2.31818182,  0.56818182,  0.02272727],\n",
              "       [ 1.72727273, -0.72727273,  0.09090909],\n",
              "       [-0.04545455,  0.29545455, -0.06818182]])"
            ]
          },
          "metadata": {},
          "execution_count": 121
        }
      ]
    },
    {
      "cell_type": "code",
      "source": [
        "#pinv - pseudo inv is also available which is usually helpful for matrices where inverse is not exaclty deteminate\n",
        "m3_pinv = linalg.pinv(m3)"
      ],
      "metadata": {
        "id": "VJlZBtDEMBT9"
      },
      "execution_count": 122,
      "outputs": []
    },
    {
      "cell_type": "code",
      "source": [
        "np.mean(np.square(np.subtract(m3_inv, m3_pinv)))"
      ],
      "metadata": {
        "colab": {
          "base_uri": "https://localhost:8080/"
        },
        "id": "sQcbntqRMLHt",
        "outputId": "44645ccd-4ba3-4882-d841-ecde3225e410"
      },
      "execution_count": 123,
      "outputs": [
        {
          "output_type": "execute_result",
          "data": {
            "text/plain": [
              "5.262251020862191e-29"
            ]
          },
          "metadata": {},
          "execution_count": 123
        }
      ]
    },
    {
      "cell_type": "code",
      "source": [
        "#matrix multiplied with its inverse gives identity matrix\n",
        "np.dot(m3,m3_inv) #there could be some floating point errors\n"
      ],
      "metadata": {
        "colab": {
          "base_uri": "https://localhost:8080/"
        },
        "id": "ZWFXxAxEMUIj",
        "outputId": "637cbf32-3972-4ee7-c5d6-1a978ae8cfd8"
      },
      "execution_count": 124,
      "outputs": [
        {
          "output_type": "execute_result",
          "data": {
            "text/plain": [
              "array([[ 1.00000000e+00, -1.66533454e-16,  0.00000000e+00],\n",
              "       [ 6.31439345e-16,  1.00000000e+00, -1.38777878e-16],\n",
              "       [ 5.21110932e-15, -2.38697950e-15,  1.00000000e+00]])"
            ]
          },
          "metadata": {},
          "execution_count": 124
        }
      ]
    },
    {
      "cell_type": "code",
      "source": [
        "np.eye(3) # to generate identity matrix of size 3,3"
      ],
      "metadata": {
        "colab": {
          "base_uri": "https://localhost:8080/"
        },
        "id": "uVUC-3A8MiDa",
        "outputId": "8245bbe4-dcb7-4361-ca36-54612fbaee01"
      },
      "execution_count": 125,
      "outputs": [
        {
          "output_type": "execute_result",
          "data": {
            "text/plain": [
              "array([[1., 0., 0.],\n",
              "       [0., 1., 0.],\n",
              "       [0., 0., 1.]])"
            ]
          },
          "metadata": {},
          "execution_count": 125
        }
      ]
    },
    {
      "cell_type": "code",
      "source": [
        "#QR decomposition - decomposition into q- orthonormal matrix and R - upper triangular matrix\n",
        "q,r = np.linalg.qr(m3)"
      ],
      "metadata": {
        "id": "hSPGxMbRMt9B"
      },
      "execution_count": 126,
      "outputs": []
    },
    {
      "cell_type": "code",
      "source": [
        "r"
      ],
      "metadata": {
        "colab": {
          "base_uri": "https://localhost:8080/"
        },
        "id": "VeQyiQIqNc8N",
        "outputId": "8d2be7d0-58a3-4f2b-ddc9-7384d7e4326d"
      },
      "execution_count": 127,
      "outputs": [
        {
          "output_type": "execute_result",
          "data": {
            "text/plain": [
              "array([[-21.61018278, -29.89331494, -32.80860727],\n",
              "       [  0.        ,   0.62427688,   1.9894538 ],\n",
              "       [  0.        ,   0.        ,  -3.26149699]])"
            ]
          },
          "metadata": {},
          "execution_count": 127
        }
      ]
    },
    {
      "cell_type": "code",
      "source": [
        "q"
      ],
      "metadata": {
        "colab": {
          "base_uri": "https://localhost:8080/"
        },
        "id": "DcxTCCniNg8k",
        "outputId": "bd7f39cb-372a-4555-d158-ef886da6bfad"
      },
      "execution_count": 128,
      "outputs": [
        {
          "output_type": "execute_result",
          "data": {
            "text/plain": [
              "array([[-0.04627448,  0.98786672,  0.14824986],\n",
              "       [-0.23137241,  0.13377362, -0.96362411],\n",
              "       [-0.97176411, -0.07889213,  0.22237479]])"
            ]
          },
          "metadata": {},
          "execution_count": 128
        }
      ]
    },
    {
      "cell_type": "code",
      "source": [
        "np.dot(q,r)"
      ],
      "metadata": {
        "colab": {
          "base_uri": "https://localhost:8080/"
        },
        "id": "Fps7fL17NhhM",
        "outputId": "e583054a-e46b-4976-d67c-c93508e75c3b"
      },
      "execution_count": 129,
      "outputs": [
        {
          "output_type": "execute_result",
          "data": {
            "text/plain": [
              "array([[ 1.,  2.,  3.],\n",
              "       [ 5.,  7., 11.],\n",
              "       [21., 29., 31.]])"
            ]
          },
          "metadata": {},
          "execution_count": 129
        }
      ]
    },
    {
      "cell_type": "code",
      "source": [
        "#determinant\n",
        "np.linalg.det(m3)"
      ],
      "metadata": {
        "colab": {
          "base_uri": "https://localhost:8080/"
        },
        "id": "CbqfUQVqNkXj",
        "outputId": "29b348dd-1486-4ffe-9cf7-e0b8a6401a4b"
      },
      "execution_count": 130,
      "outputs": [
        {
          "output_type": "execute_result",
          "data": {
            "text/plain": [
              "43.99999999999997"
            ]
          },
          "metadata": {},
          "execution_count": 130
        }
      ]
    },
    {
      "cell_type": "code",
      "source": [
        "#Eigen vectors and eigen values - important ideas in linear algebra and matrix least square solutions\n",
        "eig_val, eig_vec = np.linalg.eig(m3) #since m3 is 3X3 we will have 3 eig values and 3 eig vectors"
      ],
      "metadata": {
        "id": "v-zC1ig2OJS3"
      },
      "execution_count": 131,
      "outputs": []
    },
    {
      "cell_type": "code",
      "source": [
        "eig_val"
      ],
      "metadata": {
        "colab": {
          "base_uri": "https://localhost:8080/"
        },
        "id": "cNGUK7UHOVeU",
        "outputId": "ac0b4395-6ea0-458a-dbe0-d8c3906a5dda"
      },
      "execution_count": 132,
      "outputs": [
        {
          "output_type": "execute_result",
          "data": {
            "text/plain": [
              "array([42.26600592, -0.35798416, -2.90802176])"
            ]
          },
          "metadata": {},
          "execution_count": 132
        }
      ]
    },
    {
      "cell_type": "code",
      "source": [
        "eig_vec"
      ],
      "metadata": {
        "colab": {
          "base_uri": "https://localhost:8080/"
        },
        "id": "3ctzS4HYObkk",
        "outputId": "22b4935f-452a-4134-db2c-4268ae771df4"
      },
      "execution_count": 134,
      "outputs": [
        {
          "output_type": "execute_result",
          "data": {
            "text/plain": [
              "array([[-0.08381182, -0.76283526, -0.18913107],\n",
              "       [-0.3075286 ,  0.64133975, -0.6853186 ],\n",
              "       [-0.94784057, -0.08225377,  0.70325518]])"
            ]
          },
          "metadata": {},
          "execution_count": 134
        }
      ]
    },
    {
      "cell_type": "code",
      "source": [
        "a = eig_vec * eig_val"
      ],
      "metadata": {
        "id": "M2VlF1JOOcQ-"
      },
      "execution_count": 139,
      "outputs": []
    },
    {
      "cell_type": "code",
      "source": [
        "b = np.dot(m3, eig_vec)"
      ],
      "metadata": {
        "id": "T5q1ElLYOipT"
      },
      "execution_count": 140,
      "outputs": []
    },
    {
      "cell_type": "code",
      "source": [
        "a-b # almost zero taking away rounding errors"
      ],
      "metadata": {
        "colab": {
          "base_uri": "https://localhost:8080/"
        },
        "id": "93WRqBUbOlYz",
        "outputId": "e4fbb6eb-ea97-418c-8357-143e0029f9b1"
      },
      "execution_count": 141,
      "outputs": [
        {
          "output_type": "execute_result",
          "data": {
            "text/plain": [
              "array([[-6.21724894e-15, -1.66533454e-15,  3.10862447e-15],\n",
              "       [-3.55271368e-15, -5.30131494e-15,  5.32907052e-15],\n",
              "       [-3.55271368e-14, -5.38458167e-15,  9.76996262e-15]])"
            ]
          },
          "metadata": {},
          "execution_count": 141
        }
      ]
    },
    {
      "cell_type": "code",
      "source": [
        "#Singular value decomposition\n",
        "m4 = np.array([[1,0,0,0,2], [0,0,3,0,0], [0,0,0,0,0], [0,2,0,0,0]])\n",
        "print(m4.shape)"
      ],
      "metadata": {
        "colab": {
          "base_uri": "https://localhost:8080/"
        },
        "id": "xP2_p6AdOufk",
        "outputId": "b3ea26f7-d1a7-4969-e190-1b8b897d4488"
      },
      "execution_count": 142,
      "outputs": [
        {
          "output_type": "stream",
          "name": "stdout",
          "text": [
            "(4, 5)\n"
          ]
        }
      ]
    },
    {
      "cell_type": "code",
      "source": [
        "U, S_diag, V = np.linalg.svd(m4)"
      ],
      "metadata": {
        "id": "hNOh9JQRPQsv"
      },
      "execution_count": 143,
      "outputs": []
    },
    {
      "cell_type": "code",
      "source": [
        "U"
      ],
      "metadata": {
        "colab": {
          "base_uri": "https://localhost:8080/"
        },
        "id": "l-8Pz5V2PTnX",
        "outputId": "f5ab4387-5249-4a1b-98c0-b588e495b575"
      },
      "execution_count": 144,
      "outputs": [
        {
          "output_type": "execute_result",
          "data": {
            "text/plain": [
              "array([[ 0.,  1.,  0.,  0.],\n",
              "       [ 1.,  0.,  0.,  0.],\n",
              "       [ 0.,  0.,  0.,  1.],\n",
              "       [ 0.,  0., -1.,  0.]])"
            ]
          },
          "metadata": {},
          "execution_count": 144
        }
      ]
    },
    {
      "cell_type": "code",
      "source": [
        "S_diag"
      ],
      "metadata": {
        "colab": {
          "base_uri": "https://localhost:8080/"
        },
        "id": "uB5nsaY7PUN8",
        "outputId": "61929616-fcb8-4b2c-9eb3-b5cc9e5943f4"
      },
      "execution_count": 145,
      "outputs": [
        {
          "output_type": "execute_result",
          "data": {
            "text/plain": [
              "array([3.        , 2.23606798, 2.        , 0.        ])"
            ]
          },
          "metadata": {},
          "execution_count": 145
        }
      ]
    },
    {
      "cell_type": "code",
      "source": [
        "V"
      ],
      "metadata": {
        "colab": {
          "base_uri": "https://localhost:8080/"
        },
        "id": "53jqoIcFPUyx",
        "outputId": "c2830336-5e78-47a8-e4d1-63e75ff60834"
      },
      "execution_count": 146,
      "outputs": [
        {
          "output_type": "execute_result",
          "data": {
            "text/plain": [
              "array([[-0.        ,  0.        ,  1.        , -0.        ,  0.        ],\n",
              "       [ 0.4472136 ,  0.        ,  0.        ,  0.        ,  0.89442719],\n",
              "       [ 0.        , -1.        ,  0.        ,  0.        ,  0.        ],\n",
              "       [ 0.        ,  0.        ,  0.        ,  1.        ,  0.        ],\n",
              "       [-0.89442719,  0.        ,  0.        ,  0.        ,  0.4472136 ]])"
            ]
          },
          "metadata": {},
          "execution_count": 146
        }
      ]
    },
    {
      "cell_type": "code",
      "source": [
        "S = np.zeros((4,5))"
      ],
      "metadata": {
        "id": "epmszkUoPVZU"
      },
      "execution_count": 148,
      "outputs": []
    },
    {
      "cell_type": "code",
      "source": [
        "S[(0,1,2,3), (0,1,2,3)] = S_diag\n"
      ],
      "metadata": {
        "id": "W-CBxxcpPkTL"
      },
      "execution_count": 149,
      "outputs": []
    },
    {
      "cell_type": "code",
      "source": [
        "S"
      ],
      "metadata": {
        "colab": {
          "base_uri": "https://localhost:8080/"
        },
        "id": "WeZc0hFXP2l6",
        "outputId": "82d2a733-13a3-46ca-d0f4-0eb42df675cd"
      },
      "execution_count": 150,
      "outputs": [
        {
          "output_type": "execute_result",
          "data": {
            "text/plain": [
              "array([[3.        , 0.        , 0.        , 0.        , 0.        ],\n",
              "       [0.        , 2.23606798, 0.        , 0.        , 0.        ],\n",
              "       [0.        , 0.        , 2.        , 0.        , 0.        ],\n",
              "       [0.        , 0.        , 0.        , 0.        , 0.        ]])"
            ]
          },
          "metadata": {},
          "execution_count": 150
        }
      ]
    },
    {
      "cell_type": "code",
      "source": [
        "#easier and better way to do\n",
        "S2 = np.zeros((4,5))\n",
        "S2[np.diag_indices(4)] = S_diag\n",
        "S2.shape"
      ],
      "metadata": {
        "colab": {
          "base_uri": "https://localhost:8080/"
        },
        "id": "T0KMS1XjP3Ug",
        "outputId": "ba54f45a-474c-4b89-8aaf-fb29c9f0bb73"
      },
      "execution_count": 151,
      "outputs": [
        {
          "output_type": "execute_result",
          "data": {
            "text/plain": [
              "(4, 5)"
            ]
          },
          "metadata": {},
          "execution_count": 151
        }
      ]
    },
    {
      "cell_type": "code",
      "source": [
        "(S2 == S).all()"
      ],
      "metadata": {
        "colab": {
          "base_uri": "https://localhost:8080/"
        },
        "id": "ZpP-I74AQDCO",
        "outputId": "ef59f7e8-f999-4b47-fb74-1d27b159977a"
      },
      "execution_count": 152,
      "outputs": [
        {
          "output_type": "execute_result",
          "data": {
            "text/plain": [
              "True"
            ]
          },
          "metadata": {},
          "execution_count": 152
        }
      ]
    },
    {
      "cell_type": "code",
      "source": [
        "(U.dot(S).dot(V) - m4).sum()"
      ],
      "metadata": {
        "colab": {
          "base_uri": "https://localhost:8080/"
        },
        "id": "DJv5tppCQGZa",
        "outputId": "7e869c69-2ebc-4fdc-d2e5-f131800241de"
      },
      "execution_count": 153,
      "outputs": [
        {
          "output_type": "execute_result",
          "data": {
            "text/plain": [
              "-3.3306690738754696e-16"
            ]
          },
          "metadata": {},
          "execution_count": 153
        }
      ]
    },
    {
      "cell_type": "code",
      "source": [
        "np.diag(m4) # returns diagonal elements"
      ],
      "metadata": {
        "colab": {
          "base_uri": "https://localhost:8080/"
        },
        "id": "z713Le2iQYcJ",
        "outputId": "0086f403-fec5-443a-bc52-ca1a5e1a22ec"
      },
      "execution_count": 154,
      "outputs": [
        {
          "output_type": "execute_result",
          "data": {
            "text/plain": [
              "array([1, 0, 0, 0])"
            ]
          },
          "metadata": {},
          "execution_count": 154
        }
      ]
    },
    {
      "cell_type": "code",
      "source": [
        "np.trace(m4) # sum of diagonal elements"
      ],
      "metadata": {
        "colab": {
          "base_uri": "https://localhost:8080/"
        },
        "id": "BDPFEjenQeNZ",
        "outputId": "844264ef-1599-4397-bb20-65e3b401c3ab"
      },
      "execution_count": 156,
      "outputs": [
        {
          "output_type": "execute_result",
          "data": {
            "text/plain": [
              "1"
            ]
          },
          "metadata": {},
          "execution_count": 156
        }
      ]
    },
    {
      "cell_type": "code",
      "source": [
        "#solving a system of linear equations\n"
      ],
      "metadata": {
        "id": "ZC_4z-_4Qf70"
      },
      "execution_count": null,
      "outputs": []
    },
    {
      "cell_type": "markdown",
      "source": [
        "to solve a system of linear equations like \\\n",
        "\n",
        "\n",
        "*   $2x + 3y = 9$\n",
        "*   $3x - 11y = 13$\n",
        "\n"
      ],
      "metadata": {
        "id": "pQ-w3WZVQprW"
      }
    },
    {
      "cell_type": "code",
      "source": [
        "coeffs = np.array([[2,3], [3,-11]])\n",
        "constants = np.array([9,13])\n",
        "solution = np.linalg.solve(coeffs,constants)"
      ],
      "metadata": {
        "id": "R68SrG1UQ7rz"
      },
      "execution_count": 158,
      "outputs": []
    },
    {
      "cell_type": "code",
      "source": [
        "solution"
      ],
      "metadata": {
        "colab": {
          "base_uri": "https://localhost:8080/"
        },
        "id": "et8J5HMnRSIZ",
        "outputId": "4846bc5d-49fc-477c-ddc3-9028bf149c2b"
      },
      "execution_count": 159,
      "outputs": [
        {
          "output_type": "execute_result",
          "data": {
            "text/plain": [
              "array([4.4516129 , 0.03225806])"
            ]
          },
          "metadata": {},
          "execution_count": 159
        }
      ]
    },
    {
      "cell_type": "code",
      "source": [
        "#to verify the solution\n",
        "np.allclose(np.dot(coeffs, solution), constants)\n"
      ],
      "metadata": {
        "colab": {
          "base_uri": "https://localhost:8080/"
        },
        "id": "kxHv5XZJRXiP",
        "outputId": "78cabca4-528c-4188-82ad-fe101fa22cde"
      },
      "execution_count": 160,
      "outputs": [
        {
          "output_type": "execute_result",
          "data": {
            "text/plain": [
              "True"
            ]
          },
          "metadata": {},
          "execution_count": 160
        }
      ]
    },
    {
      "cell_type": "code",
      "source": [
        "#Vectorization - very important - helps optimize operations involving loops to leverage the speed of numpy instead of python for loops\n",
        "#Example to demonstrate the same\n",
        "# the following for loops are in native python - a very bad idea - these are very inefficient\n",
        "data = np.empty((768, 1024))\n",
        "import time\n",
        "start = time.time()\n",
        "\n",
        "for y in range(768):\n",
        "  for x in range(1024):\n",
        "    data[y,x] = np.sin(x*y/45)\n",
        "time1 = time.time() - start\n",
        "\n"
      ],
      "metadata": {
        "id": "59R1nFMxSJiD"
      },
      "execution_count": 161,
      "outputs": []
    },
    {
      "cell_type": "code",
      "source": [
        "start = time.time()\n",
        "x = np.arange(0,1024)\n",
        "y = np.arange(0,768)\n",
        "X,Y = np.meshgrid(x,y)\n",
        "data2= np.sin(X*Y/45)\n",
        "time2 = time.time() - start\n"
      ],
      "metadata": {
        "id": "cjWXRICLSx-X"
      },
      "execution_count": 162,
      "outputs": []
    },
    {
      "cell_type": "code",
      "source": [
        "np.allclose(data, data2)"
      ],
      "metadata": {
        "colab": {
          "base_uri": "https://localhost:8080/"
        },
        "id": "D2XBmv_eTXgS",
        "outputId": "5865187c-a5e8-4324-90d6-3e24c81027cc"
      },
      "execution_count": 165,
      "outputs": [
        {
          "output_type": "execute_result",
          "data": {
            "text/plain": [
              "True"
            ]
          },
          "metadata": {},
          "execution_count": 165
        }
      ]
    },
    {
      "cell_type": "markdown",
      "source": [
        "the data and data2 computed in two different approaches - pure python for loops and numpy's meshgrid which generates X of shape 768, 1024 having x values in rows replicated and y values in columns replicated. this is all done in numpy itself.\n",
        "To have an idea of how efficient it is , we ll compare the runtimes of both approaches\n"
      ],
      "metadata": {
        "id": "9cBBO-70Tg3w"
      }
    },
    {
      "cell_type": "code",
      "source": [
        "print(time1, time2)"
      ],
      "metadata": {
        "colab": {
          "base_uri": "https://localhost:8080/"
        },
        "id": "-f5H9x-7TaTR",
        "outputId": "eb6b2250-2bad-4193-b5f0-8001aec45601"
      },
      "execution_count": 166,
      "outputs": [
        {
          "output_type": "stream",
          "name": "stdout",
          "text": [
            "1.772223711013794 0.04712033271789551\n"
          ]
        }
      ]
    },
    {
      "cell_type": "markdown",
      "source": [
        "the native python approach takes 1.78 secs while second approach takes just 0.047 secs"
      ],
      "metadata": {
        "id": "OSHjxY8PT6O5"
      }
    },
    {
      "cell_type": "code",
      "source": [
        "import matplotlib.pyplot as plt\n",
        "import matplotlib\n",
        "plt.figure(1, figsize=(6,7))\n",
        "plt.imshow(data, cmap = \"jet\")\n"
      ],
      "metadata": {
        "colab": {
          "base_uri": "https://localhost:8080/",
          "height": 431
        },
        "id": "gZsSZG_PT40X",
        "outputId": "f293b859-f446-40fa-f722-f659dc1418eb"
      },
      "execution_count": 171,
      "outputs": [
        {
          "output_type": "execute_result",
          "data": {
            "text/plain": [
              "<matplotlib.image.AxesImage at 0x7f6e7432b700>"
            ]
          },
          "metadata": {},
          "execution_count": 171
        },
        {
          "output_type": "display_data",
          "data": {
            "text/plain": [
              "<Figure size 600x700 with 1 Axes>"
            ],
            "image/png": "[encoded data removed]"
          },
          "metadata": {}
        }
      ]
    },
    {
      "cell_type": "code",
      "source": [
        "#Saving and loading numpy arrays using files\n",
        "a = np.random.randn(2,3)\n",
        "a"
      ],
      "metadata": {
        "colab": {
          "base_uri": "https://localhost:8080/"
        },
        "id": "OhSIgSByUNNM",
        "outputId": "f4ea81f0-5bde-451c-f7b1-1645de9256a8"
      },
      "execution_count": 172,
      "outputs": [
        {
          "output_type": "execute_result",
          "data": {
            "text/plain": [
              "array([[ 1.22003935, -0.16294725, -0.49263105],\n",
              "       [-1.17282268, -0.0983001 , -0.85635857]])"
            ]
          },
          "metadata": {},
          "execution_count": 172
        }
      ]
    },
    {
      "cell_type": "code",
      "source": [
        "np.save(\"my_array\",a) # the array is saved into a file with .npy format by default"
      ],
      "metadata": {
        "id": "wgxr4smDUrFK"
      },
      "execution_count": 173,
      "outputs": []
    },
    {
      "cell_type": "code",
      "source": [
        "a = np.load(\"my_array.npy\") # to load numpy array"
      ],
      "metadata": {
        "id": "OhwRKY2_Uwly"
      },
      "execution_count": 175,
      "outputs": []
    },
    {
      "cell_type": "code",
      "source": [
        "a"
      ],
      "metadata": {
        "colab": {
          "base_uri": "https://localhost:8080/"
        },
        "id": "TLvKHGkAUzwq",
        "outputId": "78d15c18-d994-4b33-957c-67ff7fe512b4"
      },
      "execution_count": 176,
      "outputs": [
        {
          "output_type": "execute_result",
          "data": {
            "text/plain": [
              "array([[ 1.22003935, -0.16294725, -0.49263105],\n",
              "       [-1.17282268, -0.0983001 , -0.85635857]])"
            ]
          },
          "metadata": {},
          "execution_count": 176
        }
      ]
    },
    {
      "cell_type": "code",
      "source": [
        "with open(\"my_array.npy\", \"rb\") as f:\n",
        "  a = f.read()\n",
        "print(a) #read in binary mode - contains metadata as well - to extract the numpy array alone use np.load"
      ],
      "metadata": {
        "colab": {
          "base_uri": "https://localhost:8080/"
        },
        "id": "Xl4R8gu5U17D",
        "outputId": "654bc6c1-4b67-4a05-c190-617c0302cfea"
      },
      "execution_count": 177,
      "outputs": [
        {
          "output_type": "stream",
          "name": "stdout",
          "text": [
            "b\"\\x93NUMPY\\x01\\x00v\\x00{'descr': '<f8', 'fortran_order': False, 'shape': (2, 3), }                                                          \\n-t\\x04\\xfaG\\x85\\xf3?\\xfe\\x06B\\x94t\\xdb\\xc4\\xbf\\xed\\x1b'dD\\x87\\xdf\\xbftoL\\xb7\\xe1\\xc3\\xf2\\xbf\\xb7\\x8f\\xdd\\x0f2*\\xb9\\xbfV\\xe4\\x15\\x16Jg\\xeb\\xbf\"\n"
          ]
        }
      ]
    },
    {
      "cell_type": "code",
      "source": [
        "a = np.load(\"my_array.npy\")"
      ],
      "metadata": {
        "id": "AQ3RoiobWMb_"
      },
      "execution_count": 180,
      "outputs": []
    },
    {
      "cell_type": "code",
      "source": [
        "# np array save and load as txt file\n",
        "np.savetxt(\"my_array.csv\",a)"
      ],
      "metadata": {
        "id": "xbzK5odCVnTD"
      },
      "execution_count": 181,
      "outputs": []
    },
    {
      "cell_type": "code",
      "source": [
        "#read numpy array from csv file\n",
        "a = np.loadtxt(\"my_array.csv\")\n",
        "a"
      ],
      "metadata": {
        "colab": {
          "base_uri": "https://localhost:8080/"
        },
        "id": "JFYltZQJWKSp",
        "outputId": "4f19b9fc-3c50-4ac4-8648-a623668e7293"
      },
      "execution_count": 182,
      "outputs": [
        {
          "output_type": "execute_result",
          "data": {
            "text/plain": [
              "array([[ 1.22003935, -0.16294725, -0.49263105],\n",
              "       [-1.17282268, -0.0983001 , -0.85635857]])"
            ]
          },
          "metadata": {},
          "execution_count": 182
        }
      ]
    },
    {
      "cell_type": "code",
      "source": [
        "# read using open\n",
        "with open(\"my_array.csv\", \"rt\") as f:\n",
        "  content = f.read()\n",
        "print(content)"
      ],
      "metadata": {
        "colab": {
          "base_uri": "https://localhost:8080/"
        },
        "id": "du59LZi6WYGQ",
        "outputId": "b41fa9d1-e39c-42e0-e446-0fe3c5e9a1da"
      },
      "execution_count": 183,
      "outputs": [
        {
          "output_type": "stream",
          "name": "stdout",
          "text": [
            "1.220039345388850949e+00 -1.629472469249363953e-01 -4.926310518316643905e-01\n",
            "-1.172822681436596959e+00 -9.830010306683233112e-02 -8.563585692746851219e-01\n",
            "\n"
          ]
        }
      ]
    },
    {
      "cell_type": "markdown",
      "source": [
        "when read using open with rt as read mode, the default delimiter is tab, to have a different delimitter, np.loadtxt can be used"
      ],
      "metadata": {
        "id": "gTx-FSImWhGB"
      }
    },
    {
      "cell_type": "code",
      "source": [
        "b = np.loadtxt(\"my_array.csv\")\n",
        "b"
      ],
      "metadata": {
        "colab": {
          "base_uri": "https://localhost:8080/"
        },
        "id": "VRA7f06YWYbX",
        "outputId": "bec06549-6295-4ce6-ed8a-9580763072a8"
      },
      "execution_count": 187,
      "outputs": [
        {
          "output_type": "execute_result",
          "data": {
            "text/plain": [
              "array([[ 1.22003935, -0.16294725, -0.49263105],\n",
              "       [-1.17282268, -0.0983001 , -0.85635857]])"
            ]
          },
          "metadata": {},
          "execution_count": 187
        }
      ]
    },
    {
      "cell_type": "code",
      "source": [
        "np.savetxt(\"my_array2.csv\", a, delimiter=\",\")"
      ],
      "metadata": {
        "id": "mmjY_BkzWuqn"
      },
      "execution_count": 188,
      "outputs": []
    },
    {
      "cell_type": "code",
      "source": [
        "with open( \"my_array2.csv\", \"rt\") as f:\n",
        "  content = f.read()\n",
        "print(content)"
      ],
      "metadata": {
        "colab": {
          "base_uri": "https://localhost:8080/"
        },
        "id": "Oa6v1ewPXJe7",
        "outputId": "5682180f-8efb-4228-88d0-f775a619566d"
      },
      "execution_count": 189,
      "outputs": [
        {
          "output_type": "stream",
          "name": "stdout",
          "text": [
            "1.220039345388850949e+00,-1.629472469249363953e-01,-4.926310518316643905e-01\n",
            "-1.172822681436596959e+00,-9.830010306683233112e-02,-8.563585692746851219e-01\n",
            "\n"
          ]
        }
      ]
    },
    {
      "cell_type": "markdown",
      "source": [
        "when saved using np.savetxt passing delimiter as \",\" open reads the array with , as separator\n",
        "\n",
        "---\n",
        "\n"
      ],
      "metadata": {
        "id": "UygHTeECXMjP"
      }
    },
    {
      "cell_type": "code",
      "source": [
        "#saving and loading multiple arrays together - Zipped format\n",
        "b = np.array([1,4,5,6,0])\n",
        "np.savez(\"my_arrays\", my_a = a, my_b = b)"
      ],
      "metadata": {
        "id": "dGthT52NXLmn"
      },
      "execution_count": 190,
      "outputs": []
    },
    {
      "cell_type": "markdown",
      "source": [
        "the two arrays are stored as values in a dictionary with keys being my_a, my_b"
      ],
      "metadata": {
        "id": "0G5uW3bPXl2A"
      }
    },
    {
      "cell_type": "code",
      "source": [
        "my_arrays = np.load(\"my_arrays.npz\")"
      ],
      "metadata": {
        "id": "Xz7HfAW6Xr9P"
      },
      "execution_count": 191,
      "outputs": []
    },
    {
      "cell_type": "code",
      "source": [
        "type(my_arrays)"
      ],
      "metadata": {
        "colab": {
          "base_uri": "https://localhost:8080/",
          "height": 203
        },
        "id": "y0Sngmv0Xy9K",
        "outputId": "2d3e62e6-9c6a-45b0-ecd7-eb4cbcf292ef"
      },
      "execution_count": 192,
      "outputs": [
        {
          "output_type": "execute_result",
          "data": {
            "text/plain": [
              "numpy.lib.npyio.NpzFile"
            ],
            "text/html": [
              "<div style=\"max-width:800px; border: 1px solid var(--colab-border-color);\"><style>\n",
              "      pre.function-repr-contents {\n",
              "        overflow-x: auto;\n",
              "        padding: 8px 12px;\n",
              "        max-height: 500px;\n",
              "      }\n",
              "\n",
              "      pre.function-repr-contents.function-repr-contents-collapsed {\n",
              "        cursor: pointer;\n",
              "        max-height: 100px;\n",
              "      }\n",
              "    </style>\n",
              "    <pre style=\"white-space: initial; background:\n",
              "         var(--colab-secondary-surface-color); padding: 8px 12px;\n",
              "         border-bottom: 1px solid var(--colab-border-color);\"><b>numpy.lib.npyio.NpzFile</b><br/>def __init__(fid, own_fid=False, allow_pickle=False, pickle_kwargs=None, *, max_header_size=format._MAX_HEADER_SIZE)</pre><pre class=\"function-repr-contents function-repr-contents-collapsed\" style=\"\"><a class=\"filepath\" style=\"display:none\" href=\"#\">/usr/local/lib/python3.10/dist-packages/numpy/lib/npyio.py</a>NpzFile(fid)\n",
              "\n",
              "A dictionary-like object with lazy-loading of files in the zipped\n",
              "archive provided on construction.\n",
              "\n",
              "`NpzFile` is used to load files in the NumPy ``.npz`` data archive\n",
              "format. It assumes that files in the archive have a ``.npy`` extension,\n",
              "other files are ignored.\n",
              "\n",
              "The arrays and file strings are lazily loaded on either\n",
              "getitem access using ``obj[&#x27;key&#x27;]`` or attribute lookup using\n",
              "``obj.f.key``. A list of all files (without ``.npy`` extensions) can\n",
              "be obtained with ``obj.files`` and the ZipFile object itself using\n",
              "``obj.zip``.\n",
              "\n",
              "Attributes\n",
              "----------\n",
              "files : list of str\n",
              "    List of all files in the archive with a ``.npy`` extension.\n",
              "zip : ZipFile instance\n",
              "    The ZipFile object initialized with the zipped archive.\n",
              "f : BagObj instance\n",
              "    An object on which attribute can be performed as an alternative\n",
              "    to getitem access on the `NpzFile` instance itself.\n",
              "allow_pickle : bool, optional\n",
              "    Allow loading pickled data. Default: False\n",
              "\n",
              "    .. versionchanged:: 1.16.3\n",
              "        Made default False in response to CVE-2019-6446.\n",
              "\n",
              "pickle_kwargs : dict, optional\n",
              "    Additional keyword arguments to pass on to pickle.load.\n",
              "    These are only useful when loading object arrays saved on\n",
              "    Python 2 when using Python 3.\n",
              "max_header_size : int, optional\n",
              "    Maximum allowed size of the header.  Large headers may not be safe\n",
              "    to load securely and thus require explicitly passing a larger value.\n",
              "    See :py:func:`ast.literal_eval()` for details.\n",
              "    This option is ignored when `allow_pickle` is passed.  In that case\n",
              "    the file is by definition trusted and the limit is unnecessary.\n",
              "\n",
              "Parameters\n",
              "----------\n",
              "fid : file or str\n",
              "    The zipped archive to open. This is either a file-like object\n",
              "    or a string containing the path to the archive.\n",
              "own_fid : bool, optional\n",
              "    Whether NpzFile should close the file handle.\n",
              "    Requires that `fid` is a file-like object.\n",
              "\n",
              "Examples\n",
              "--------\n",
              "&gt;&gt;&gt; from tempfile import TemporaryFile\n",
              "&gt;&gt;&gt; outfile = TemporaryFile()\n",
              "&gt;&gt;&gt; x = np.arange(10)\n",
              "&gt;&gt;&gt; y = np.sin(x)\n",
              "&gt;&gt;&gt; np.savez(outfile, x=x, y=y)\n",
              "&gt;&gt;&gt; _ = outfile.seek(0)\n",
              "\n",
              "&gt;&gt;&gt; npz = np.load(outfile)\n",
              "&gt;&gt;&gt; isinstance(npz, np.lib.npyio.NpzFile)\n",
              "True\n",
              "&gt;&gt;&gt; npz\n",
              "NpzFile &#x27;object&#x27; with keys x, y\n",
              "&gt;&gt;&gt; sorted(npz.files)\n",
              "[&#x27;x&#x27;, &#x27;y&#x27;]\n",
              "&gt;&gt;&gt; npz[&#x27;x&#x27;]  # getitem access\n",
              "array([0, 1, 2, 3, 4, 5, 6, 7, 8, 9])\n",
              "&gt;&gt;&gt; npz.f.x  # attribute lookup\n",
              "array([0, 1, 2, 3, 4, 5, 6, 7, 8, 9])</pre>\n",
              "      <script>\n",
              "      if (google.colab.kernel.accessAllowed && google.colab.files && google.colab.files.view) {\n",
              "        for (const element of document.querySelectorAll('.filepath')) {\n",
              "          element.style.display = 'block'\n",
              "          element.onclick = (event) => {\n",
              "            event.preventDefault();\n",
              "            event.stopPropagation();\n",
              "            google.colab.files.view(element.textContent, 106);\n",
              "          };\n",
              "        }\n",
              "      }\n",
              "      for (const element of document.querySelectorAll('.function-repr-contents')) {\n",
              "        element.onclick = (event) => {\n",
              "          event.preventDefault();\n",
              "          event.stopPropagation();\n",
              "          element.classList.toggle('function-repr-contents-collapsed');\n",
              "        };\n",
              "      }\n",
              "      </script>\n",
              "      </div>"
            ]
          },
          "metadata": {},
          "execution_count": 192
        }
      ]
    },
    {
      "cell_type": "code",
      "source": [
        "list(my_arrays.keys())"
      ],
      "metadata": {
        "colab": {
          "base_uri": "https://localhost:8080/"
        },
        "id": "C1SJIBmIX0yS",
        "outputId": "2b9ea12d-d247-4edc-f151-b11a77f0e3c1"
      },
      "execution_count": 193,
      "outputs": [
        {
          "output_type": "execute_result",
          "data": {
            "text/plain": [
              "['my_a', 'my_b']"
            ]
          },
          "metadata": {},
          "execution_count": 193
        }
      ]
    },
    {
      "cell_type": "code",
      "source": [
        "my_arrays[\"my_a\"]"
      ],
      "metadata": {
        "colab": {
          "base_uri": "https://localhost:8080/"
        },
        "id": "T1acIA-nX4YA",
        "outputId": "4dac133e-deee-4ea2-9254-71ad95314525"
      },
      "execution_count": 194,
      "outputs": [
        {
          "output_type": "execute_result",
          "data": {
            "text/plain": [
              "array([[ 1.22003935, -0.16294725, -0.49263105],\n",
              "       [-1.17282268, -0.0983001 , -0.85635857]])"
            ]
          },
          "metadata": {},
          "execution_count": 194
        }
      ]
    },
    {
      "cell_type": "code",
      "source": [
        "my_arrays[\"my_b\"]"
      ],
      "metadata": {
        "colab": {
          "base_uri": "https://localhost:8080/"
        },
        "id": "7C3b7zSeX7F2",
        "outputId": "5c5eff3b-f80a-44c0-8ba6-6ae5baf43c0e"
      },
      "execution_count": 195,
      "outputs": [
        {
          "output_type": "execute_result",
          "data": {
            "text/plain": [
              "array([1, 4, 5, 6, 0])"
            ]
          },
          "metadata": {},
          "execution_count": 195
        }
      ]
    },
    {
      "cell_type": "code",
      "source": [],
      "metadata": {
        "id": "6SDt3KbhX8vG"
      },
      "execution_count": null,
      "outputs": []
    }
  ]
}