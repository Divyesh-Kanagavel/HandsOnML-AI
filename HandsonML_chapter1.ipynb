{
  "nbformat": 4,
  "nbformat_minor": 0,
  "metadata": {
    "colab": {
      "provenance": []
    },
    "kernelspec": {
      "name": "python3",
      "display_name": "Python 3"
    },
    "language_info": {
      "name": "python"
    }
  },
  "cells": [
    {
      "cell_type": "markdown",
      "source": [
        "Question 1: How would you define machine learning?\n",
        "\n",
        "Answer : Machine learning is the science (and art) of programming computers so they\n",
        "can learn from data.\n",
        "My favourite definition : A computer program is said to learn from experience E with respect to\n",
        "some task T and some performance measure P, if its performance on T, as\n",
        "measured by P, improves with experience E. [More explicit and engineering-oriented]"
      ],
      "metadata": {
        "id": "nf45lAlJDsqe"
      }
    },
    {
      "cell_type": "markdown",
      "source": [
        "Question 2 : Can you name four types of applications where it shines ?\n",
        "\n",
        "Answer : 1.Problems for which existing solutions require a lot of fine-tuning or long lists of rules (a machine learning model can often simplify code and\n",
        "perform better than the traditional approach).\n",
        "2. Complex problems for which using a traditional approach yields no\n",
        "good solution (the best machine learning techniques can perhaps find a\n",
        "solution)\n",
        "3.Fluctuating environments (a machine learning system can easily be\n",
        "retrained on new data, always keeping it up to date)\n",
        "4. Getting insights about complex problems and large amounts of data"
      ],
      "metadata": {
        "id": "6kp3oX8PDv30"
      }
    },
    {
      "cell_type": "markdown",
      "source": [
        "Question 3: What is a labeled training set?\n",
        "\n",
        "Answer : The training data set which has the inputs to the model along with the corresponding correct target output called the label is called labeled training set. [used in supervised learning]"
      ],
      "metadata": {
        "id": "SVIJbh9oDWTu"
      }
    },
    {
      "cell_type": "markdown",
      "source": [
        "Question 4 : What are the two most common supervised tasks ?\n",
        "\n",
        "Answer : Two of the most common supervised tasks are Regression and Classification"
      ],
      "metadata": {
        "id": "rOHMYjXuFILU"
      }
    },
    {
      "cell_type": "markdown",
      "source": [
        "Question 5 : Can you name four common unsupervised tasks?\n",
        "\n",
        "Answer : A. Clustering\n",
        "B. Dimensionality Reduction\n",
        "C. Anomaly detection\n",
        "D. Association Rule Learning\n"
      ],
      "metadata": {
        "id": "Zrm3ePz0FKsL"
      }
    },
    {
      "cell_type": "markdown",
      "source": [
        "Question 6 : What type of algorithm would you use to allow a robot to walk in\n",
        "various unknown terrains?\n",
        "\n",
        "Answer : Reinforcement Learning\n",
        "\n"
      ],
      "metadata": {
        "id": "LncnX3qHFKw9"
      }
    },
    {
      "cell_type": "markdown",
      "source": [
        "Question 7: What type of algorithm would you use to segment your customers into\n",
        "multiple groups?\n",
        "\n",
        "Answer : Clustering algorithm (Unsupervised learning)"
      ],
      "metadata": {
        "id": "TL-k1QR9GQhW"
      }
    },
    {
      "cell_type": "markdown",
      "source": [
        "Question 8 : Would you frame the problem of spam detection as a supervised\n",
        "learning problem or an unsupervised learning problem?\n",
        "\n",
        "Answer : Spam detection is a supervised learning problem as the correct label is provided with the data for the algorithm to learn the patterns."
      ],
      "metadata": {
        "id": "joTTY7xjGWrl"
      }
    },
    {
      "cell_type": "markdown",
      "source": [
        "Question 9 : What is an online learning system?\n",
        "\n",
        "Answer : An online learning system is a machine learning system which learns the patterns in the training set incrementally on the fly . It is particularly useful in applications\n",
        "which deal with real-time data like stock market prediction. Also, this has the benefit of working well with systems having memory and runtime constraints"
      ],
      "metadata": {
        "id": "i1HEYE4tG7H9"
      }
    },
    {
      "cell_type": "markdown",
      "source": [
        "Question 10 : What is out-of-core learning?\n",
        "\n",
        "Answer : Huge datasets cannot fit in the machine's memory for batch learning , Hence the learning is done incrementally taking example one by one and hence it is called out-of-core learning."
      ],
      "metadata": {
        "id": "Q2gL3SZ_HJV9"
      }
    },
    {
      "cell_type": "markdown",
      "source": [
        "Question 11 : What type of algorithm relies on a similarity measure to make\n",
        "predictions?\n",
        "\n",
        "Answer : Instance-based learning relies on similarity measure to make predictions"
      ],
      "metadata": {
        "id": "IOZ54eSkHmWW"
      }
    },
    {
      "cell_type": "markdown",
      "source": [
        "Question 12 : What is the difference between a model parameter and a model\n",
        "hyperparameter?\n",
        "\n",
        "Answer : Model parameter is a value which is learned during training based on the patterns in training dataset, where as hyperparameter is a value which decides the model architecture (it is not learned during training, instead it is set before training)"
      ],
      "metadata": {
        "id": "hgEz-IgpHzIu"
      }
    },
    {
      "cell_type": "markdown",
      "source": [
        "Question 13 : What do model-based algorithms search for? What is the most common\n",
        "strategy they use to succeed? How do they make predictions?\n",
        "\n",
        "Answer : Model-based algorithms search for patterns in the training data so that the pattern learned can be generalized well on data during model inference. The common strategy is to choose a model architecture based on the data available (some assumptions are made about the data), and the model is set with some default parameters initially. Then, crunching the training data available, the model parameters are tuned to learn the patterns. Once the patterns are learned through the training data set, they make predictions on the data not seen during training\n"
      ],
      "metadata": {
        "id": "GunQZz4LMKcm"
      }
    },
    {
      "cell_type": "markdown",
      "source": [
        "Question 14 : Can you name four of the main challenges in machine learning?\n",
        "\n",
        "Answer : A. Insufficient Quantity of Training Data\n",
        "B. Nonrepresentative Training Data\n",
        "C. Poor-Quality Data\n",
        "D. Irrelevant Features\n"
      ],
      "metadata": {
        "id": "SKEmiRLvMyDH"
      }
    },
    {
      "cell_type": "markdown",
      "source": [
        "Question 15 : If your model performs great on the training data but generalizes poorly to new instances, what is happening? Can you name three possible\n",
        "solutions?\n",
        "\n",
        "Answer : The model is overfitting the data\n",
        "Three possible solutions : a. Regularization b. Use more data c. Reduce noise in the data [Outliers etc]"
      ],
      "metadata": {
        "id": "K3H4ljTnNMOc"
      }
    },
    {
      "cell_type": "markdown",
      "source": [
        "Question 16 : What is a test set, and why would you want to use it?\n",
        "\n",
        "Answer : After training, to determine whether the model has been trained well enough to generalize on new data, it is important to keep aside a part of data for testing the model out, else the model can be tested only during deployment and this might lead to bad feedback from the clients."
      ],
      "metadata": {
        "id": "MACpeinENl2_"
      }
    },
    {
      "cell_type": "markdown",
      "source": [
        "Question 17 : What is the purpose of a validation set?\n",
        "\n",
        "Answer : In order to search through the hyperparameter space to find the best model for the application, a different variety of models might have to be tested on the test set - this gives rise to a new problem, the model then has been made to work well for the given test set and might still generalize badly during deployment. In order to choose the right hyperparemeter and model configuration, one more chunk of data from the training set is set aside called the validation set on which the hyperparameter tuning experiments are conducted."
      ],
      "metadata": {
        "id": "uf3z26DTN4-u"
      }
    },
    {
      "cell_type": "markdown",
      "source": [
        "Question 18 : What is the train-dev set, when do you need it, and how do you use it?\n",
        "\n",
        "Answer  : when a model performs poorly on test set and validation set, it could be due to overfitting or data mismatch between data used during training and testing. To figure out the reason for mismatch, a chunk of data from the training set called the train-dev set is used to check if the overfitting problem exists and only when the problem is solved, the data is tested on validation set.If the model performs poorly now, then it means that there is a mismatch on the data between training set and test set."
      ],
      "metadata": {
        "id": "YTwZ2JsjOexW"
      }
    },
    {
      "cell_type": "markdown",
      "source": [
        "Question 19 : What can go wrong if you tune hyperparameters using the test set?\n",
        "\n",
        "Answer : Answered in question 17 as part of validation test definition"
      ],
      "metadata": {
        "id": "DSogv6ESPAzm"
      }
    }
  ]
}